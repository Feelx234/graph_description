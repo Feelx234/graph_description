{
 "cells": [
  {
   "cell_type": "code",
   "execution_count": 1,
   "id": "0e021d05-375b-4bb6-9af9-55d2f241ee50",
   "metadata": {},
   "outputs": [],
   "source": [
    "from graph_description.torch_datasets import Planetoid\n",
    "from graph_description.utils import get_dataset_folder\n",
    "import numpy as np"
   ]
  },
  {
   "cell_type": "code",
   "execution_count": 2,
   "id": "7ceb4fd0-d00a-4909-ab69-9b56814953e8",
   "metadata": {},
   "outputs": [
    {
     "data": {
      "text/plain": [
       "WindowsPath('E:/projects/graph_description/datasets')"
      ]
     },
     "execution_count": 2,
     "metadata": {},
     "output_type": "execute_result"
    }
   ],
   "source": [
    "folder = get_dataset_folder()\n",
    "folder"
   ]
  },
  {
   "cell_type": "code",
   "execution_count": 3,
   "id": "6404d570-0983-4da6-bbe6-cdf3ce119ee8",
   "metadata": {},
   "outputs": [],
   "source": [
    "force_reload = False"
   ]
  },
  {
   "cell_type": "code",
   "execution_count": 4,
   "id": "bd5f2c04-01fd-4cbc-81d6-caef4471219b",
   "metadata": {},
   "outputs": [],
   "source": [
    "x = Planetoid(folder, \"citeseer\", force_reload=force_reload)"
   ]
  },
  {
   "cell_type": "code",
   "execution_count": 5,
   "id": "46d8f6ad-57ed-480f-8858-d3d4a3545292",
   "metadata": {},
   "outputs": [
    {
     "data": {
      "text/plain": [
       "Data(x=array([[0., 0., 0., ..., 0., 0., 0.],\n",
       "       [0., 0., 0., ..., 0., 0., 0.],\n",
       "       [0., 0., 0., ..., 0., 0., 0.],\n",
       "       ...,\n",
       "       [0., 0., 0., ..., 0., 0., 0.],\n",
       "       [0., 0., 0., ..., 0., 0., 0.],\n",
       "       [0., 0., 0., ..., 0., 0., 0.]]), y=array([3, 1, 5, ..., 3, 1, 5], dtype=int64), edge_index=array([[   0,    1,    1, ..., 3324, 3325, 3326],\n",
       "       [ 628,  158,  486, ..., 2820, 1643,   33]]), train_mask=array([ True,  True,  True, ..., False, False, False]), val_mask=array([False, False, False, ..., False, False, False]), test_mask=array([False, False, False, ...,  True,  True,  True]))"
      ]
     },
     "execution_count": 5,
     "metadata": {},
     "output_type": "execute_result"
    }
   ],
   "source": [
    "x._data"
   ]
  },
  {
   "cell_type": "code",
   "execution_count": 6,
   "id": "16b0e67a-4886-439e-b531-cfae3d5aa9bf",
   "metadata": {},
   "outputs": [],
   "source": [
    "y = Planetoid(folder, \"pubmed\", force_reload=force_reload)"
   ]
  },
  {
   "cell_type": "code",
   "execution_count": 7,
   "id": "874bc54f-798b-4732-9bca-c0c0442b4bb0",
   "metadata": {},
   "outputs": [
    {
     "data": {
      "text/plain": [
       "Data(x=array([[0.        , 0.        , 0.        , ..., 0.        , 0.        ,\n",
       "        0.        ],\n",
       "       [0.        , 0.        , 0.        , ..., 0.        , 0.        ,\n",
       "        0.        ],\n",
       "       [0.10463634, 0.        , 0.        , ..., 0.        , 0.        ,\n",
       "        0.        ],\n",
       "       ...,\n",
       "       [0.        , 0.01942665, 0.0079607 , ..., 0.        , 0.        ,\n",
       "        0.        ],\n",
       "       [0.10782092, 0.        , 0.        , ..., 0.        , 0.        ,\n",
       "        0.        ],\n",
       "       [0.        , 0.02658384, 0.        , ..., 0.        , 0.        ,\n",
       "        0.        ]]), y=array([1, 1, 0, ..., 2, 0, 2], dtype=int64), edge_index=array([[    0,     0,     0, ..., 19714, 19715, 19716],\n",
       "       [ 1378,  1544,  6092, ..., 12278,  4284, 16030]]), train_mask=array([ True,  True,  True, ..., False, False, False]), val_mask=array([False, False, False, ..., False, False, False]), test_mask=array([False, False, False, ...,  True,  True,  True]))"
      ]
     },
     "execution_count": 7,
     "metadata": {},
     "output_type": "execute_result"
    }
   ],
   "source": [
    "y._data"
   ]
  },
  {
   "cell_type": "code",
   "execution_count": 8,
   "id": "78b4efdd-0959-4584-aa49-7095647a427f",
   "metadata": {},
   "outputs": [],
   "source": [
    "z = Planetoid(folder, \"Cora\", force_reload=force_reload)"
   ]
  },
  {
   "cell_type": "code",
   "execution_count": 9,
   "id": "6c755ffa-8315-41e1-9ea9-c74fe50f4bbe",
   "metadata": {},
   "outputs": [
    {
     "data": {
      "text/plain": [
       "Data(x=array([[0., 0., 0., ..., 0., 0., 0.],\n",
       "       [0., 0., 0., ..., 0., 0., 0.],\n",
       "       [0., 0., 0., ..., 0., 0., 0.],\n",
       "       ...,\n",
       "       [0., 0., 0., ..., 0., 0., 0.],\n",
       "       [0., 0., 0., ..., 0., 0., 0.],\n",
       "       [0., 0., 0., ..., 0., 0., 0.]]), y=array([3, 4, 4, ..., 3, 3, 3], dtype=int64), edge_index=array([[   0,    0,    0, ..., 2707, 2707, 2707],\n",
       "       [ 633, 1862, 2582, ...,  598, 1473, 2706]]), train_mask=array([ True,  True,  True, ..., False, False, False]), val_mask=array([False, False, False, ..., False, False, False]), test_mask=array([False, False, False, ...,  True,  True,  True]))"
      ]
     },
     "execution_count": 9,
     "metadata": {},
     "output_type": "execute_result"
    }
   ],
   "source": [
    "z._data"
   ]
  },
  {
   "cell_type": "code",
   "execution_count": 10,
   "id": "2c626469-900d-41ae-891a-d9378bda3ded",
   "metadata": {},
   "outputs": [
    {
     "data": {
      "text/plain": [
       "array([351, 217, 418, 818, 426, 298, 180], dtype=int64)"
      ]
     },
     "execution_count": 10,
     "metadata": {},
     "output_type": "execute_result"
    }
   ],
   "source": [
    "np.bincount(z._data.y)"
   ]
  },
  {
   "cell_type": "code",
   "execution_count": null,
   "id": "140b85a4-f4b3-4859-a575-280da3d0263d",
   "metadata": {},
   "outputs": [],
   "source": []
  }
 ],
 "metadata": {
  "kernelspec": {
   "display_name": "Python 3 (ipykernel)",
   "language": "python",
   "name": "python3"
  },
  "language_info": {
   "codemirror_mode": {
    "name": "ipython",
    "version": 3
   },
   "file_extension": ".py",
   "mimetype": "text/x-python",
   "name": "python",
   "nbconvert_exporter": "python",
   "pygments_lexer": "ipython3",
   "version": "3.10.11"
  }
 },
 "nbformat": 4,
 "nbformat_minor": 5
}
