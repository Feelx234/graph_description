{
 "cells": [
  {
   "cell_type": "code",
   "execution_count": 1,
   "id": "5671a78f-d11c-4a41-af81-f5373bb248b5",
   "metadata": {},
   "outputs": [],
   "source": [
    "import optuna"
   ]
  },
  {
   "cell_type": "code",
   "execution_count": 2,
   "id": "9ff8296e-66cb-487d-991e-60bf3234003a",
   "metadata": {},
   "outputs": [],
   "source": [
    "from pathlib import Path\n",
    "import numpy as np\n",
    "import pandas as pd"
   ]
  },
  {
   "cell_type": "code",
   "execution_count": 3,
   "id": "ff933d3d-3068-4723-be6d-2e3d9e1334b7",
   "metadata": {},
   "outputs": [],
   "source": [
    "from graph_description.training_utils import my_accuracy, LinearScheduler, ExponentialScheduler"
   ]
  },
  {
   "cell_type": "code",
   "execution_count": 4,
   "id": "4560e67d-3ad0-4834-9922-21058a6c4f47",
   "metadata": {},
   "outputs": [],
   "source": [
    "prefix = \"../\""
   ]
  },
  {
   "cell_type": "code",
   "execution_count": 5,
   "id": "08819a2c-fbae-4cbb-b045-889ebd1dc800",
   "metadata": {},
   "outputs": [],
   "source": [
    "train_per_class = 50\n",
    "round = 0\n",
    "dataset=\"citeseer\""
   ]
  },
  {
   "cell_type": "code",
   "execution_count": 6,
   "id": "552c4981-2921-4b24-b77a-52ca65e2e393",
   "metadata": {},
   "outputs": [],
   "source": [
    "input = [Path(prefix+f\"/snakemake_base/splits/{dataset}_planetoid/{train_per_class}_500_rest_0.npz\").resolve().absolute(),\n",
    "         Path(prefix+f\"snakemake_base/aggregated_datasets/{dataset}_planetoid_{round}_dense.pkl\").resolve().absolute()]"
   ]
  },
  {
   "cell_type": "code",
   "execution_count": 7,
   "id": "417d69a1-d50d-4ab0-a960-1d5557867322",
   "metadata": {},
   "outputs": [
    {
     "name": "stdout",
     "output_type": "stream",
     "text": [
      "(3327, 3704)\n"
     ]
    }
   ],
   "source": [
    "splits = np.load(input[0])\n",
    "train_mask = splits[\"train_mask\"]\n",
    "val_mask = splits[\"val_mask\"]\n",
    "\n",
    "df  = pd.read_pickle(input[1])\n",
    "train_df = df[train_mask]\n",
    "#print(\"number_of_columns\", len(df.columns))\n",
    "X_train = train_df.drop(\"labels\", axis=1)\n",
    "\n",
    "y_train = train_df[\"labels\"]\n",
    "print(df.shape)"
   ]
  },
  {
   "cell_type": "code",
   "execution_count": 8,
   "id": "54f2579d-158a-4238-884d-12682c2a7e0a",
   "metadata": {},
   "outputs": [],
   "source": [
    "from sklearn.linear_model import SGDClassifier\n",
    "from sklearn.linear_model._stochastic_gradient import DEFAULT_EPSILON, MAX_INT, _prepare_fit_binary, _get_plain_sgd_function\n",
    "from sklearn.base import clone\n",
    "from sklearn.utils import check_random_state, compute_class_weight, deprecated\n",
    "from sklearn.utils.parallel import Parallel, delayed\n",
    "from sklearn.linear_model._base import make_dataset\n",
    "\n",
    "class SGDClassifierFixedSplit(SGDClassifier):\n",
    "    def __init__(\n",
    "        self,\n",
    "        validation_mask,\n",
    "        loss=\"hinge\",\n",
    "        *,\n",
    "        penalty=\"l2\",\n",
    "        alpha=0.0001,\n",
    "        l1_ratio=0.15,\n",
    "        fit_intercept=True,\n",
    "        max_iter=1000,\n",
    "        tol=1e-3,\n",
    "        shuffle=True,\n",
    "        verbose=0,\n",
    "        epsilon=DEFAULT_EPSILON,\n",
    "        n_jobs=None,\n",
    "        random_state=None,\n",
    "        learning_rate=\"optimal\",\n",
    "        eta0=0.0,\n",
    "        power_t=0.5,\n",
    "        early_stopping=False,\n",
    "        n_iter_no_change=5,\n",
    "        class_weight=None,\n",
    "        warm_start=False,\n",
    "        average=False,\n",
    "    ):\n",
    "        self.validation_mask=validation_mask\n",
    "        super().__init__(\n",
    "            loss=loss,\n",
    "            penalty=penalty,\n",
    "            alpha=alpha,\n",
    "            l1_ratio=l1_ratio,\n",
    "            fit_intercept=fit_intercept,\n",
    "            max_iter=max_iter,\n",
    "            tol=tol,\n",
    "            shuffle=shuffle,\n",
    "            verbose=verbose,\n",
    "            epsilon=epsilon,\n",
    "            n_jobs=n_jobs,\n",
    "            random_state=random_state,\n",
    "            learning_rate=learning_rate,\n",
    "            eta0=eta0,\n",
    "            power_t=power_t,\n",
    "            early_stopping=early_stopping,\n",
    "            validation_fraction=0,\n",
    "            n_iter_no_change=n_iter_no_change,\n",
    "            class_weight=class_weight,\n",
    "            warm_start=warm_start,\n",
    "            average=average,\n",
    "        )\n",
    "\n",
    "    def _make_validation_split(self, y, sample_mask):\n",
    "        return self.validation_mask\n",
    "\n",
    "    def _make_validation_score_cb(\n",
    "            self, validation_mask, X, y, sample_weight, classes=None\n",
    "        ):\n",
    "            if not self.early_stopping:\n",
    "                return None\n",
    "    \n",
    "            return _ValidationScoreCallback(\n",
    "                self,\n",
    "                X[validation_mask],\n",
    "                y[validation_mask],\n",
    "                sample_weight[validation_mask],\n",
    "                classes=classes,\n",
    "            )\n",
    "\n",
    "\n",
    "\n",
    "\n",
    "    def _fit_multiclass(self, X, y, alpha, C, learning_rate, sample_weight, max_iter):\n",
    "        \"\"\"Fit a multi-class classifier by combining binary classifiers\n",
    "\n",
    "        Each binary classifier predicts one class versus all others. This\n",
    "        strategy is called OvA (One versus All) or OvR (One versus Rest).\n",
    "        \"\"\"\n",
    "        # Precompute the validation split using the multiclass labels\n",
    "        # to ensure proper balancing of the classes.\n",
    "        validation_mask = self._make_validation_split(y, sample_mask=sample_weight > 0)\n",
    "\n",
    "        # Use joblib to fit OvA in parallel.\n",
    "        # Pick the random seed for each job outside of fit_binary to avoid\n",
    "        # sharing the estimator random state between threads which could lead\n",
    "        # to non-deterministic behavior\n",
    "        random_state = check_random_state(self.random_state)\n",
    "        seeds = random_state.randint(MAX_INT, size=len(self.classes_))\n",
    "        result = Parallel(\n",
    "            n_jobs=self.n_jobs, verbose=self.verbose, require=\"sharedmem\"\n",
    "        )(\n",
    "            delayed(fit_binary)(\n",
    "                self,\n",
    "                i,\n",
    "                X,\n",
    "                y,\n",
    "                alpha,\n",
    "                C,\n",
    "                learning_rate,\n",
    "                max_iter,\n",
    "                self._expanded_class_weight[i],\n",
    "                1.0,\n",
    "                sample_weight,\n",
    "                validation_mask=validation_mask,\n",
    "                random_state=seed,\n",
    "            )\n",
    "            for i, seed in enumerate(seeds)\n",
    "        )\n",
    "\n",
    "        # take the maximum of n_iter_ over every binary fit\n",
    "        n_iter_ = 0.0\n",
    "        for i, (_, intercept, n_iter_i) in enumerate(result):\n",
    "            self.intercept_[i] = intercept\n",
    "            n_iter_ = max(n_iter_, n_iter_i)\n",
    "\n",
    "        self.t_ += n_iter_ * X.shape[0]\n",
    "        self.n_iter_ = n_iter_\n",
    "\n",
    "        if self.average > 0:\n",
    "            if self.average <= self.t_ - 1.0:\n",
    "                self.coef_ = self._average_coef\n",
    "                self.intercept_ = self._average_intercept\n",
    "            else:\n",
    "                self.coef_ = self._standard_coef\n",
    "                self._standard_intercept = np.atleast_1d(self.intercept_)\n",
    "                self.intercept_ = self._standard_intercept"
   ]
  },
  {
   "cell_type": "code",
   "execution_count": 9,
   "id": "a83a33a9-a17c-47ba-a7f8-2f245cb607d1",
   "metadata": {},
   "outputs": [],
   "source": [
    "def fit_binary(\n",
    "    est,\n",
    "    i,\n",
    "    X,\n",
    "    y,\n",
    "    alpha,\n",
    "    C,\n",
    "    learning_rate,\n",
    "    max_iter,\n",
    "    pos_weight,\n",
    "    neg_weight,\n",
    "    sample_weight,\n",
    "    validation_mask=None,\n",
    "    random_state=None,\n",
    "):\n",
    "    \"\"\"Fit a single binary classifier.\n",
    "\n",
    "    The i'th class is considered the \"positive\" class.\n",
    "\n",
    "    Parameters\n",
    "    ----------\n",
    "    est : Estimator object\n",
    "        The estimator to fit\n",
    "\n",
    "    i : int\n",
    "        Index of the positive class\n",
    "\n",
    "    X : numpy array or sparse matrix of shape [n_samples,n_features]\n",
    "        Training data\n",
    "\n",
    "    y : numpy array of shape [n_samples, ]\n",
    "        Target values\n",
    "\n",
    "    alpha : float\n",
    "        The regularization parameter\n",
    "\n",
    "    C : float\n",
    "        Maximum step size for passive aggressive\n",
    "\n",
    "    learning_rate : str\n",
    "        The learning rate. Accepted values are 'constant', 'optimal',\n",
    "        'invscaling', 'pa1' and 'pa2'.\n",
    "\n",
    "    max_iter : int\n",
    "        The maximum number of iterations (epochs)\n",
    "\n",
    "    pos_weight : float\n",
    "        The weight of the positive class\n",
    "\n",
    "    neg_weight : float\n",
    "        The weight of the negative class\n",
    "\n",
    "    sample_weight : numpy array of shape [n_samples, ]\n",
    "        The weight of each sample\n",
    "\n",
    "    validation_mask : numpy array of shape [n_samples, ], default=None\n",
    "        Precomputed validation mask in case _fit_binary is called in the\n",
    "        context of a one-vs-rest reduction.\n",
    "\n",
    "    random_state : int, RandomState instance, default=None\n",
    "        If int, random_state is the seed used by the random number generator;\n",
    "        If RandomState instance, random_state is the random number generator;\n",
    "        If None, the random number generator is the RandomState instance used\n",
    "        by `np.random`.\n",
    "    \"\"\"\n",
    "    # if average is not true, average_coef, and average_intercept will be\n",
    "    # unused\n",
    "    y_i, coef, intercept, average_coef, average_intercept = _prepare_fit_binary(\n",
    "        est, y, i, input_dtye=X.dtype\n",
    "    )\n",
    "    assert y_i.shape[0] == y.shape[0] == sample_weight.shape[0]\n",
    "\n",
    "    random_state = check_random_state(random_state)\n",
    "    dataset, intercept_decay = make_dataset(\n",
    "        X, y_i, sample_weight, random_state=random_state\n",
    "    )\n",
    "\n",
    "    penalty_type = est._get_penalty_type(est.penalty)\n",
    "    learning_rate_type = est._get_learning_rate_type(learning_rate)\n",
    "\n",
    "    if validation_mask is None:\n",
    "        validation_mask = est._make_validation_split(y_i, sample_mask=sample_weight > 0)\n",
    "    classes = np.array([-1, 1], dtype=y_i.dtype)\n",
    "    validation_score_cb = est._make_validation_score_cb(\n",
    "        validation_mask, X, y_i, sample_weight, classes=classes\n",
    "    )\n",
    "\n",
    "    # numpy mtrand expects a C long which is a signed 32 bit integer under\n",
    "    # Windows\n",
    "    seed = random_state.randint(MAX_INT)\n",
    "\n",
    "    tol = est.tol if est.tol is not None else -np.inf\n",
    "\n",
    "    _plain_sgd = _get_plain_sgd_function(input_dtype=coef.dtype)\n",
    "    coef, intercept_out, average_coef, average_intercept, n_iter_ = _plain_sgd(\n",
    "        coef,\n",
    "        intercept,\n",
    "        average_coef,\n",
    "        average_intercept,\n",
    "        est._loss_function_,\n",
    "        penalty_type,\n",
    "        alpha,\n",
    "        C,\n",
    "        est.l1_ratio,\n",
    "        dataset,\n",
    "        validation_mask,\n",
    "        est.early_stopping,\n",
    "        validation_score_cb,\n",
    "        int(est.n_iter_no_change),\n",
    "        max_iter,\n",
    "        tol,\n",
    "        int(est.fit_intercept),\n",
    "        int(est.verbose),\n",
    "        int(est.shuffle),\n",
    "        seed,\n",
    "        pos_weight,\n",
    "        neg_weight,\n",
    "        learning_rate_type,\n",
    "        est.eta0,\n",
    "        est.power_t,\n",
    "        0,\n",
    "        est.t_,\n",
    "        intercept_decay,\n",
    "        est.average,\n",
    "    )\n",
    "    if est.verbose>=2:\n",
    "        print(f\"best epoch was epoch {validation_score_cb.best_call} of {n_iter_} epochs. Best score was {validation_score_cb.best_score}\")\n",
    "\n",
    "        #print(validation_score_cb(coef, intercept_out), validation_score_cb(validation_score_cb.best_coef_, validation_score_cb.best_intercept_))\n",
    "        #print(validation_score_cb.best_intercept_)\n",
    "    \n",
    "    coef[:]=validation_score_cb.best_coef_[:]\n",
    "    intercept=validation_score_cb.best_intercept_[0]\n",
    "\n",
    "    if est.average:\n",
    "        if len(est.classes_) == 2:\n",
    "            est._average_intercept[0] = average_intercept\n",
    "        else:\n",
    "            est._average_intercept[i] = average_intercept\n",
    "\n",
    "    return coef, intercept, n_iter_"
   ]
  },
  {
   "cell_type": "code",
   "execution_count": 27,
   "id": "bba4a80e-a18e-4d02-8173-4d8512ffb488",
   "metadata": {},
   "outputs": [],
   "source": [
    "class _ValidationScoreCallback:\n",
    "    \"\"\"Callback for early stopping based on validation score\"\"\"\n",
    "\n",
    "    def __init__(self, estimator, X_val, y_val, sample_weight_val, classes=None, verbose=False):\n",
    "        self.estimator = clone(estimator)\n",
    "        self.estimator.t_ = 1  # to pass check_is_fitted\n",
    "        if classes is not None:\n",
    "            self.estimator.classes_ = classes\n",
    "        self.X_val = X_val\n",
    "        self.y_val = y_val\n",
    "        self.sample_weight_val = sample_weight_val\n",
    "        self.best_score=-1\n",
    "        self.best_coef_ = None\n",
    "        self.best_intercept_ = None\n",
    "        self.verbose=verbose\n",
    "        self.num_calls = 0\n",
    "        self.best_call = -1\n",
    "\n",
    "    def __call__(self, coef, intercept):\n",
    "        est = self.estimator\n",
    "        #print(type(est.coef_))\n",
    "        est.coef_ = coef.reshape(1, -1)\n",
    "        est.intercept_ = np.atleast_1d(intercept)\n",
    "        score =  est.score(self.X_val, self.y_val, self.sample_weight_val)\n",
    "        if score > self.best_score:\n",
    "            if self.verbose>=3:\n",
    "                print(\"new_best_score\", score)\n",
    "            self.best_score=score\n",
    "            self.best_call=self.num_calls\n",
    "            if self.best_coef_ is None:\n",
    "                self.best_coef_ = coef.reshape(1, -1).copy()\n",
    "            else:\n",
    "                self.best_coef_[:] = coef.reshape(1, -1)\n",
    "            if self.best_intercept_ is None:\n",
    "                self.best_intercept_ =  np.atleast_1d(intercept).copy()\n",
    "            else:\n",
    "                self.best_intercept_[:] =  np.atleast_1d(intercept)\n",
    "        self.num_calls+=1\n",
    "        return score"
   ]
  },
  {
   "cell_type": "code",
   "execution_count": 10,
   "id": "1e221554-b4e7-4715-b67f-4910a6e90a6d",
   "metadata": {},
   "outputs": [
    {
     "name": "stdout",
     "output_type": "stream",
     "text": [
      "None\n",
      "None\n",
      "None\n",
      "None\n"
     ]
    }
   ],
   "source": [
    "import os\n",
    "print(os.environ.get('OMP_NUM_THREADS'))\n",
    "print(os.environ.get('MKL_NUM_THREADS'))\n",
    "print(os.environ.get('OPENBLAS_NUM_THREADS'))\n",
    "print(os.environ.get('BLIS_NUM_THREADS'))"
   ]
  },
  {
   "cell_type": "code",
   "execution_count": 11,
   "id": "3dd898ba-35b9-4098-9673-09113a6032eb",
   "metadata": {},
   "outputs": [],
   "source": [
    "def load_dataset_splitted(path_splits, path_df, return_train=True, return_val=True, return_test=False, return_full=False):\n",
    "    splits = np.load(input[0])\n",
    "    df  = pd.read_pickle(input[1])\n",
    "\n",
    "    def get_by_split(split_name):\n",
    "        mask = splits[split_name]\n",
    "        mask_df = df[mask]\n",
    "        X = mask_df.drop(\"labels\", axis=1)\n",
    "        y = mask_df[\"labels\"]\n",
    "        return X, y\n",
    "\n",
    "    out = tuple()\n",
    "    if return_train:\n",
    "        out += get_by_split(\"train_mask\")\n",
    "    if return_val:\n",
    "        out += get_by_split(\"val_mask\")\n",
    "    if return_test:\n",
    "        out += get_by_split(\"test_mask\")\n",
    "    if return_full:\n",
    "        out +=(df,)\n",
    "    return out"
   ]
  },
  {
   "cell_type": "code",
   "execution_count": 12,
   "id": "b9e0a0bd-9ee6-4432-904c-33bcfd4424b7",
   "metadata": {},
   "outputs": [],
   "source": [
    "(X_train, y_train, X_val, y_val)=load_dataset_splitted(input[0], input[1])"
   ]
  },
  {
   "cell_type": "code",
   "execution_count": 13,
   "id": "22ad22ce-dc56-48f9-b088-4eb2ff88a4d3",
   "metadata": {},
   "outputs": [],
   "source": [
    "# sklearn expects a unified train/val dataset\n",
    "X_train_val = pd.concat((X_train, X_val), axis=0)\n",
    "y_train_val  = pd.concat((y_train, y_val), axis=0)\n",
    "\n",
    "sklearn_val_mask = np.hstack( (np.zeros(len(y_train),dtype=bool),  np.ones(len(y_val),dtype=bool)) )"
   ]
  },
  {
   "cell_type": "code",
   "execution_count": null,
   "id": "ac9cbb78-d6dc-4654-9991-542043c2f23b",
   "metadata": {},
   "outputs": [],
   "source": []
  },
  {
   "cell_type": "code",
   "execution_count": 14,
   "id": "03d39dd0-f81e-4de7-8005-c0e80caf1d3e",
   "metadata": {},
   "outputs": [],
   "source": [
    "num_classes = len(np.bincount(y_train))"
   ]
  },
  {
   "cell_type": "code",
   "execution_count": 15,
   "id": "cb5c414f-d95d-49ee-b7e0-3c6ca7b83d38",
   "metadata": {},
   "outputs": [],
   "source": [
    "from sklearn.metrics import accuracy_score"
   ]
  },
  {
   "cell_type": "code",
   "execution_count": 16,
   "id": "1a50034b-bcc5-45d9-9e61-41ab053d1bce",
   "metadata": {},
   "outputs": [],
   "source": [
    "import warnings\n",
    "warnings.filterwarnings(\"ignore\", message=\"invalid value encountered in scalar subtract\")\n",
    "warnings.filterwarnings(\"ignore\", message=\"overflow encountered in reduce\")"
   ]
  },
  {
   "cell_type": "code",
   "execution_count": 17,
   "id": "61863401-4371-47f4-9dd0-496871ed3049",
   "metadata": {},
   "outputs": [],
   "source": [
    "max_rules=10"
   ]
  },
  {
   "cell_type": "code",
   "execution_count": 18,
   "id": "fce3bf85-5369-4506-9a3f-be3e5b7be199",
   "metadata": {},
   "outputs": [],
   "source": [
    "import time"
   ]
  },
  {
   "cell_type": "code",
   "execution_count": 19,
   "id": "01608112-44c2-4377-b21e-93fdfdb64404",
   "metadata": {},
   "outputs": [],
   "source": [
    "from threadpoolctl import threadpool_limits\n",
    "from threadpoolctl import threadpool_info"
   ]
  },
  {
   "cell_type": "code",
   "execution_count": 20,
   "id": "286fcbdd-199a-42dd-b0e6-1a9450de73f1",
   "metadata": {},
   "outputs": [
    {
     "name": "stdout",
     "output_type": "stream",
     "text": [
      "[{'user_api': 'blas', 'internal_api': 'openblas', 'num_threads': 64, 'prefix': 'libopenblas', 'filepath': '/home/stamm/projects/graph_description/env/lib/python3.10/site-packages/numpy.libs/libopenblas64_p-r0-0cf96a72.3.23.dev.so', 'version': '0.3.23.dev', 'threading_layer': 'pthreads', 'architecture': 'SkylakeX'}, {'user_api': 'openmp', 'internal_api': 'openmp', 'num_threads': 64, 'prefix': 'libgomp', 'filepath': '/home/stamm/projects/graph_description/env/lib/python3.10/site-packages/scikit_learn.libs/libgomp-a34b3233.so.1.0.0', 'version': None}, {'user_api': 'blas', 'internal_api': 'openblas', 'num_threads': 64, 'prefix': 'libopenblas', 'filepath': '/home/stamm/projects/graph_description/env/lib/python3.10/site-packages/scipy.libs/libopenblasp-r0-23e5df77.3.21.dev.so', 'version': '0.3.21.dev', 'threading_layer': 'pthreads', 'architecture': 'SkylakeX'}]\n"
     ]
    }
   ],
   "source": [
    "print(threadpool_info())"
   ]
  },
  {
   "cell_type": "code",
   "execution_count": 34,
   "id": "3c3a948c-e59d-4545-b72b-9b2318566ba4",
   "metadata": {},
   "outputs": [],
   "source": [
    "def SGDClassifier_objective(trial, sklearn_val_mask):\n",
    "    loss = trial.suggest_categorical(\"loss\", [\"hinge\", \"log_loss\", \"modified_huber\", \"squared_hinge\", \n",
    "                                                \"perceptron\", \"squared_error\", \"huber\", \"epsilon_insensitive\",\n",
    "                                                \"squared_epsilon_insensitive\"])\n",
    "    if loss in (\"huber\", \"epsilon_insensitive\",\"squared_epsilon_insensitive\"):\n",
    "        epsilon=trial.suggest_float(\"epsilon\", 0.01, 10, log=True)\n",
    "    else:\n",
    "        epsilon=0.1\n",
    "\n",
    "    penalty = trial.suggest_categorical(\"penalty\", [\"l2\", \"l1\", \"elasticnet\"])\n",
    "    if penalty == \"elasticnet\":\n",
    "        l1_ratio = trial.suggest_float(\"l1_ratio\", 0, 1)\n",
    "    else:\n",
    "        l1_ratio=0.15\n",
    "    params = dict(\n",
    "        loss=loss,\n",
    "        penalty=penalty,\n",
    "        alpha=trial.suggest_float(\"alpha\", 1e-6, 10, log=True),\n",
    "        l1_ratio=l1_ratio,\n",
    "        tol = trial.suggest_float(\"tol\", 1e-6, 0.1, log=True),\n",
    "        epsilon=epsilon,\n",
    "        random_state=0,\n",
    "\n",
    "        early_stopping=True,\n",
    "        validation_mask=sklearn_val_mask,\n",
    "        n_iter_no_change=trial.suggest_int('n_iter_no_change',1,100),\n",
    "        verbose=False,\n",
    "    )\n",
    "    with threadpool_limits(limits=1, user_api='blas'):\n",
    "        with threadpool_limits(limits=1, user_api='openmp'):\n",
    "            print(threadpool_info())\n",
    "            clf = SGDClassifierFixedSplit(**params)\n",
    "            clf.fit(X_train_val, y_train_val)\n",
    "    prediction = clf.predict(X_val)\n",
    "    score= accuracy_score(prediction, y_val)\n",
    "    #print(\"final_score\", score)\n",
    "    return score"
   ]
  },
  {
   "cell_type": "code",
   "execution_count": 35,
   "id": "058828de-e756-4835-a289-cbaad36b1909",
   "metadata": {},
   "outputs": [],
   "source": [
    "from functools import partial\n",
    "objective = partial(SGDClassifier_objective, sklearn_val_mask=sklearn_val_mask)"
   ]
  },
  {
   "cell_type": "code",
   "execution_count": 36,
   "id": "0ea87a00-aac7-4857-9585-d2a0f6f56752",
   "metadata": {},
   "outputs": [],
   "source": [
    "import os\n",
    "try:\n",
    "    this_file = Path(__file__)\n",
    "except NameError:\n",
    "    this_file = Path(os.path.abspath(''))\n",
    "if this_file.stem in (\"notebooks\", \"scripts\"):\n",
    "    root_folder = this_file.parent\n",
    "else:\n",
    "    root_folder = this_file"
   ]
  },
  {
   "cell_type": "code",
   "execution_count": 37,
   "id": "4f2b0463-9707-4632-9436-f12411506d72",
   "metadata": {},
   "outputs": [
    {
     "name": "stdout",
     "output_type": "stream",
     "text": [
      "journal_path /home/stamm/projects/graph_description/hyper_param_journal.log\n"
     ]
    },
    {
     "name": "stderr",
     "output_type": "stream",
     "text": [
      "/tmp/ipykernel_2268610/3152554218.py:3: ExperimentalWarning: JournalStorage is experimental (supported from v3.1.0). The interface can change in the future.\n",
      "  storage = optuna.storages.JournalStorage(\n",
      "[I 2024-02-01 15:59:03,793] Using an existing study with name 'citeseer-0-50-sklearnSGDClassifier' instead of creating a new one.\n"
     ]
    }
   ],
   "source": [
    "journal_path = root_folder/\"hyper_param_journal.log\"\n",
    "print(\"journal_path\", journal_path)\n",
    "storage = optuna.storages.JournalStorage(\n",
    "    optuna.storages.JournalFileStorage(str(journal_path)),\n",
    ")\n",
    "\n",
    "study = optuna.create_study(\n",
    "    storage=storage,  # Specify the storage URL here.\n",
    "    study_name=f\"{dataset}-{round}-{train_per_class}-sklearnSGDClassifier\",\n",
    "    load_if_exists=True,\n",
    "    direction='maximize'\n",
    ")"
   ]
  },
  {
   "cell_type": "code",
   "execution_count": 38,
   "id": "01d1af5b-597a-45d2-8e38-1c32892f3efd",
   "metadata": {},
   "outputs": [
    {
     "name": "stdout",
     "output_type": "stream",
     "text": [
      "[{'user_api': 'blas', 'internal_api': 'openblas', 'num_threads': 1, 'prefix': 'libopenblas', 'filepath': '/home/stamm/projects/graph_description/env/lib/python3.10/site-packages/numpy.libs/libopenblas64_p-r0-0cf96a72.3.23.dev.so', 'version': '0.3.23.dev', 'threading_layer': 'pthreads', 'architecture': 'SkylakeX'}, {'user_api': 'openmp', 'internal_api': 'openmp', 'num_threads': 1, 'prefix': 'libgomp', 'filepath': '/home/stamm/projects/graph_description/env/lib/python3.10/site-packages/scikit_learn.libs/libgomp-a34b3233.so.1.0.0', 'version': None}, {'user_api': 'blas', 'internal_api': 'openblas', 'num_threads': 1, 'prefix': 'libopenblas', 'filepath': '/home/stamm/projects/graph_description/env/lib/python3.10/site-packages/scipy.libs/libopenblasp-r0-23e5df77.3.21.dev.so', 'version': '0.3.21.dev', 'threading_layer': 'pthreads', 'architecture': 'SkylakeX'}]\n"
     ]
    },
    {
     "name": "stderr",
     "output_type": "stream",
     "text": [
      "[I 2024-02-01 15:59:08,061] Trial 192 finished with value: 0.546 and parameters: {'loss': 'log_loss', 'penalty': 'l2', 'alpha': 0.980009892814962, 'tol': 0.00044935713597376193, 'n_iter_no_change': 64}. Best is trial 48 with value: 0.674.\n"
     ]
    },
    {
     "name": "stdout",
     "output_type": "stream",
     "text": [
      "[{'user_api': 'blas', 'internal_api': 'openblas', 'num_threads': 1, 'prefix': 'libopenblas', 'filepath': '/home/stamm/projects/graph_description/env/lib/python3.10/site-packages/numpy.libs/libopenblas64_p-r0-0cf96a72.3.23.dev.so', 'version': '0.3.23.dev', 'threading_layer': 'pthreads', 'architecture': 'SkylakeX'}, {'user_api': 'openmp', 'internal_api': 'openmp', 'num_threads': 1, 'prefix': 'libgomp', 'filepath': '/home/stamm/projects/graph_description/env/lib/python3.10/site-packages/scikit_learn.libs/libgomp-a34b3233.so.1.0.0', 'version': None}, {'user_api': 'blas', 'internal_api': 'openblas', 'num_threads': 1, 'prefix': 'libopenblas', 'filepath': '/home/stamm/projects/graph_description/env/lib/python3.10/site-packages/scipy.libs/libopenblasp-r0-23e5df77.3.21.dev.so', 'version': '0.3.21.dev', 'threading_layer': 'pthreads', 'architecture': 'SkylakeX'}]\n"
     ]
    },
    {
     "name": "stderr",
     "output_type": "stream",
     "text": [
      "[I 2024-02-01 15:59:10,611] Trial 193 finished with value: 0.66 and parameters: {'loss': 'huber', 'epsilon': 0.04813906877756914, 'penalty': 'l2', 'alpha': 0.2826633489315314, 'tol': 5.912258738220381e-06, 'n_iter_no_change': 58}. Best is trial 48 with value: 0.674.\n"
     ]
    },
    {
     "name": "stdout",
     "output_type": "stream",
     "text": [
      "[{'user_api': 'blas', 'internal_api': 'openblas', 'num_threads': 1, 'prefix': 'libopenblas', 'filepath': '/home/stamm/projects/graph_description/env/lib/python3.10/site-packages/numpy.libs/libopenblas64_p-r0-0cf96a72.3.23.dev.so', 'version': '0.3.23.dev', 'threading_layer': 'pthreads', 'architecture': 'SkylakeX'}, {'user_api': 'openmp', 'internal_api': 'openmp', 'num_threads': 1, 'prefix': 'libgomp', 'filepath': '/home/stamm/projects/graph_description/env/lib/python3.10/site-packages/scikit_learn.libs/libgomp-a34b3233.so.1.0.0', 'version': None}, {'user_api': 'blas', 'internal_api': 'openblas', 'num_threads': 1, 'prefix': 'libopenblas', 'filepath': '/home/stamm/projects/graph_description/env/lib/python3.10/site-packages/scipy.libs/libopenblasp-r0-23e5df77.3.21.dev.so', 'version': '0.3.21.dev', 'threading_layer': 'pthreads', 'architecture': 'SkylakeX'}]\n"
     ]
    },
    {
     "name": "stderr",
     "output_type": "stream",
     "text": [
      "[I 2024-02-01 15:59:13,390] Trial 194 finished with value: 0.654 and parameters: {'loss': 'log_loss', 'penalty': 'l2', 'alpha': 0.46414720557881994, 'tol': 1.564701966625357e-06, 'n_iter_no_change': 63}. Best is trial 48 with value: 0.674.\n"
     ]
    },
    {
     "name": "stdout",
     "output_type": "stream",
     "text": [
      "[{'user_api': 'blas', 'internal_api': 'openblas', 'num_threads': 1, 'prefix': 'libopenblas', 'filepath': '/home/stamm/projects/graph_description/env/lib/python3.10/site-packages/numpy.libs/libopenblas64_p-r0-0cf96a72.3.23.dev.so', 'version': '0.3.23.dev', 'threading_layer': 'pthreads', 'architecture': 'SkylakeX'}, {'user_api': 'openmp', 'internal_api': 'openmp', 'num_threads': 1, 'prefix': 'libgomp', 'filepath': '/home/stamm/projects/graph_description/env/lib/python3.10/site-packages/scikit_learn.libs/libgomp-a34b3233.so.1.0.0', 'version': None}, {'user_api': 'blas', 'internal_api': 'openblas', 'num_threads': 1, 'prefix': 'libopenblas', 'filepath': '/home/stamm/projects/graph_description/env/lib/python3.10/site-packages/scipy.libs/libopenblasp-r0-23e5df77.3.21.dev.so', 'version': '0.3.21.dev', 'threading_layer': 'pthreads', 'architecture': 'SkylakeX'}]\n"
     ]
    },
    {
     "name": "stderr",
     "output_type": "stream",
     "text": [
      "[I 2024-02-01 15:59:16,267] Trial 195 finished with value: 0.668 and parameters: {'loss': 'log_loss', 'penalty': 'l2', 'alpha': 0.25028875903703857, 'tol': 4.021192248490968e-06, 'n_iter_no_change': 68}. Best is trial 48 with value: 0.674.\n"
     ]
    },
    {
     "name": "stdout",
     "output_type": "stream",
     "text": [
      "[{'user_api': 'blas', 'internal_api': 'openblas', 'num_threads': 1, 'prefix': 'libopenblas', 'filepath': '/home/stamm/projects/graph_description/env/lib/python3.10/site-packages/numpy.libs/libopenblas64_p-r0-0cf96a72.3.23.dev.so', 'version': '0.3.23.dev', 'threading_layer': 'pthreads', 'architecture': 'SkylakeX'}, {'user_api': 'openmp', 'internal_api': 'openmp', 'num_threads': 1, 'prefix': 'libgomp', 'filepath': '/home/stamm/projects/graph_description/env/lib/python3.10/site-packages/scikit_learn.libs/libgomp-a34b3233.so.1.0.0', 'version': None}, {'user_api': 'blas', 'internal_api': 'openblas', 'num_threads': 1, 'prefix': 'libopenblas', 'filepath': '/home/stamm/projects/graph_description/env/lib/python3.10/site-packages/scipy.libs/libopenblasp-r0-23e5df77.3.21.dev.so', 'version': '0.3.21.dev', 'threading_layer': 'pthreads', 'architecture': 'SkylakeX'}]\n"
     ]
    },
    {
     "name": "stderr",
     "output_type": "stream",
     "text": [
      "[I 2024-02-01 15:59:18,841] Trial 196 finished with value: 0.666 and parameters: {'loss': 'log_loss', 'penalty': 'l2', 'alpha': 0.2008461598340967, 'tol': 2.870580876712535e-06, 'n_iter_no_change': 61}. Best is trial 48 with value: 0.674.\n"
     ]
    },
    {
     "name": "stdout",
     "output_type": "stream",
     "text": [
      "[{'user_api': 'blas', 'internal_api': 'openblas', 'num_threads': 1, 'prefix': 'libopenblas', 'filepath': '/home/stamm/projects/graph_description/env/lib/python3.10/site-packages/numpy.libs/libopenblas64_p-r0-0cf96a72.3.23.dev.so', 'version': '0.3.23.dev', 'threading_layer': 'pthreads', 'architecture': 'SkylakeX'}, {'user_api': 'openmp', 'internal_api': 'openmp', 'num_threads': 1, 'prefix': 'libgomp', 'filepath': '/home/stamm/projects/graph_description/env/lib/python3.10/site-packages/scikit_learn.libs/libgomp-a34b3233.so.1.0.0', 'version': None}, {'user_api': 'blas', 'internal_api': 'openblas', 'num_threads': 1, 'prefix': 'libopenblas', 'filepath': '/home/stamm/projects/graph_description/env/lib/python3.10/site-packages/scipy.libs/libopenblasp-r0-23e5df77.3.21.dev.so', 'version': '0.3.21.dev', 'threading_layer': 'pthreads', 'architecture': 'SkylakeX'}]\n"
     ]
    },
    {
     "name": "stderr",
     "output_type": "stream",
     "text": [
      "[I 2024-02-01 15:59:21,785] Trial 197 finished with value: 0.668 and parameters: {'loss': 'log_loss', 'penalty': 'l2', 'alpha': 0.3777608613399328, 'tol': 0.01348860776148731, 'n_iter_no_change': 70}. Best is trial 48 with value: 0.674.\n"
     ]
    },
    {
     "name": "stdout",
     "output_type": "stream",
     "text": [
      "[{'user_api': 'blas', 'internal_api': 'openblas', 'num_threads': 1, 'prefix': 'libopenblas', 'filepath': '/home/stamm/projects/graph_description/env/lib/python3.10/site-packages/numpy.libs/libopenblas64_p-r0-0cf96a72.3.23.dev.so', 'version': '0.3.23.dev', 'threading_layer': 'pthreads', 'architecture': 'SkylakeX'}, {'user_api': 'openmp', 'internal_api': 'openmp', 'num_threads': 1, 'prefix': 'libgomp', 'filepath': '/home/stamm/projects/graph_description/env/lib/python3.10/site-packages/scikit_learn.libs/libgomp-a34b3233.so.1.0.0', 'version': None}, {'user_api': 'blas', 'internal_api': 'openblas', 'num_threads': 1, 'prefix': 'libopenblas', 'filepath': '/home/stamm/projects/graph_description/env/lib/python3.10/site-packages/scipy.libs/libopenblasp-r0-23e5df77.3.21.dev.so', 'version': '0.3.21.dev', 'threading_layer': 'pthreads', 'architecture': 'SkylakeX'}]\n"
     ]
    },
    {
     "name": "stderr",
     "output_type": "stream",
     "text": [
      "[I 2024-02-01 15:59:24,563] Trial 198 finished with value: 0.578 and parameters: {'loss': 'squared_error', 'penalty': 'l2', 'alpha': 0.5972047044165811, 'tol': 0.07443459483501881, 'n_iter_no_change': 66}. Best is trial 48 with value: 0.674.\n"
     ]
    },
    {
     "name": "stdout",
     "output_type": "stream",
     "text": [
      "[{'user_api': 'blas', 'internal_api': 'openblas', 'num_threads': 1, 'prefix': 'libopenblas', 'filepath': '/home/stamm/projects/graph_description/env/lib/python3.10/site-packages/numpy.libs/libopenblas64_p-r0-0cf96a72.3.23.dev.so', 'version': '0.3.23.dev', 'threading_layer': 'pthreads', 'architecture': 'SkylakeX'}, {'user_api': 'openmp', 'internal_api': 'openmp', 'num_threads': 1, 'prefix': 'libgomp', 'filepath': '/home/stamm/projects/graph_description/env/lib/python3.10/site-packages/scikit_learn.libs/libgomp-a34b3233.so.1.0.0', 'version': None}, {'user_api': 'blas', 'internal_api': 'openblas', 'num_threads': 1, 'prefix': 'libopenblas', 'filepath': '/home/stamm/projects/graph_description/env/lib/python3.10/site-packages/scipy.libs/libopenblasp-r0-23e5df77.3.21.dev.so', 'version': '0.3.21.dev', 'threading_layer': 'pthreads', 'architecture': 'SkylakeX'}]\n"
     ]
    },
    {
     "name": "stderr",
     "output_type": "stream",
     "text": [
      "[I 2024-02-01 15:59:27,209] Trial 199 finished with value: 0.664 and parameters: {'loss': 'log_loss', 'penalty': 'l2', 'alpha': 0.1422838847839563, 'tol': 1.577063320156328e-05, 'n_iter_no_change': 63}. Best is trial 48 with value: 0.674.\n"
     ]
    },
    {
     "name": "stdout",
     "output_type": "stream",
     "text": [
      "[{'user_api': 'blas', 'internal_api': 'openblas', 'num_threads': 1, 'prefix': 'libopenblas', 'filepath': '/home/stamm/projects/graph_description/env/lib/python3.10/site-packages/numpy.libs/libopenblas64_p-r0-0cf96a72.3.23.dev.so', 'version': '0.3.23.dev', 'threading_layer': 'pthreads', 'architecture': 'SkylakeX'}, {'user_api': 'openmp', 'internal_api': 'openmp', 'num_threads': 1, 'prefix': 'libgomp', 'filepath': '/home/stamm/projects/graph_description/env/lib/python3.10/site-packages/scikit_learn.libs/libgomp-a34b3233.so.1.0.0', 'version': None}, {'user_api': 'blas', 'internal_api': 'openblas', 'num_threads': 1, 'prefix': 'libopenblas', 'filepath': '/home/stamm/projects/graph_description/env/lib/python3.10/site-packages/scipy.libs/libopenblasp-r0-23e5df77.3.21.dev.so', 'version': '0.3.21.dev', 'threading_layer': 'pthreads', 'architecture': 'SkylakeX'}]\n"
     ]
    },
    {
     "name": "stderr",
     "output_type": "stream",
     "text": [
      "[I 2024-02-01 15:59:29,776] Trial 200 finished with value: 0.668 and parameters: {'loss': 'log_loss', 'penalty': 'l2', 'alpha': 0.26736678162180005, 'tol': 7.469271819609049e-06, 'n_iter_no_change': 60}. Best is trial 48 with value: 0.674.\n"
     ]
    },
    {
     "name": "stdout",
     "output_type": "stream",
     "text": [
      "[{'user_api': 'blas', 'internal_api': 'openblas', 'num_threads': 1, 'prefix': 'libopenblas', 'filepath': '/home/stamm/projects/graph_description/env/lib/python3.10/site-packages/numpy.libs/libopenblas64_p-r0-0cf96a72.3.23.dev.so', 'version': '0.3.23.dev', 'threading_layer': 'pthreads', 'architecture': 'SkylakeX'}, {'user_api': 'openmp', 'internal_api': 'openmp', 'num_threads': 1, 'prefix': 'libgomp', 'filepath': '/home/stamm/projects/graph_description/env/lib/python3.10/site-packages/scikit_learn.libs/libgomp-a34b3233.so.1.0.0', 'version': None}, {'user_api': 'blas', 'internal_api': 'openblas', 'num_threads': 1, 'prefix': 'libopenblas', 'filepath': '/home/stamm/projects/graph_description/env/lib/python3.10/site-packages/scipy.libs/libopenblasp-r0-23e5df77.3.21.dev.so', 'version': '0.3.21.dev', 'threading_layer': 'pthreads', 'architecture': 'SkylakeX'}]\n"
     ]
    },
    {
     "name": "stderr",
     "output_type": "stream",
     "text": [
      "[I 2024-02-01 15:59:31,791] Trial 201 finished with value: 0.414 and parameters: {'loss': 'squared_hinge', 'penalty': 'l2', 'alpha': 0.08802386224551728, 'tol': 0.022011826779880773, 'n_iter_no_change': 58}. Best is trial 48 with value: 0.674.\n"
     ]
    },
    {
     "name": "stdout",
     "output_type": "stream",
     "text": [
      "[{'user_api': 'blas', 'internal_api': 'openblas', 'num_threads': 1, 'prefix': 'libopenblas', 'filepath': '/home/stamm/projects/graph_description/env/lib/python3.10/site-packages/numpy.libs/libopenblas64_p-r0-0cf96a72.3.23.dev.so', 'version': '0.3.23.dev', 'threading_layer': 'pthreads', 'architecture': 'SkylakeX'}, {'user_api': 'openmp', 'internal_api': 'openmp', 'num_threads': 1, 'prefix': 'libgomp', 'filepath': '/home/stamm/projects/graph_description/env/lib/python3.10/site-packages/scikit_learn.libs/libgomp-a34b3233.so.1.0.0', 'version': None}, {'user_api': 'blas', 'internal_api': 'openblas', 'num_threads': 1, 'prefix': 'libopenblas', 'filepath': '/home/stamm/projects/graph_description/env/lib/python3.10/site-packages/scipy.libs/libopenblasp-r0-23e5df77.3.21.dev.so', 'version': '0.3.21.dev', 'threading_layer': 'pthreads', 'architecture': 'SkylakeX'}]\n"
     ]
    },
    {
     "name": "stderr",
     "output_type": "stream",
     "text": [
      "[I 2024-02-01 15:59:35,592] Trial 202 finished with value: 0.072 and parameters: {'loss': 'log_loss', 'penalty': 'l1', 'alpha': 0.3883041332536753, 'tol': 0.03390623957703605, 'n_iter_no_change': 64}. Best is trial 48 with value: 0.674.\n"
     ]
    },
    {
     "name": "stdout",
     "output_type": "stream",
     "text": [
      "[{'user_api': 'blas', 'internal_api': 'openblas', 'num_threads': 1, 'prefix': 'libopenblas', 'filepath': '/home/stamm/projects/graph_description/env/lib/python3.10/site-packages/numpy.libs/libopenblas64_p-r0-0cf96a72.3.23.dev.so', 'version': '0.3.23.dev', 'threading_layer': 'pthreads', 'architecture': 'SkylakeX'}, {'user_api': 'openmp', 'internal_api': 'openmp', 'num_threads': 1, 'prefix': 'libgomp', 'filepath': '/home/stamm/projects/graph_description/env/lib/python3.10/site-packages/scikit_learn.libs/libgomp-a34b3233.so.1.0.0', 'version': None}, {'user_api': 'blas', 'internal_api': 'openblas', 'num_threads': 1, 'prefix': 'libopenblas', 'filepath': '/home/stamm/projects/graph_description/env/lib/python3.10/site-packages/scipy.libs/libopenblasp-r0-23e5df77.3.21.dev.so', 'version': '0.3.21.dev', 'threading_layer': 'pthreads', 'architecture': 'SkylakeX'}]\n"
     ]
    },
    {
     "name": "stderr",
     "output_type": "stream",
     "text": [
      "[I 2024-02-01 15:59:38,591] Trial 203 finished with value: 0.67 and parameters: {'loss': 'log_loss', 'penalty': 'l2', 'alpha': 0.1834735303459163, 'tol': 4.788045737526218e-06, 'n_iter_no_change': 68}. Best is trial 48 with value: 0.674.\n"
     ]
    },
    {
     "name": "stdout",
     "output_type": "stream",
     "text": [
      "[{'user_api': 'blas', 'internal_api': 'openblas', 'num_threads': 1, 'prefix': 'libopenblas', 'filepath': '/home/stamm/projects/graph_description/env/lib/python3.10/site-packages/numpy.libs/libopenblas64_p-r0-0cf96a72.3.23.dev.so', 'version': '0.3.23.dev', 'threading_layer': 'pthreads', 'architecture': 'SkylakeX'}, {'user_api': 'openmp', 'internal_api': 'openmp', 'num_threads': 1, 'prefix': 'libgomp', 'filepath': '/home/stamm/projects/graph_description/env/lib/python3.10/site-packages/scikit_learn.libs/libgomp-a34b3233.so.1.0.0', 'version': None}, {'user_api': 'blas', 'internal_api': 'openblas', 'num_threads': 1, 'prefix': 'libopenblas', 'filepath': '/home/stamm/projects/graph_description/env/lib/python3.10/site-packages/scipy.libs/libopenblasp-r0-23e5df77.3.21.dev.so', 'version': '0.3.21.dev', 'threading_layer': 'pthreads', 'architecture': 'SkylakeX'}]\n"
     ]
    },
    {
     "name": "stderr",
     "output_type": "stream",
     "text": [
      "[W 2024-02-01 15:59:39,044] Trial 204 failed with parameters: {'loss': 'log_loss', 'penalty': 'l2', 'alpha': 0.29621677585696543, 'tol': 9.626062537406411e-06, 'n_iter_no_change': 57} because of the following error: KeyboardInterrupt().\n",
      "Traceback (most recent call last):\n",
      "  File \"/home/stamm/projects/graph_description/env/lib/python3.10/site-packages/optuna/study/_optimize.py\", line 200, in _run_trial\n",
      "    value_or_values = func(trial)\n",
      "  File \"/tmp/ipykernel_2268610/2426869387.py\", line 33, in SGDClassifier_objective\n",
      "    clf.fit(X_train_val, y_train_val)\n",
      "  File \"/home/stamm/projects/graph_description/env/lib/python3.10/site-packages/sklearn/base.py\", line 1351, in wrapper\n",
      "    return fit_method(estimator, *args, **kwargs)\n",
      "  File \"/home/stamm/projects/graph_description/env/lib/python3.10/site-packages/sklearn/linear_model/_stochastic_gradient.py\", line 917, in fit\n",
      "    return self._fit(\n",
      "  File \"/home/stamm/projects/graph_description/env/lib/python3.10/site-packages/sklearn/linear_model/_stochastic_gradient.py\", line 704, in _fit\n",
      "    self._partial_fit(\n",
      "  File \"/home/stamm/projects/graph_description/env/lib/python3.10/site-packages/sklearn/linear_model/_stochastic_gradient.py\", line 638, in _partial_fit\n",
      "    self._fit_multiclass(\n",
      "  File \"/tmp/ipykernel_2268610/2381402221.py\", line 95, in _fit_multiclass\n",
      "    result = Parallel(\n",
      "  File \"/home/stamm/projects/graph_description/env/lib/python3.10/site-packages/sklearn/utils/parallel.py\", line 67, in __call__\n",
      "    return super().__call__(iterable_with_config)\n",
      "  File \"/home/stamm/projects/graph_description/env/lib/python3.10/site-packages/joblib/parallel.py\", line 1863, in __call__\n",
      "    return output if self.return_generator else list(output)\n",
      "  File \"/home/stamm/projects/graph_description/env/lib/python3.10/site-packages/joblib/parallel.py\", line 1792, in _get_sequential_output\n",
      "    res = func(*args, **kwargs)\n",
      "  File \"/home/stamm/projects/graph_description/env/lib/python3.10/site-packages/sklearn/utils/parallel.py\", line 129, in __call__\n",
      "    return self.function(*args, **kwargs)\n",
      "  File \"/tmp/ipykernel_2268610/631164537.py\", line 95, in fit_binary\n",
      "    coef, intercept_out, average_coef, average_intercept, n_iter_ = _plain_sgd(\n",
      "  File \"sklearn/linear_model/_sgd_fast.pyx\", line 662, in sklearn.linear_model._sgd_fast._plain_sgd64\n",
      "  File \"/tmp/ipykernel_2268610/856129163.py\", line 19, in __call__\n",
      "    def __call__(self, coef, intercept):\n",
      "KeyboardInterrupt\n",
      "[W 2024-02-01 15:59:39,046] Trial 204 failed with value None.\n",
      "\n",
      "KeyboardInterrupt\n",
      "\n"
     ]
    }
   ],
   "source": [
    "# 3. Create a study object and optimize the objective function.\n",
    "#study = optuna.create_study(direction='minimize')\n",
    "study.optimize(objective, n_trials=100)\n"
   ]
  },
  {
   "cell_type": "code",
   "execution_count": null,
   "id": "97d0f576-7ec5-45a3-b10d-95050db67280",
   "metadata": {},
   "outputs": [],
   "source": [
    "#optuna.study.delete_study(study_name=f\"{dataset}-{round}-{train_per_class}-sklearnSGDClassifier\", storage=storage)"
   ]
  },
  {
   "cell_type": "code",
   "execution_count": null,
   "id": "68f99bdd-740a-45ab-ab64-f7d2e71a466b",
   "metadata": {},
   "outputs": [],
   "source": []
  }
 ],
 "metadata": {
  "kernelspec": {
   "display_name": "Python 3 (ipykernel)",
   "language": "python",
   "name": "python3"
  },
  "language_info": {
   "codemirror_mode": {
    "name": "ipython",
    "version": 3
   },
   "file_extension": ".py",
   "mimetype": "text/x-python",
   "name": "python",
   "nbconvert_exporter": "python",
   "pygments_lexer": "ipython3",
   "version": "3.10.12"
  }
 },
 "nbformat": 4,
 "nbformat_minor": 5
}
