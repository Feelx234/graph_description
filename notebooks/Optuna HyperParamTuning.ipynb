{
 "cells": [
  {
   "cell_type": "code",
   "execution_count": 1,
   "id": "5671a78f-d11c-4a41-af81-f5373bb248b5",
   "metadata": {},
   "outputs": [],
   "source": [
    "import optuna"
   ]
  },
  {
   "cell_type": "code",
   "execution_count": 2,
   "id": "9ff8296e-66cb-487d-991e-60bf3234003a",
   "metadata": {},
   "outputs": [],
   "source": [
    "from pathlib import Path\n",
    "import numpy as np\n",
    "import pandas as pd"
   ]
  },
  {
   "cell_type": "code",
   "execution_count": 3,
   "id": "ff933d3d-3068-4723-be6d-2e3d9e1334b7",
   "metadata": {},
   "outputs": [],
   "source": [
    "from graph_description.training_utils import my_accuracy, LinearScheduler, ExponentialScheduler"
   ]
  },
  {
   "cell_type": "code",
   "execution_count": 4,
   "id": "4560e67d-3ad0-4834-9922-21058a6c4f47",
   "metadata": {},
   "outputs": [],
   "source": [
    "prefix = \"../\""
   ]
  },
  {
   "cell_type": "code",
   "execution_count": 5,
   "id": "08819a2c-fbae-4cbb-b045-889ebd1dc800",
   "metadata": {},
   "outputs": [],
   "source": [
    "train_per_class = 20\n",
    "round = 0\n",
    "dataset=\"citeseer\""
   ]
  },
  {
   "cell_type": "code",
   "execution_count": 6,
   "id": "552c4981-2921-4b24-b77a-52ca65e2e393",
   "metadata": {},
   "outputs": [],
   "source": [
    "input = [Path(prefix+f\"/snakemake_base/splits/{dataset}_planetoid/{train_per_class}_500_rest_0.npz\").resolve().absolute(),\n",
    "         Path(prefix+f\"snakemake_base/aggregated_datasets/{dataset}_planetoid_{round}.pkl\").resolve().absolute()]"
   ]
  },
  {
   "cell_type": "code",
   "execution_count": 7,
   "id": "417d69a1-d50d-4ab0-a960-1d5557867322",
   "metadata": {},
   "outputs": [
    {
     "name": "stdout",
     "output_type": "stream",
     "text": [
      "(3327, 3704)\n"
     ]
    }
   ],
   "source": [
    "splits = np.load(input[0])\n",
    "train_mask = splits[\"train_mask\"]\n",
    "val_mask = splits[\"val_mask\"]\n",
    "\n",
    "df  = pd.read_pickle(input[1])\n",
    "train_df = df[train_mask]\n",
    "#print(\"number_of_columns\", len(df.columns))\n",
    "X_train = train_df.drop(\"labels\", axis=1)\n",
    "\n",
    "y_train = train_df[\"labels\"]\n",
    "print(df.shape)"
   ]
  },
  {
   "cell_type": "code",
   "execution_count": 8,
   "id": "778a7ac9-5ead-468b-af16-9561f31e4ad9",
   "metadata": {},
   "outputs": [],
   "source": [
    "val_df = df[val_mask]\n",
    "X_val = val_df.drop(\"labels\", axis=1)\n",
    "y_val = val_df[\"labels\"]"
   ]
  },
  {
   "cell_type": "code",
   "execution_count": 9,
   "id": "22ad22ce-dc56-48f9-b088-4eb2ff88a4d3",
   "metadata": {},
   "outputs": [],
   "source": [
    "from xgboost import XGBClassifier\n",
    "import xgboost as xgb\n",
    "\n",
    "dtrain = xgb.DMatrix(X_train, label=y_train, missing=np.NaN)\n",
    "dval = xgb.DMatrix(X_val, label=y_val, missing=np.NaN)\n"
   ]
  },
  {
   "cell_type": "code",
   "execution_count": 10,
   "id": "03d39dd0-f81e-4de7-8005-c0e80caf1d3e",
   "metadata": {},
   "outputs": [],
   "source": [
    "num_classes = len(np.bincount(y_train))"
   ]
  },
  {
   "cell_type": "code",
   "execution_count": 11,
   "id": "cb5c414f-d95d-49ee-b7e0-3c6ca7b83d38",
   "metadata": {},
   "outputs": [],
   "source": [
    "from graph_description.training_utils import xgb_objective\n",
    "from functools import partial\n",
    "\n",
    "objective = partial(xgb_objective, num_classes=num_classes, dtrain=dtrain, dval=dval)"
   ]
  },
  {
   "cell_type": "code",
   "execution_count": 12,
   "id": "4f2b0463-9707-4632-9436-f12411506d72",
   "metadata": {},
   "outputs": [
    {
     "name": "stderr",
     "output_type": "stream",
     "text": [
      "/tmp/ipykernel_900573/2982863627.py:1: ExperimentalWarning: JournalStorage is experimental (supported from v3.1.0). The interface can change in the future.\n",
      "  storage = optuna.storages.JournalStorage(\n",
      "[I 2024-01-26 23:30:12,685] Using an existing study with name 'citeseer-0-20' instead of creating a new one.\n"
     ]
    }
   ],
   "source": [
    "storage = optuna.storages.JournalStorage(\n",
    "    optuna.storages.JournalFileStorage(\"./journal.log\"),\n",
    ")\n",
    "\n",
    "study = optuna.create_study(\n",
    "    storage=storage,  # Specify the storage URL here.\n",
    "    study_name=f\"{dataset}-{round}-{train_per_class}\",\n",
    "    load_if_exists=True,\n",
    "    direction='minimize'\n",
    ")"
   ]
  },
  {
   "cell_type": "code",
   "execution_count": 13,
   "id": "01d1af5b-597a-45d2-8e38-1c32892f3efd",
   "metadata": {},
   "outputs": [
    {
     "name": "stderr",
     "output_type": "stream",
     "text": [
      "[I 2024-01-26 23:30:16,567] Trial 87 finished with value: -0.552 and parameters: {'init_lr': 0.08158310639537916, 'lr_factor': 0.99, 'start_subsample': 0.9218747090804481, 'stop_subsample': 0.9395238182287228, 'timespan_subsample': 1, 'timespan_offset': 1, 'start_weight': 7, 'stop_weight': 1, 'timespan_weight': 2, 'colsample': 0.5798556718989539, 'max_depth': 6, 'early_stopping_rounds': 52, 'lambda': 0.0013115063687358464, 'alpha': 9.824433799576479e-05}. Best is trial 59 with value: -0.584.\n",
      "[I 2024-01-26 23:30:19,056] Trial 88 finished with value: -0.576 and parameters: {'init_lr': 0.10596843159800869, 'lr_factor': 0.99, 'start_subsample': 0.8909799159504164, 'stop_subsample': 0.9319236579265341, 'timespan_subsample': 1, 'timespan_offset': 1, 'start_weight': 6, 'stop_weight': 1, 'timespan_weight': 2, 'colsample': 0.5456736761959801, 'max_depth': 4, 'early_stopping_rounds': 72, 'lambda': 0.00811305497930896, 'alpha': 0.001611904104243642}. Best is trial 59 with value: -0.584.\n",
      "[I 2024-01-26 23:30:20,867] Trial 89 finished with value: -0.526 and parameters: {'init_lr': 0.5443252458388971, 'lr_factor': 0.99, 'start_subsample': 0.8813254168028017, 'stop_subsample': 0.9383748795799203, 'timespan_subsample': 1, 'timespan_offset': 1, 'start_weight': 5, 'stop_weight': 2, 'timespan_weight': 2, 'colsample': 0.5306524564732632, 'max_depth': 4, 'early_stopping_rounds': 72, 'lambda': 0.013649450543882745, 'alpha': 0.011762575553573905}. Best is trial 59 with value: -0.584.\n",
      "[I 2024-01-26 23:30:23,253] Trial 90 finished with value: -0.586 and parameters: {'init_lr': 0.05887432654282294, 'lr_factor': 0.99, 'start_subsample': 0.7739374342255323, 'stop_subsample': 0.8470665307184201, 'timespan_subsample': 1, 'timespan_offset': 1, 'start_weight': 6, 'stop_weight': 1, 'timespan_weight': 2, 'colsample': 0.5561362976763695, 'max_depth': 5, 'early_stopping_rounds': 60, 'lambda': 0.00650440339706672, 'alpha': 0.0014200353480858538}. Best is trial 90 with value: -0.586.\n",
      "[I 2024-01-26 23:30:27,760] Trial 91 finished with value: -0.566 and parameters: {'init_lr': 0.053595386866279904, 'lr_factor': 0.99, 'start_subsample': 0.8170000172984572, 'stop_subsample': 0.8490068122272152, 'timespan_subsample': 1, 'timespan_offset': 1, 'start_weight': 6, 'stop_weight': 2, 'timespan_weight': 2, 'colsample': 0.6425390971385883, 'max_depth': 3, 'early_stopping_rounds': 61, 'lambda': 0.00818885121570518, 'alpha': 0.0016212562017513773}. Best is trial 90 with value: -0.586.\n",
      "[I 2024-01-26 23:30:30,453] Trial 92 finished with value: -0.544 and parameters: {'init_lr': 0.17018961614548478, 'lr_factor': 0.99, 'start_subsample': 0.8430573881109237, 'stop_subsample': 0.8628229468088792, 'timespan_subsample': 1, 'timespan_offset': 1, 'start_weight': 6, 'stop_weight': 1, 'timespan_weight': 2, 'colsample': 0.5517794872643031, 'max_depth': 4, 'early_stopping_rounds': 88, 'lambda': 0.003386584878436386, 'alpha': 0.0043410369210708285}. Best is trial 90 with value: -0.586.\n",
      "[I 2024-01-26 23:30:32,581] Trial 93 finished with value: -0.524 and parameters: {'init_lr': 0.9128562724964291, 'lr_factor': 0.99, 'start_subsample': 0.7931036267109505, 'stop_subsample': 0.8454531373126876, 'timespan_subsample': 1, 'timespan_offset': 1, 'start_weight': 5, 'stop_weight': 1, 'timespan_weight': 2, 'colsample': 0.6002452332484254, 'max_depth': 10, 'early_stopping_rounds': 84, 'lambda': 0.025261028708427058, 'alpha': 0.029581038750101214}. Best is trial 90 with value: -0.586.\n",
      "[I 2024-01-26 23:30:36,703] Trial 94 finished with value: -0.536 and parameters: {'init_lr': 0.1316507923178835, 'lr_factor': 0.99, 'start_subsample': 0.772453412229825, 'stop_subsample': 0.8336883734458534, 'timespan_subsample': 1, 'timespan_offset': 1, 'start_weight': 6, 'stop_weight': 2, 'timespan_weight': 2, 'colsample': 0.43028170283555367, 'max_depth': 6, 'early_stopping_rounds': 74, 'lambda': 0.005362329743505244, 'alpha': 0.06327105425523886}. Best is trial 90 with value: -0.586.\n",
      "[I 2024-01-26 23:30:38,758] Trial 95 finished with value: -0.486 and parameters: {'init_lr': 0.6858746120307866, 'lr_factor': 0.99, 'start_subsample': 0.7288579541299893, 'stop_subsample': 0.8301688153864197, 'timespan_subsample': 1, 'timespan_offset': 1, 'start_weight': 6, 'stop_weight': 1, 'timespan_weight': 2, 'colsample': 0.4547912991556985, 'max_depth': 4, 'early_stopping_rounds': 81, 'lambda': 0.01640632881505982, 'alpha': 0.001555890808954643}. Best is trial 90 with value: -0.586.\n",
      "[I 2024-01-26 23:30:41,557] Trial 96 finished with value: -0.554 and parameters: {'init_lr': 0.07371773782261413, 'lr_factor': 0.99, 'start_subsample': 0.9068507225759688, 'stop_subsample': 0.9447007350154955, 'timespan_subsample': 1, 'timespan_offset': 1, 'start_weight': 6, 'stop_weight': 1, 'timespan_weight': 2, 'colsample': 0.6886404939367143, 'max_depth': 5, 'early_stopping_rounds': 59, 'lambda': 0.0005506111467354945, 'alpha': 0.0004811488894618428}. Best is trial 90 with value: -0.586.\n",
      "[I 2024-01-26 23:30:43,700] Trial 97 finished with value: -0.58 and parameters: {'init_lr': 0.1097194154223083, 'lr_factor': 0.99, 'start_subsample': 0.8606729254846592, 'stop_subsample': 0.9221515411558007, 'timespan_subsample': 1, 'timespan_offset': 1, 'start_weight': 7, 'stop_weight': 1, 'timespan_weight': 2, 'colsample': 0.5742067237220785, 'max_depth': 5, 'early_stopping_rounds': 68, 'lambda': 0.002039556329856625, 'alpha': 0.0021514603180123925}. Best is trial 90 with value: -0.586.\n",
      "[I 2024-01-26 23:30:46,025] Trial 98 finished with value: -0.57 and parameters: {'init_lr': 0.10285204558607994, 'lr_factor': 0.99, 'start_subsample': 0.8707961823106152, 'stop_subsample': 0.9229435186265904, 'timespan_subsample': 1, 'timespan_offset': 1, 'start_weight': 8, 'stop_weight': 1, 'timespan_weight': 2, 'colsample': 0.6103996782283468, 'max_depth': 3, 'early_stopping_rounds': 70, 'lambda': 0.0018823145674059882, 'alpha': 0.0022266998143393693}. Best is trial 90 with value: -0.586.\n",
      "[I 2024-01-26 23:30:48,635] Trial 99 finished with value: -0.554 and parameters: {'init_lr': 0.1043757807411544, 'lr_factor': 0.99, 'start_subsample': 0.8570024480176373, 'stop_subsample': 0.9259368778885448, 'timespan_subsample': 1, 'timespan_offset': 1, 'start_weight': 9, 'stop_weight': 2, 'timespan_weight': 2, 'colsample': 0.6248765770801158, 'max_depth': 3, 'early_stopping_rounds': 70, 'lambda': 0.00225455083651041, 'alpha': 0.0026607202412518615}. Best is trial 90 with value: -0.586.\n",
      "[I 2024-01-26 23:30:53,406] Trial 100 finished with value: -0.576 and parameters: {'init_lr': 0.040641112116504355, 'lr_factor': 0.99, 'start_subsample': 0.8699067120270134, 'stop_subsample': 0.9156262401975925, 'timespan_subsample': 1, 'timespan_offset': 1, 'start_weight': 10, 'stop_weight': 1, 'timespan_weight': 2, 'colsample': 0.5164523265862431, 'max_depth': 2, 'early_stopping_rounds': 77, 'lambda': 0.009843242478066847, 'alpha': 0.015150353997253443}. Best is trial 90 with value: -0.586.\n",
      "[I 2024-01-26 23:30:56,034] Trial 101 finished with value: -0.552 and parameters: {'init_lr': 0.04945085175282397, 'lr_factor': 0.99, 'start_subsample': 0.9493709414759259, 'stop_subsample': 0.9612781231091272, 'timespan_subsample': 1, 'timespan_offset': 1, 'start_weight': 10, 'stop_weight': 1, 'timespan_weight': 2, 'colsample': 0.6099493375606819, 'max_depth': 2, 'early_stopping_rounds': 72, 'lambda': 0.009254022630991274, 'alpha': 0.007186921539002345}. Best is trial 90 with value: -0.586.\n",
      "[I 2024-01-26 23:31:00,117] Trial 102 finished with value: -0.568 and parameters: {'init_lr': 0.0323271890027311, 'lr_factor': 0.99, 'start_subsample': 0.8674636656966719, 'stop_subsample': 0.9163436303392376, 'timespan_subsample': 1, 'timespan_offset': 1, 'start_weight': 10, 'stop_weight': 1, 'timespan_weight': 2, 'colsample': 0.5491652274460764, 'max_depth': 2, 'early_stopping_rounds': 79, 'lambda': 0.03797379191056808, 'alpha': 0.004136036349276534}. Best is trial 90 with value: -0.586.\n",
      "[I 2024-01-26 23:31:02,916] Trial 103 finished with value: -0.568 and parameters: {'init_lr': 0.1160230224641111, 'lr_factor': 0.99, 'start_subsample': 0.9822208476064911, 'stop_subsample': 0.9869869640539501, 'timespan_subsample': 1, 'timespan_offset': 1, 'start_weight': 10, 'stop_weight': 1, 'timespan_weight': 2, 'colsample': 0.5092857921307288, 'max_depth': 1, 'early_stopping_rounds': 76, 'lambda': 0.003981935523082093, 'alpha': 4.6402979522236833e-07}. Best is trial 90 with value: -0.586.\n",
      "[I 2024-01-26 23:31:05,785] Trial 104 finished with value: -0.536 and parameters: {'init_lr': 0.14139482970189543, 'lr_factor': 0.99, 'start_subsample': 0.8940787154815261, 'stop_subsample': 0.9337303341061783, 'timespan_subsample': 1, 'timespan_offset': 1, 'start_weight': 9, 'stop_weight': 2, 'timespan_weight': 2, 'colsample': 0.7380442898401897, 'max_depth': 5, 'early_stopping_rounds': 73, 'lambda': 0.2089800901413223, 'alpha': 0.013681717666891385}. Best is trial 90 with value: -0.586.\n",
      "[I 2024-01-26 23:31:07,709] Trial 105 finished with value: -0.538 and parameters: {'init_lr': 0.1841453584667691, 'lr_factor': 0.99, 'start_subsample': 0.8984750552110978, 'stop_subsample': 0.9203661376807062, 'timespan_subsample': 1, 'timespan_offset': 1, 'start_weight': 8, 'stop_weight': 2, 'timespan_weight': 2, 'colsample': 0.5234118482113467, 'max_depth': 2, 'early_stopping_rounds': 69, 'lambda': 0.07325690222646482, 'alpha': 0.0022390681770097162}. Best is trial 90 with value: -0.586.\n",
      "[I 2024-01-26 23:31:11,171] Trial 106 finished with value: -0.568 and parameters: {'init_lr': 0.031586399417865896, 'lr_factor': 0.99, 'start_subsample': 0.832694319272105, 'stop_subsample': 0.911977785511355, 'timespan_subsample': 1, 'timespan_offset': 1, 'start_weight': 10, 'stop_weight': 1, 'timespan_weight': 2, 'colsample': 0.48091751335290767, 'max_depth': 2, 'early_stopping_rounds': 67, 'lambda': 0.0414222786364068, 'alpha': 0.004006874315213925}. Best is trial 90 with value: -0.586.\n",
      "[I 2024-01-26 23:31:13,453] Trial 107 finished with value: -0.564 and parameters: {'init_lr': 0.057990828592438926, 'lr_factor': 0.99, 'start_subsample': 0.8760931595325597, 'stop_subsample': 0.926135437035065, 'timespan_subsample': 1, 'timespan_offset': 1, 'start_weight': 10, 'stop_weight': 1, 'timespan_weight': 2, 'colsample': 0.5485501902913491, 'max_depth': 2, 'early_stopping_rounds': 79, 'lambda': 0.006533085960020348, 'alpha': 0.0010629008474805795}. Best is trial 90 with value: -0.586.\n",
      "[I 2024-01-26 23:31:16,710] Trial 108 finished with value: -0.566 and parameters: {'init_lr': 0.011098607122870773, 'lr_factor': 0.99, 'start_subsample': 0.9421863013165688, 'stop_subsample': 0.9505589379552823, 'timespan_subsample': 1, 'timespan_offset': 1, 'start_weight': 10, 'stop_weight': 1, 'timespan_weight': 2, 'colsample': 0.561701977382852, 'max_depth': 1, 'early_stopping_rounds': 78, 'lambda': 0.019450907831215787, 'alpha': 0.006676188958474765}. Best is trial 90 with value: -0.586.\n",
      "[I 2024-01-26 23:31:20,877] Trial 109 finished with value: -0.588 and parameters: {'init_lr': 0.036885085844240086, 'lr_factor': 0.99, 'start_subsample': 0.8562814658832462, 'stop_subsample': 0.9033111519739351, 'timespan_subsample': 1, 'timespan_offset': 1, 'start_weight': 10, 'stop_weight': 1, 'timespan_weight': 2, 'colsample': 0.5407127515431441, 'max_depth': 3, 'early_stopping_rounds': 83, 'lambda': 0.0010179054446734985, 'alpha': 0.0020144575056869575}. Best is trial 109 with value: -0.588.\n",
      "[I 2024-01-26 23:31:23,975] Trial 110 finished with value: -0.56 and parameters: {'init_lr': 0.09830171191487702, 'lr_factor': 0.99, 'start_subsample': 0.9648173919340024, 'stop_subsample': 0.9757206737518103, 'timespan_subsample': 1, 'timespan_offset': 1, 'start_weight': 9, 'stop_weight': 1, 'timespan_weight': 2, 'colsample': 0.6769514994250168, 'max_depth': 3, 'early_stopping_rounds': 82, 'lambda': 0.0010841754369017695, 'alpha': 0.0007345603218110589}. Best is trial 109 with value: -0.588.\n",
      "[I 2024-01-26 23:31:27,504] Trial 111 finished with value: -0.572 and parameters: {'init_lr': 0.06183038971711217, 'lr_factor': 0.99, 'start_subsample': 0.8263675917886774, 'stop_subsample': 0.9048388562597298, 'timespan_subsample': 1, 'timespan_offset': 1, 'start_weight': 9, 'stop_weight': 1, 'timespan_weight': 2, 'colsample': 0.5136358798390613, 'max_depth': 3, 'early_stopping_rounds': 84, 'lambda': 0.01099301903328317, 'alpha': 0.001361521799423683}. Best is trial 109 with value: -0.588.\n",
      "[I 2024-01-26 23:31:31,878] Trial 112 finished with value: -0.578 and parameters: {'init_lr': 0.05521326126562421, 'lr_factor': 0.99, 'start_subsample': 0.8285431734427962, 'stop_subsample': 0.9046689830728276, 'timespan_subsample': 1, 'timespan_offset': 1, 'start_weight': 9, 'stop_weight': 1, 'timespan_weight': 2, 'colsample': 0.500843491422282, 'max_depth': 4, 'early_stopping_rounds': 84, 'lambda': 0.013670498161956032, 'alpha': 0.0018466243013790318}. Best is trial 109 with value: -0.588.\n",
      "[I 2024-01-26 23:31:36,108] Trial 113 finished with value: -0.574 and parameters: {'init_lr': 0.04460286690453253, 'lr_factor': 0.99, 'start_subsample': 0.7525380592278066, 'stop_subsample': 0.9057712062226715, 'timespan_subsample': 1, 'timespan_offset': 1, 'start_weight': 9, 'stop_weight': 1, 'timespan_weight': 2, 'colsample': 0.4692455116848688, 'max_depth': 4, 'early_stopping_rounds': 84, 'lambda': 0.011013574622620169, 'alpha': 0.0013190213098897236}. Best is trial 109 with value: -0.588.\n",
      "[I 2024-01-26 23:31:39,606] Trial 114 finished with value: -0.578 and parameters: {'init_lr': 0.029018536828879712, 'lr_factor': 0.99, 'start_subsample': 0.7697587758284193, 'stop_subsample': 0.8952335902655397, 'timespan_subsample': 1, 'timespan_offset': 1, 'start_weight': 10, 'stop_weight': 1, 'timespan_weight': 2, 'colsample': 0.464311032484284, 'max_depth': 4, 'early_stopping_rounds': 87, 'lambda': 0.014371995662514356, 'alpha': 0.00023314095377331026}. Best is trial 109 with value: -0.588.\n",
      "[I 2024-01-26 23:31:45,350] Trial 115 finished with value: -0.56 and parameters: {'init_lr': 0.024875309515542857, 'lr_factor': 0.99, 'start_subsample': 0.7980769785683035, 'stop_subsample': 0.8999263850608734, 'timespan_subsample': 1, 'timespan_offset': 1, 'start_weight': 10, 'stop_weight': 2, 'timespan_weight': 2, 'colsample': 0.4935983428232175, 'max_depth': 5, 'early_stopping_rounds': 93, 'lambda': 0.06619478641962347, 'alpha': 0.0002510539499457473}. Best is trial 109 with value: -0.588.\n",
      "[I 2024-01-26 23:31:49,209] Trial 116 finished with value: -0.592 and parameters: {'init_lr': 0.03816103866689871, 'lr_factor': 0.99, 'start_subsample': 0.741999765714711, 'stop_subsample': 0.8861936186938684, 'timespan_subsample': 1, 'timespan_offset': 1, 'start_weight': 10, 'stop_weight': 1, 'timespan_weight': 2, 'colsample': 0.46549862893106214, 'max_depth': 4, 'early_stopping_rounds': 89, 'lambda': 0.014076344655475151, 'alpha': 0.0005823187120262337}. Best is trial 116 with value: -0.592.\n",
      "[I 2024-01-26 23:31:52,589] Trial 117 finished with value: -0.588 and parameters: {'init_lr': 0.012100445239111975, 'lr_factor': 0.99, 'start_subsample': 0.7731458768135565, 'stop_subsample': 0.883983299134174, 'timespan_subsample': 1, 'timespan_offset': 1, 'start_weight': 10, 'stop_weight': 1, 'timespan_weight': 2, 'colsample': 0.44912544948724326, 'max_depth': 4, 'early_stopping_rounds': 87, 'lambda': 0.022623320604434043, 'alpha': 0.0006310770227394552}. Best is trial 116 with value: -0.592.\n",
      "[I 2024-01-26 23:31:54,235] Trial 118 finished with value: -0.218 and parameters: {'init_lr': 0.014647338906837616, 'lr_factor': 0.99, 'start_subsample': 0.7047801995573062, 'stop_subsample': 0.8856424884504787, 'timespan_subsample': 1, 'timespan_offset': 1, 'start_weight': 10, 'stop_weight': 8, 'timespan_weight': 2, 'colsample': 0.44149512653581763, 'max_depth': 4, 'early_stopping_rounds': 97, 'lambda': 0.016184027226639284, 'alpha': 0.00020599378770598133}. Best is trial 116 with value: -0.592.\n",
      "[I 2024-01-26 23:31:57,039] Trial 119 finished with value: -0.552 and parameters: {'init_lr': 0.12257650165122141, 'lr_factor': 0.99, 'start_subsample': 0.7703186250776406, 'stop_subsample': 0.8920810250829576, 'timespan_subsample': 1, 'timespan_offset': 1, 'start_weight': 10, 'stop_weight': 1, 'timespan_weight': 2, 'colsample': 0.4523980068307092, 'max_depth': 4, 'early_stopping_rounds': 88, 'lambda': 0.02714474640607522, 'alpha': 0.0005851865940313996}. Best is trial 116 with value: -0.592.\n",
      "[I 2024-01-26 23:32:00,053] Trial 120 finished with value: -0.556 and parameters: {'init_lr': 0.06260500730032498, 'lr_factor': 0.99, 'start_subsample': 0.7413055401202783, 'stop_subsample': 0.8965504329973626, 'timespan_subsample': 1, 'timespan_offset': 1, 'start_weight': 10, 'stop_weight': 1, 'timespan_weight': 2, 'colsample': 0.488636314814487, 'max_depth': 5, 'early_stopping_rounds': 90, 'lambda': 0.0030309336038282443, 'alpha': 0.0009230996324107808}. Best is trial 116 with value: -0.592.\n",
      "[I 2024-01-26 23:32:04,137] Trial 121 finished with value: -0.574 and parameters: {'init_lr': 0.08836519483292911, 'lr_factor': 0.99, 'start_subsample': 0.7211921787841526, 'stop_subsample': 0.8794370629562236, 'timespan_subsample': 1, 'timespan_offset': 1, 'start_weight': 10, 'stop_weight': 1, 'timespan_weight': 2, 'colsample': 0.41825011246362376, 'max_depth': 4, 'early_stopping_rounds': 92, 'lambda': 0.006631839209949637, 'alpha': 0.0001210595821536118}. Best is trial 116 with value: -0.592.\n",
      "[I 2024-01-26 23:32:05,716] Trial 122 finished with value: -0.236 and parameters: {'init_lr': 0.029509118411971028, 'lr_factor': 0.99, 'start_subsample': 0.7801830916590629, 'stop_subsample': 0.9103285252656317, 'timespan_subsample': 1, 'timespan_offset': 1, 'start_weight': 5, 'stop_weight': 9, 'timespan_weight': 1, 'colsample': 0.40340420676482275, 'max_depth': 5, 'early_stopping_rounds': 87, 'lambda': 0.0044899013116701265, 'alpha': 6.934597434101767e-05}. Best is trial 116 with value: -0.592.\n",
      "[I 2024-01-26 23:32:09,376] Trial 123 finished with value: -0.58 and parameters: {'init_lr': 0.010437416767285004, 'lr_factor': 0.99, 'start_subsample': 0.6897894864390902, 'stop_subsample': 0.8812982249577599, 'timespan_subsample': 1, 'timespan_offset': 1, 'start_weight': 10, 'stop_weight': 1, 'timespan_weight': 2, 'colsample': 0.3770896500397487, 'max_depth': 3, 'early_stopping_rounds': 86, 'lambda': 0.019436804048427105, 'alpha': 0.001958304543551231}. Best is trial 116 with value: -0.592.\n",
      "[I 2024-01-26 23:32:14,088] Trial 124 finished with value: -0.538 and parameters: {'init_lr': 0.04673005215609125, 'lr_factor': 0.99, 'start_subsample': 0.6808309344878318, 'stop_subsample': 0.8520095924522796, 'timespan_subsample': 1, 'timespan_offset': 3, 'start_weight': 10, 'stop_weight': 2, 'timespan_weight': 2, 'colsample': 0.35341993935614213, 'max_depth': 3, 'early_stopping_rounds': 90, 'lambda': 0.14352043680390664, 'alpha': 0.0006256352610931431}. Best is trial 116 with value: -0.592.\n",
      "[I 2024-01-26 23:32:17,530] Trial 125 finished with value: -0.554 and parameters: {'init_lr': 0.06339740124780707, 'lr_factor': 0.99, 'start_subsample': 0.7566200493460714, 'stop_subsample': 0.8820330183402173, 'timespan_subsample': 1, 'timespan_offset': 1, 'start_weight': 9, 'stop_weight': 1, 'timespan_weight': 2, 'colsample': 0.4639377131663817, 'max_depth': 3, 'early_stopping_rounds': 95, 'lambda': 0.019977330415184347, 'alpha': 0.0002739422834214197}. Best is trial 116 with value: -0.592.\n",
      "[I 2024-01-26 23:32:21,644] Trial 126 finished with value: -0.56 and parameters: {'init_lr': 0.09085016546869194, 'lr_factor': 0.99, 'start_subsample': 0.8070254030110579, 'stop_subsample': 0.8906544254831136, 'timespan_subsample': 1, 'timespan_offset': 1, 'start_weight': 10, 'stop_weight': 1, 'timespan_weight': 2, 'colsample': 0.3921616059147751, 'max_depth': 4, 'early_stopping_rounds': 86, 'lambda': 0.026573002025932848, 'alpha': 0.0020203069293093325}. Best is trial 116 with value: -0.592.\n",
      "[I 2024-01-26 23:32:29,202] Trial 127 finished with value: -0.574 and parameters: {'init_lr': 0.03402472584920781, 'lr_factor': 0.99, 'start_subsample': 0.70848803276187, 'stop_subsample': 0.8641001719074124, 'timespan_subsample': 1, 'timespan_offset': 1, 'start_weight': 10, 'stop_weight': 1, 'timespan_weight': 2, 'colsample': 0.3724561505438053, 'max_depth': 4, 'early_stopping_rounds': 81, 'lambda': 0.05571608664320957, 'alpha': 0.0009568839556146043}. Best is trial 116 with value: -0.592.\n",
      "[I 2024-01-26 23:32:29,408] Trial 128 finished with value: -0.218 and parameters: {'init_lr': 0.010246933386226079, 'lr_factor': 0.99, 'start_subsample': 0.7920980550692505, 'stop_subsample': 0.8744113950049198, 'timespan_subsample': 1, 'timespan_offset': 1, 'start_weight': 9, 'stop_weight': 1, 'timespan_weight': 2, 'colsample': 0.4369048894852129, 'max_depth': 5, 'early_stopping_rounds': 2, 'lambda': 0.01374891386346182, 'alpha': 0.00036164794961153203}. Best is trial 116 with value: -0.592.\n",
      "[I 2024-01-26 23:32:33,889] Trial 129 finished with value: -0.378 and parameters: {'init_lr': 0.11129260433011391, 'lr_factor': 0.99, 'start_subsample': 0.7615097576241889, 'stop_subsample': 0.8984005372741533, 'timespan_subsample': 1, 'timespan_offset': 1, 'start_weight': 10, 'stop_weight': 5, 'timespan_weight': 2, 'colsample': 0.33702657833472327, 'max_depth': 3, 'early_stopping_rounds': 87, 'lambda': 0.007571909377923773, 'alpha': 0.00330178130784638}. Best is trial 116 with value: -0.592.\n",
      "[I 2024-01-26 23:32:36,258] Trial 130 finished with value: -0.558 and parameters: {'init_lr': 0.14592945340841182, 'lr_factor': 0.99, 'start_subsample': 0.7408281591527447, 'stop_subsample': 0.884604868781081, 'timespan_subsample': 1, 'timespan_offset': 1, 'start_weight': 10, 'stop_weight': 1, 'timespan_weight': 2, 'colsample': 0.5036016388400119, 'max_depth': 4, 'early_stopping_rounds': 83, 'lambda': 0.0031451836165903484, 'alpha': 0.0015114524047186964}. Best is trial 116 with value: -0.592.\n",
      "[I 2024-01-26 23:32:39,737] Trial 131 finished with value: -0.572 and parameters: {'init_lr': 0.06845535397451345, 'lr_factor': 1, 'start_subsample': 0.838153122959749, 'stop_subsample': 0.8916766930648476, 'timespan_subsample': 1, 'timespan_offset': 1, 'start_weight': 3, 'stop_weight': 1, 'timespan_weight': 2, 'colsample': 0.42103624582178756, 'max_depth': 6, 'early_stopping_rounds': 92, 'lambda': 0.0060145103367432486, 'alpha': 0.005593653476628972}. Best is trial 116 with value: -0.592.\n",
      "[I 2024-01-26 23:32:41,959] Trial 132 finished with value: -0.484 and parameters: {'init_lr': 0.9998163436860386, 'lr_factor': 0.99, 'start_subsample': 0.7290735214465115, 'stop_subsample': 0.8556328313984984, 'timespan_subsample': 1, 'timespan_offset': 1, 'start_weight': 9, 'stop_weight': 2, 'timespan_weight': 2, 'colsample': 0.536600516650862, 'max_depth': 5, 'early_stopping_rounds': 97, 'lambda': 0.0367328569660232, 'alpha': 0.0008582688733201593}. Best is trial 116 with value: -0.592.\n",
      "[I 2024-01-26 23:32:44,291] Trial 133 finished with value: -0.576 and parameters: {'init_lr': 0.010150986413073406, 'lr_factor': 0.99, 'start_subsample': 0.6577326000624375, 'stop_subsample': 0.8720062133316229, 'timespan_subsample': 1, 'timespan_offset': 1, 'start_weight': 10, 'stop_weight': 1, 'timespan_weight': 2, 'colsample': 0.4745486096605076, 'max_depth': 4, 'early_stopping_rounds': 86, 'lambda': 0.004393722065424086, 'alpha': 0.0005259715363276923}. Best is trial 116 with value: -0.592.\n",
      "[I 2024-01-26 23:32:47,270] Trial 134 finished with value: -0.574 and parameters: {'init_lr': 0.0845148417538836, 'lr_factor': 0.99, 'start_subsample': 0.8152061391239043, 'stop_subsample': 0.9022756308076472, 'timespan_subsample': 1, 'timespan_offset': 1, 'start_weight': 6, 'stop_weight': 1, 'timespan_weight': 3, 'colsample': 0.5719647324157547, 'max_depth': 4, 'early_stopping_rounds': 81, 'lambda': 0.012414116353333636, 'alpha': 0.0019886947661825385}. Best is trial 116 with value: -0.592.\n",
      "[I 2024-01-26 23:32:52,362] Trial 135 finished with value: -0.572 and parameters: {'init_lr': 0.04588246509511884, 'lr_factor': 0.99, 'start_subsample': 0.4621189463773203, 'stop_subsample': 0.7652687889880532, 'timespan_subsample': 1, 'timespan_offset': 1, 'start_weight': 1, 'stop_weight': 1, 'timespan_weight': 2, 'colsample': 0.4454783800040825, 'max_depth': 5, 'early_stopping_rounds': 89, 'lambda': 0.09678702279946644, 'alpha': 0.010703257683422026}. Best is trial 116 with value: -0.592.\n",
      "[I 2024-01-26 23:32:56,960] Trial 136 finished with value: -0.568 and parameters: {'init_lr': 0.03542727196907789, 'lr_factor': 0.99, 'start_subsample': 0.8480386209331586, 'stop_subsample': 0.8881670146649837, 'timespan_subsample': 1, 'timespan_offset': 1, 'start_weight': 10, 'stop_weight': 1, 'timespan_weight': 2, 'colsample': 0.5129964593656963, 'max_depth': 3, 'early_stopping_rounds': 83, 'lambda': 0.009784129353587639, 'alpha': 0.00267594538051178}. Best is trial 116 with value: -0.592.\n",
      "[I 2024-01-26 23:33:00,581] Trial 137 finished with value: -0.564 and parameters: {'init_lr': 0.05810158673165113, 'lr_factor': 0.99, 'start_subsample': 0.6936795673516741, 'stop_subsample': 0.8795580311249689, 'timespan_subsample': 1, 'timespan_offset': 1, 'start_weight': 10, 'stop_weight': 1, 'timespan_weight': 2, 'colsample': 0.3777239880081531, 'max_depth': 2, 'early_stopping_rounds': 77, 'lambda': 0.021350841533783242, 'alpha': 0.018156799722759315}. Best is trial 116 with value: -0.592.\n",
      "[I 2024-01-26 23:33:05,373] Trial 138 finished with value: -0.56 and parameters: {'init_lr': 0.0369644720423115, 'lr_factor': 0.99, 'start_subsample': 0.7839475787359879, 'stop_subsample': 0.9135981664628773, 'timespan_subsample': 1, 'timespan_offset': 1, 'start_weight': 10, 'stop_weight': 1, 'timespan_weight': 2, 'colsample': 0.5222826576755829, 'max_depth': 3, 'early_stopping_rounds': 75, 'lambda': 0.00810816626997162, 'alpha': 0.0011365929535298001}. Best is trial 116 with value: -0.592.\n",
      "[I 2024-01-26 23:33:07,879] Trial 139 finished with value: -0.562 and parameters: {'init_lr': 0.13057546539623222, 'lr_factor': 0.99, 'start_subsample': 0.8006449956967997, 'stop_subsample': 0.9083997216505997, 'timespan_subsample': 1, 'timespan_offset': 1, 'start_weight': 10, 'stop_weight': 1, 'timespan_weight': 2, 'colsample': 0.4916718587490383, 'max_depth': 9, 'early_stopping_rounds': 80, 'lambda': 0.0018004873957445204, 'alpha': 0.005420851376561603}. Best is trial 116 with value: -0.592.\n",
      "[I 2024-01-26 23:33:10,564] Trial 140 finished with value: -0.554 and parameters: {'init_lr': 0.07752802812304145, 'lr_factor': 0.99, 'start_subsample': 0.6381678629931453, 'stop_subsample': 0.8219299940274263, 'timespan_subsample': 1, 'timespan_offset': 1, 'start_weight': 4, 'stop_weight': 1, 'timespan_weight': 2, 'colsample': 0.586333679130441, 'max_depth': 3, 'early_stopping_rounds': 85, 'lambda': 0.014589488521576556, 'alpha': 0.0001688004984776484}. Best is trial 116 with value: -0.592.\n",
      "[I 2024-01-26 23:33:14,293] Trial 141 finished with value: -0.544 and parameters: {'init_lr': 0.10957637683992716, 'lr_factor': 0.99, 'start_subsample': 0.8263681410388984, 'stop_subsample': 0.8954195857253693, 'timespan_subsample': 1, 'timespan_offset': 1, 'start_weight': 9, 'stop_weight': 2, 'timespan_weight': 2, 'colsample': 0.5407714835197248, 'max_depth': 6, 'early_stopping_rounds': 78, 'lambda': 0.002481080263757484, 'alpha': 0.003785796377851121}. Best is trial 116 with value: -0.592.\n",
      "[I 2024-01-26 23:33:18,324] Trial 142 finished with value: -0.566 and parameters: {'init_lr': 0.052479664190958494, 'lr_factor': 0.99, 'start_subsample': 0.8542953569066937, 'stop_subsample': 0.9025770906137967, 'timespan_subsample': 1, 'timespan_offset': 1, 'start_weight': 9, 'stop_weight': 1, 'timespan_weight': 3, 'colsample': 0.4582381255272305, 'max_depth': 4, 'early_stopping_rounds': 91, 'lambda': 8.966023429073787e-05, 'alpha': 0.04303456616041373}. Best is trial 116 with value: -0.592.\n",
      "[I 2024-01-26 23:33:19,880] Trial 143 finished with value: -0.23 and parameters: {'init_lr': 0.09281747495980741, 'lr_factor': 0.99, 'start_subsample': 0.7672158794743725, 'stop_subsample': 0.9184847021624024, 'timespan_subsample': 1, 'timespan_offset': 1, 'start_weight': 6, 'stop_weight': 6, 'timespan_weight': 2, 'colsample': 0.39700504510494594, 'max_depth': 5, 'early_stopping_rounds': 88, 'lambda': 0.005031112692188605, 'alpha': 0.0017825388178117655}. Best is trial 116 with value: -0.592.\n",
      "[I 2024-01-26 23:33:22,094] Trial 144 finished with value: -0.536 and parameters: {'init_lr': 0.45856724294391676, 'lr_factor': 0.99, 'start_subsample': 0.7158293732185882, 'stop_subsample': 0.8485366527695265, 'timespan_subsample': 1, 'timespan_offset': 1, 'start_weight': 10, 'stop_weight': 1, 'timespan_weight': 3, 'colsample': 0.5007021557223595, 'max_depth': 4, 'early_stopping_rounds': 76, 'lambda': 0.039902531501214304, 'alpha': 0.0007229079028302809}. Best is trial 116 with value: -0.592.\n",
      "[I 2024-01-26 23:33:25,102] Trial 145 finished with value: -0.56 and parameters: {'init_lr': 0.07131773859516607, 'lr_factor': 0.99, 'start_subsample': 0.7453461601061451, 'stop_subsample': 0.8664456536076048, 'timespan_subsample': 1, 'timespan_offset': 1, 'start_weight': 6, 'stop_weight': 1, 'timespan_weight': 2, 'colsample': 0.47584851887868107, 'max_depth': 2, 'early_stopping_rounds': 74, 'lambda': 0.0009380356704605006, 'alpha': 0.0003841888731352385}. Best is trial 116 with value: -0.592.\n",
      "[I 2024-01-26 23:33:29,726] Trial 146 finished with value: -0.582 and parameters: {'init_lr': 0.01447265574066521, 'lr_factor': 0.99, 'start_subsample': 0.6602208494103371, 'stop_subsample': 0.8565464545840942, 'timespan_subsample': 1, 'timespan_offset': 1, 'start_weight': 10, 'stop_weight': 1, 'timespan_weight': 2, 'colsample': 0.5547681033178348, 'max_depth': 4, 'early_stopping_rounds': 87, 'lambda': 0.003412802107798368, 'alpha': 0.00023271380430614857}. Best is trial 116 with value: -0.592.\n",
      "[I 2024-01-26 23:33:35,004] Trial 147 finished with value: -0.574 and parameters: {'init_lr': 0.027613824519827093, 'lr_factor': 0.99, 'start_subsample': 0.694010521440412, 'stop_subsample': 0.8612876597270634, 'timespan_subsample': 1, 'timespan_offset': 1, 'start_weight': 10, 'stop_weight': 1, 'timespan_weight': 2, 'colsample': 0.5531342843895746, 'max_depth': 8, 'early_stopping_rounds': 85, 'lambda': 0.0033431032294434, 'alpha': 0.0005319559322415074}. Best is trial 116 with value: -0.592.\n",
      "[I 2024-01-26 23:33:38,379] Trial 148 finished with value: -0.566 and parameters: {'init_lr': 0.03031499531277449, 'lr_factor': 0.99, 'start_subsample': 0.6079418791616347, 'stop_subsample': 0.8416855370982788, 'timespan_subsample': 1, 'timespan_offset': 1, 'start_weight': 10, 'stop_weight': 1, 'timespan_weight': 2, 'colsample': 0.5321878472187085, 'max_depth': 4, 'early_stopping_rounds': 82, 'lambda': 0.009737854476856968, 'alpha': 0.00017487666786049664}. Best is trial 116 with value: -0.592.\n",
      "[I 2024-01-26 23:33:44,343] Trial 149 finished with value: -0.592 and parameters: {'init_lr': 0.010008960545993543, 'lr_factor': 0.99, 'start_subsample': 0.6692343897082806, 'stop_subsample': 0.9343873893197828, 'timespan_subsample': 1, 'timespan_offset': 1, 'start_weight': 10, 'stop_weight': 1, 'timespan_weight': 2, 'colsample': 0.5708354399212094, 'max_depth': 4, 'early_stopping_rounds': 89, 'lambda': 0.00045904720811153335, 'alpha': 0.009099433155193732}. Best is trial 116 with value: -0.592.\n",
      "[I 2024-01-26 23:33:49,682] Trial 150 finished with value: -0.582 and parameters: {'init_lr': 0.013072931627296638, 'lr_factor': 0.99, 'start_subsample': 0.5596575180747547, 'stop_subsample': 0.9300001746710387, 'timespan_subsample': 1, 'timespan_offset': 1, 'start_weight': 10, 'stop_weight': 1, 'timespan_weight': 2, 'colsample': 0.598157198485427, 'max_depth': 4, 'early_stopping_rounds': 89, 'lambda': 0.0005025150049280733, 'alpha': 9.803035649263758e-05}. Best is trial 116 with value: -0.592.\n",
      "[I 2024-01-26 23:33:53,394] Trial 151 finished with value: -0.538 and parameters: {'init_lr': 0.011865644805678938, 'lr_factor': 1, 'start_subsample': 0.5143024996066508, 'stop_subsample': 0.8721852738244567, 'timespan_subsample': 1, 'timespan_offset': 1, 'start_weight': 10, 'stop_weight': 2, 'timespan_weight': 2, 'colsample': 0.6397615899895669, 'max_depth': 5, 'early_stopping_rounds': 93, 'lambda': 0.0003797167174120297, 'alpha': 8.142848567342286e-05}. Best is trial 116 with value: -0.592.\n",
      "[I 2024-01-26 23:33:57,085] Trial 152 finished with value: -0.578 and parameters: {'init_lr': 0.010248543294980181, 'lr_factor': 0.99, 'start_subsample': 0.67189680938894, 'stop_subsample': 0.8553590673542797, 'timespan_subsample': 1, 'timespan_offset': 1, 'start_weight': 10, 'stop_weight': 1, 'timespan_weight': 2, 'colsample': 0.5933917947820493, 'max_depth': 4, 'early_stopping_rounds': 89, 'lambda': 0.00025613210322452496, 'alpha': 3.73484050491798e-05}. Best is trial 116 with value: -0.592.\n",
      "[I 2024-01-26 23:34:00,768] Trial 153 finished with value: -0.57 and parameters: {'init_lr': 0.02867111567613328, 'lr_factor': 0.99, 'start_subsample': 0.6652171362888134, 'stop_subsample': 0.8306410840564588, 'timespan_subsample': 1, 'timespan_offset': 1, 'start_weight': 10, 'stop_weight': 1, 'timespan_weight': 2, 'colsample': 0.5995587973853382, 'max_depth': 3, 'early_stopping_rounds': 89, 'lambda': 0.00028409804930005285, 'alpha': 2.8925895705626726e-05}. Best is trial 116 with value: -0.592.\n",
      "[I 2024-01-26 23:34:05,414] Trial 154 finished with value: -0.576 and parameters: {'init_lr': 0.013528944435290187, 'lr_factor': 0.99, 'start_subsample': 0.5695519596995805, 'stop_subsample': 0.6751033464836282, 'timespan_subsample': 1, 'timespan_offset': 1, 'start_weight': 10, 'stop_weight': 1, 'timespan_weight': 2, 'colsample': 0.5754507919385181, 'max_depth': 4, 'early_stopping_rounds': 94, 'lambda': 0.0002101237394033293, 'alpha': 4.815798526125352e-05}. Best is trial 116 with value: -0.592.\n",
      "[I 2024-01-26 23:34:11,306] Trial 155 finished with value: -0.554 and parameters: {'init_lr': 0.047251115851804276, 'lr_factor': 0.99, 'start_subsample': 0.6048527356996148, 'stop_subsample': 0.9296770380593419, 'timespan_subsample': 1, 'timespan_offset': 1, 'start_weight': 9, 'stop_weight': 2, 'timespan_weight': 2, 'colsample': 0.6573658692287626, 'max_depth': 3, 'early_stopping_rounds': 90, 'lambda': 0.00012080316115044795, 'alpha': 4.443561039069283e-05}. Best is trial 116 with value: -0.592.\n",
      "[I 2024-01-26 23:34:14,269] Trial 156 finished with value: -0.566 and parameters: {'init_lr': 0.0618799035329616, 'lr_factor': 0.99, 'start_subsample': 0.6755540459133431, 'stop_subsample': 0.8544202473068496, 'timespan_subsample': 1, 'timespan_offset': 1, 'start_weight': 10, 'stop_weight': 1, 'timespan_weight': 2, 'colsample': 0.6175855093397258, 'max_depth': 4, 'early_stopping_rounds': 87, 'lambda': 0.0005088568121672923, 'alpha': 0.0002995317001518439}. Best is trial 116 with value: -0.592.\n",
      "[I 2024-01-26 23:34:16,794] Trial 157 finished with value: -0.578 and parameters: {'init_lr': 0.011405206822950932, 'lr_factor': 0.99, 'start_subsample': 0.6383681106565084, 'stop_subsample': 0.8439709415622852, 'timespan_subsample': 1, 'timespan_offset': 1, 'start_weight': 10, 'stop_weight': 1, 'timespan_weight': 2, 'colsample': 0.5662368939039966, 'max_depth': 5, 'early_stopping_rounds': 84, 'lambda': 0.0011076508443360685, 'alpha': 0.00012367088695304078}. Best is trial 116 with value: -0.592.\n",
      "[I 2024-01-26 23:34:22,381] Trial 158 finished with value: -0.578 and parameters: {'init_lr': 0.03103022664647146, 'lr_factor': 0.99, 'start_subsample': 0.6332106843697998, 'stop_subsample': 0.8769493673578364, 'timespan_subsample': 1, 'timespan_offset': 1, 'start_weight': 10, 'stop_weight': 1, 'timespan_weight': 2, 'colsample': 0.5971493136691796, 'max_depth': 5, 'early_stopping_rounds': 84, 'lambda': 0.0012991133160813754, 'alpha': 0.00010282111349907109}. Best is trial 116 with value: -0.592.\n",
      "[I 2024-01-26 23:34:27,110] Trial 159 finished with value: -0.576 and parameters: {'init_lr': 0.012208462793207541, 'lr_factor': 0.99, 'start_subsample': 0.6490982435843095, 'stop_subsample': 0.839600835085168, 'timespan_subsample': 1, 'timespan_offset': 1, 'start_weight': 10, 'stop_weight': 1, 'timespan_weight': 2, 'colsample': 0.561241841211956, 'max_depth': 5, 'early_stopping_rounds': 89, 'lambda': 0.0008962260245306789, 'alpha': 1.2975737301921392e-05}. Best is trial 116 with value: -0.592.\n",
      "[I 2024-01-26 23:34:30,753] Trial 160 finished with value: -0.574 and parameters: {'init_lr': 0.04783007344732983, 'lr_factor': 0.99, 'start_subsample': 0.6312691943597014, 'stop_subsample': 0.8055203358419022, 'timespan_subsample': 1, 'timespan_offset': 1, 'start_weight': 10, 'stop_weight': 1, 'timespan_weight': 2, 'colsample': 0.7076115320577155, 'max_depth': 4, 'early_stopping_rounds': 91, 'lambda': 0.00024562534035307354, 'alpha': 5.301011983934085e-05}. Best is trial 116 with value: -0.592.\n",
      "[I 2024-01-26 23:34:34,693] Trial 161 finished with value: -0.578 and parameters: {'init_lr': 0.010459188577893857, 'lr_factor': 0.99, 'start_subsample': 0.5789280918899157, 'stop_subsample': 0.8859269657056571, 'timespan_subsample': 1, 'timespan_offset': 1, 'start_weight': 10, 'stop_weight': 1, 'timespan_weight': 2, 'colsample': 0.585605308729281, 'max_depth': 6, 'early_stopping_rounds': 96, 'lambda': 0.00044832523129713397, 'alpha': 0.00014019754009714672}. Best is trial 116 with value: -0.592.\n",
      "[I 2024-01-26 23:34:38,115] Trial 162 finished with value: -0.576 and parameters: {'init_lr': 0.0626808664950936, 'lr_factor': 0.99, 'start_subsample': 0.6840208878973163, 'stop_subsample': 0.9077520674622634, 'timespan_subsample': 1, 'timespan_offset': 1, 'start_weight': 10, 'stop_weight': 1, 'timespan_weight': 2, 'colsample': 0.5638507543500026, 'max_depth': 4, 'early_stopping_rounds': 86, 'lambda': 0.0015043169628462146, 'alpha': 1.8478226210720794e-05}. Best is trial 116 with value: -0.592.\n",
      "[I 2024-01-26 23:34:42,364] Trial 163 finished with value: -0.578 and parameters: {'init_lr': 0.0388200952605863, 'lr_factor': 0.99, 'start_subsample': 0.6155354636452284, 'stop_subsample': 0.8230317215137806, 'timespan_subsample': 1, 'timespan_offset': 2, 'start_weight': 9, 'stop_weight': 1, 'timespan_weight': 2, 'colsample': 0.6203209871014865, 'max_depth': 5, 'early_stopping_rounds': 83, 'lambda': 0.0006621549655058498, 'alpha': 0.00019942852030705062}. Best is trial 116 with value: -0.592.\n",
      "[I 2024-01-26 23:34:45,110] Trial 164 finished with value: -0.576 and parameters: {'init_lr': 0.07546426085452132, 'lr_factor': 0.99, 'start_subsample': 0.6630261209692375, 'stop_subsample': 0.8334890591311958, 'timespan_subsample': 1, 'timespan_offset': 1, 'start_weight': 10, 'stop_weight': 1, 'timespan_weight': 2, 'colsample': 0.5928487533511336, 'max_depth': 4, 'early_stopping_rounds': 93, 'lambda': 0.0020979768218341555, 'alpha': 6.991724128530387e-05}. Best is trial 116 with value: -0.592.\n",
      "[I 2024-01-26 23:34:48,311] Trial 165 finished with value: -0.576 and parameters: {'init_lr': 0.029912951204779076, 'lr_factor': 0.99, 'start_subsample': 0.5379371554136991, 'stop_subsample': 0.9598271672042304, 'timespan_subsample': 1, 'timespan_offset': 1, 'start_weight': 10, 'stop_weight': 1, 'timespan_weight': 2, 'colsample': 0.42551002404112537, 'max_depth': 5, 'early_stopping_rounds': 87, 'lambda': 0.0010376174295143928, 'alpha': 0.00013378692309218502}. Best is trial 116 with value: -0.592.\n",
      "[I 2024-01-26 23:34:52,368] Trial 166 finished with value: -0.576 and parameters: {'init_lr': 0.030326415768992986, 'lr_factor': 0.99, 'start_subsample': 0.6285616653051115, 'stop_subsample': 0.8768204803982561, 'timespan_subsample': 1, 'timespan_offset': 1, 'start_weight': 10, 'stop_weight': 1, 'timespan_weight': 2, 'colsample': 0.6098168733476802, 'max_depth': 5, 'early_stopping_rounds': 84, 'lambda': 0.0015917102489331496, 'alpha': 8.627147682138098e-05}. Best is trial 116 with value: -0.592.\n",
      "[I 2024-01-26 23:34:56,006] Trial 167 finished with value: -0.578 and parameters: {'init_lr': 0.051445048804120416, 'lr_factor': 0.99, 'start_subsample': 0.644851502634709, 'stop_subsample': 0.846767239556998, 'timespan_subsample': 1, 'timespan_offset': 1, 'start_weight': 10, 'stop_weight': 1, 'timespan_weight': 2, 'colsample': 0.6404294507521469, 'max_depth': 5, 'early_stopping_rounds': 85, 'lambda': 0.0010575908476881226, 'alpha': 9.696160807923574e-05}. Best is trial 116 with value: -0.592.\n",
      "[I 2024-01-26 23:34:58,987] Trial 168 finished with value: -0.578 and parameters: {'init_lr': 0.01036783255767543, 'lr_factor': 0.99, 'start_subsample': 0.6976717648102304, 'stop_subsample': 0.8596076522587107, 'timespan_subsample': 1, 'timespan_offset': 1, 'start_weight': 10, 'stop_weight': 1, 'timespan_weight': 2, 'colsample': 0.5931737822523485, 'max_depth': 6, 'early_stopping_rounds': 88, 'lambda': 0.0003409293127338652, 'alpha': 0.00023329233659120314}. Best is trial 116 with value: -0.592.\n",
      "[I 2024-01-26 23:35:02,059] Trial 169 finished with value: -0.584 and parameters: {'init_lr': 0.04802279762663723, 'lr_factor': 0.99, 'start_subsample': 0.6210470903975998, 'stop_subsample': 0.8803734440402835, 'timespan_subsample': 1, 'timespan_offset': 1, 'start_weight': 10, 'stop_weight': 1, 'timespan_weight': 2, 'colsample': 0.5517167646694453, 'max_depth': 4, 'early_stopping_rounds': 81, 'lambda': 0.002952537729669649, 'alpha': 0.00036898934719432837}. Best is trial 116 with value: -0.592.\n",
      "[I 2024-01-26 23:35:04,485] Trial 170 finished with value: -0.572 and parameters: {'init_lr': 0.050431177503019294, 'lr_factor': 0.99, 'start_subsample': 0.7336803011750304, 'stop_subsample': 0.8936036326842379, 'timespan_subsample': 1, 'timespan_offset': 1, 'start_weight': 9, 'stop_weight': 1, 'timespan_weight': 2, 'colsample': 0.5778190160281809, 'max_depth': 4, 'early_stopping_rounds': 80, 'lambda': 0.002769598453471413, 'alpha': 0.0003387708267290116}. Best is trial 116 with value: -0.592.\n",
      "[I 2024-01-26 23:35:08,396] Trial 171 finished with value: -0.496 and parameters: {'init_lr': 0.08637584256158805, 'lr_factor': 0.99, 'start_subsample': 0.6681603675977575, 'stop_subsample': 0.8684603296582383, 'timespan_subsample': 1, 'timespan_offset': 3, 'start_weight': 10, 'stop_weight': 4, 'timespan_weight': 2, 'colsample': 0.5503241465559242, 'max_depth': 4, 'early_stopping_rounds': 83, 'lambda': 0.004719141537863759, 'alpha': 0.000590210304067776}. Best is trial 116 with value: -0.592.\n",
      "[I 2024-01-26 23:35:10,719] Trial 172 finished with value: -0.496 and parameters: {'init_lr': 0.6274009214615326, 'lr_factor': 0.99, 'start_subsample': 0.5609828859057638, 'stop_subsample': 0.9231593310889005, 'timespan_subsample': 1, 'timespan_offset': 1, 'start_weight': 10, 'stop_weight': 1, 'timespan_weight': 2, 'colsample': 0.5292245149368376, 'max_depth': 3, 'early_stopping_rounds': 81, 'lambda': 0.018060975914280845, 'alpha': 0.0010191798452482393}. Best is trial 116 with value: -0.592.\n",
      "[I 2024-01-26 23:35:13,678] Trial 173 finished with value: -0.55 and parameters: {'init_lr': 0.06299063969797482, 'lr_factor': 0.99, 'start_subsample': 0.5864632920270257, 'stop_subsample': 0.9006198602729163, 'timespan_subsample': 1, 'timespan_offset': 1, 'start_weight': 10, 'stop_weight': 2, 'timespan_weight': 2, 'colsample': 0.4843439759673178, 'max_depth': 4, 'early_stopping_rounds': 91, 'lambda': 0.00018354058142159115, 'alpha': 0.00047335737324645814}. Best is trial 116 with value: -0.592.\n",
      "[I 2024-01-26 23:35:16,326] Trial 174 finished with value: -0.588 and parameters: {'init_lr': 0.02773199137190758, 'lr_factor': 0.99, 'start_subsample': 0.68413677998768, 'stop_subsample': 0.8913172629480339, 'timespan_subsample': 1, 'timespan_offset': 1, 'start_weight': 9, 'stop_weight': 1, 'timespan_weight': 2, 'colsample': 0.5640892790321306, 'max_depth': 3, 'early_stopping_rounds': 61, 'lambda': 0.006058266838473349, 'alpha': 0.0008206151160361152}. Best is trial 116 with value: -0.592.\n",
      "[I 2024-01-26 23:35:17,969] Trial 175 finished with value: -0.496 and parameters: {'init_lr': 0.765717054295673, 'lr_factor': 1, 'start_subsample': 0.7067626910636313, 'stop_subsample': 0.8837122492236126, 'timespan_subsample': 1, 'timespan_offset': 1, 'start_weight': 9, 'stop_weight': 1, 'timespan_weight': 2, 'colsample': 0.5061959615143756, 'max_depth': 3, 'early_stopping_rounds': 61, 'lambda': 0.006485863836099026, 'alpha': 0.0010924459852678862}. Best is trial 116 with value: -0.592.\n",
      "[I 2024-01-26 23:35:21,376] Trial 176 finished with value: -0.572 and parameters: {'init_lr': 0.01050221600530777, 'lr_factor': 0.99, 'start_subsample': 0.6734322931947174, 'stop_subsample': 0.8913823354366287, 'timespan_subsample': 1, 'timespan_offset': 1, 'start_weight': 9, 'stop_weight': 1, 'timespan_weight': 2, 'colsample': 0.568899027125244, 'max_depth': 3, 'early_stopping_rounds': 61, 'lambda': 0.0038943538605096606, 'alpha': 0.0007437920944882812}. Best is trial 116 with value: -0.592.\n",
      "[I 2024-01-26 23:35:23,984] Trial 177 finished with value: -0.584 and parameters: {'init_lr': 0.034877040831619036, 'lr_factor': 0.99, 'start_subsample': 0.7253745484028277, 'stop_subsample': 0.9356186891274072, 'timespan_subsample': 1, 'timespan_offset': 1, 'start_weight': 10, 'stop_weight': 1, 'timespan_weight': 2, 'colsample': 0.5413009331931511, 'max_depth': 4, 'early_stopping_rounds': 66, 'lambda': 0.027887273033631674, 'alpha': 0.00027946228007827444}. Best is trial 116 with value: -0.592.\n",
      "[I 2024-01-26 23:35:27,578] Trial 178 finished with value: -0.566 and parameters: {'init_lr': 0.045424994293886994, 'lr_factor': 0.99, 'start_subsample': 0.7181970138802383, 'stop_subsample': 0.9362056529027074, 'timespan_subsample': 1, 'timespan_offset': 1, 'start_weight': 9, 'stop_weight': 1, 'timespan_weight': 2, 'colsample': 0.5530697139159744, 'max_depth': 4, 'early_stopping_rounds': 65, 'lambda': 0.02739871953699863, 'alpha': 0.00029750103355047727}. Best is trial 116 with value: -0.592.\n",
      "[I 2024-01-26 23:35:30,451] Trial 179 finished with value: -0.568 and parameters: {'init_lr': 0.07206661961853535, 'lr_factor': 0.99, 'start_subsample': 0.7503337933348796, 'stop_subsample': 0.8879766374850632, 'timespan_subsample': 1, 'timespan_offset': 1, 'start_weight': 10, 'stop_weight': 1, 'timespan_weight': 2, 'colsample': 0.5257075270772297, 'max_depth': 3, 'early_stopping_rounds': 67, 'lambda': 0.015531248850574084, 'alpha': 0.0004674798337978306}. Best is trial 116 with value: -0.592.\n",
      "[I 2024-01-26 23:35:32,392] Trial 180 finished with value: -0.23 and parameters: {'init_lr': 0.03480128159568159, 'lr_factor': 0.99, 'start_subsample': 0.6935374302458321, 'stop_subsample': 0.8994890900911926, 'timespan_subsample': 1, 'timespan_offset': 1, 'start_weight': 9, 'stop_weight': 9, 'timespan_weight': 2, 'colsample': 0.542960681299328, 'max_depth': 4, 'early_stopping_rounds': 64, 'lambda': 0.03044631847886672, 'alpha': 0.00021794820985609207}. Best is trial 116 with value: -0.592.\n",
      "[I 2024-01-26 23:35:34,475] Trial 181 finished with value: -0.566 and parameters: {'init_lr': 0.08861610554277292, 'lr_factor': 0.99, 'start_subsample': 0.7195086244940193, 'stop_subsample': 0.9119681839251763, 'timespan_subsample': 1, 'timespan_offset': 1, 'start_weight': 10, 'stop_weight': 1, 'timespan_weight': 2, 'colsample': 0.4625710677793853, 'max_depth': 4, 'early_stopping_rounds': 59, 'lambda': 0.011848798066010588, 'alpha': 0.0006951591668686374}. Best is trial 116 with value: -0.592.\n",
      "[I 2024-01-26 23:35:37,563] Trial 182 finished with value: -0.576 and parameters: {'init_lr': 0.05577649446211941, 'lr_factor': 0.99, 'start_subsample': 0.48670207486397793, 'stop_subsample': 0.9466846635976709, 'timespan_subsample': 1, 'timespan_offset': 1, 'start_weight': 10, 'stop_weight': 1, 'timespan_weight': 2, 'colsample': 0.5128154675170167, 'max_depth': 3, 'early_stopping_rounds': 63, 'lambda': 0.05461701174911758, 'alpha': 0.002826120542823161}. Best is trial 116 with value: -0.592.\n",
      "[I 2024-01-26 23:35:40,447] Trial 183 finished with value: -0.572 and parameters: {'init_lr': 0.03155770592900583, 'lr_factor': 0.99, 'start_subsample': 0.7675954898085383, 'stop_subsample': 0.8957379261017784, 'timespan_subsample': 1, 'timespan_offset': 1, 'start_weight': 10, 'stop_weight': 1, 'timespan_weight': 2, 'colsample': 0.41284934250355304, 'max_depth': 3, 'early_stopping_rounds': 89, 'lambda': 0.020512392657315675, 'alpha': 0.0015880303695725512}. Best is trial 116 with value: -0.592.\n",
      "[I 2024-01-26 23:35:43,184] Trial 184 finished with value: -0.588 and parameters: {'init_lr': 0.07011002669667037, 'lr_factor': 0.99, 'start_subsample': 0.7429194858947028, 'stop_subsample': 0.9279614360624532, 'timespan_subsample': 1, 'timespan_offset': 1, 'start_weight': 5, 'stop_weight': 1, 'timespan_weight': 2, 'colsample': 0.49115329308664407, 'max_depth': 4, 'early_stopping_rounds': 68, 'lambda': 0.007223159085466219, 'alpha': 0.000407459977099103}. Best is trial 116 with value: -0.592.\n",
      "[I 2024-01-26 23:35:45,442] Trial 185 finished with value: -0.554 and parameters: {'init_lr': 0.1140327872694391, 'lr_factor': 0.99, 'start_subsample': 0.7375951080088203, 'stop_subsample': 0.9279747682282626, 'timespan_subsample': 1, 'timespan_offset': 1, 'start_weight': 5, 'stop_weight': 1, 'timespan_weight': 2, 'colsample': 0.48449574532523865, 'max_depth': 4, 'early_stopping_rounds': 69, 'lambda': 0.006311076025716617, 'alpha': 0.0003877434740491866}. Best is trial 116 with value: -0.592.\n",
      "[I 2024-01-26 23:35:47,858] Trial 186 finished with value: -0.576 and parameters: {'init_lr': 0.07018722785326162, 'lr_factor': 0.99, 'start_subsample': 0.6864796860801617, 'stop_subsample': 0.9205510810619246, 'timespan_subsample': 1, 'timespan_offset': 1, 'start_weight': 5, 'stop_weight': 1, 'timespan_weight': 2, 'colsample': 0.44256988969952654, 'max_depth': 4, 'early_stopping_rounds': 67, 'lambda': 0.012912696441937325, 'alpha': 0.00023489265020066116}. Best is trial 116 with value: -0.592.\n"
     ]
    }
   ],
   "source": [
    "# 3. Create a study object and optimize the objective function.\n",
    "#study = optuna.create_study(direction='minimize')\n",
    "study.optimize(objective, n_trials=100)"
   ]
  },
  {
   "cell_type": "code",
   "execution_count": null,
   "id": "97d0f576-7ec5-45a3-b10d-95050db67280",
   "metadata": {},
   "outputs": [],
   "source": []
  },
  {
   "cell_type": "code",
   "execution_count": null,
   "id": "68f99bdd-740a-45ab-ab64-f7d2e71a466b",
   "metadata": {},
   "outputs": [],
   "source": []
  }
 ],
 "metadata": {
  "kernelspec": {
   "display_name": "Python 3 (ipykernel)",
   "language": "python",
   "name": "python3"
  },
  "language_info": {
   "codemirror_mode": {
    "name": "ipython",
    "version": 3
   },
   "file_extension": ".py",
   "mimetype": "text/x-python",
   "name": "python",
   "nbconvert_exporter": "python",
   "pygments_lexer": "ipython3",
   "version": "3.10.12"
  }
 },
 "nbformat": 4,
 "nbformat_minor": 5
}
