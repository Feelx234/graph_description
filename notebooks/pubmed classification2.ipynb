{
 "cells": [
  {
   "cell_type": "code",
   "execution_count": 1,
   "id": "a2e00a39-1437-4525-8b7f-d3206afcb55a",
   "metadata": {},
   "outputs": [],
   "source": [
    "#%load_ext autoreload\n",
    "#%autoreload 1\n",
    "#%aimport graph_description\n",
    "import networkx as nx\n",
    "import pysubgroup as ps\n",
    "import numpy as np\n",
    "import pandas as pd\n",
    "pd.set_option('display.max_colwidth', None)"
   ]
  },
  {
   "cell_type": "code",
   "execution_count": 2,
   "id": "58bb2397-c6c5-4205-b9fc-c1794ab34728",
   "metadata": {},
   "outputs": [],
   "source": [
    "from graph_description.datasets import nx_read_attributed_graph\n",
    "from graph_description.utils import prune_sparse_selectors\n",
    "from graph_description.networkx_aggregation import SumAggregator, MeanAggregator, apply_aggregator    "
   ]
  },
  {
   "cell_type": "code",
   "execution_count": 3,
   "id": "832df684-0271-4a08-b1ac-b3c261c69226",
   "metadata": {},
   "outputs": [
    {
     "name": "stdout",
     "output_type": "stream",
     "text": [
      "n_edges= 88648 n_nodes 19717\n"
     ]
    }
   ],
   "source": [
    "G, df = nx_read_attributed_graph(\"pubmed\")\n",
    "print(\"n_edges=\", G.number_of_edges(), \"n_nodes\", G.number_of_nodes())"
   ]
  },
  {
   "cell_type": "code",
   "execution_count": 4,
   "id": "2a96ff09-881c-4fc6-ab3d-881a7a1f63c5",
   "metadata": {},
   "outputs": [],
   "source": [
    "searchspace = ps.create_selectors(df, ignore=['label'])\n",
    "searchspace = [sel for sel in searchspace if \"==0\" not in str(sel)]"
   ]
  },
  {
   "cell_type": "code",
   "execution_count": 5,
   "id": "593f7c7c-fcdd-4ba3-a307-15ba482c829f",
   "metadata": {},
   "outputs": [
    {
     "data": {
      "text/plain": [
       "2500"
      ]
     },
     "execution_count": 5,
     "metadata": {},
     "output_type": "execute_result"
    }
   ],
   "source": [
    "len(searchspace)"
   ]
  },
  {
   "cell_type": "code",
   "execution_count": 2,
   "id": "c39fb1cd-4d07-4576-8465-760234df87e1",
   "metadata": {},
   "outputs": [],
   "source": [
    "for i in range(0):\n",
    "    print(i)"
   ]
  },
  {
   "cell_type": "code",
   "execution_count": 6,
   "id": "bdc77ca4-2f2b-416a-b032-a2904d116742",
   "metadata": {},
   "outputs": [
    {
     "name": "stdout",
     "output_type": "stream",
     "text": [
      "init\n",
      "prep done\n",
      "A\n",
      "init\n",
      "prep done\n",
      "CPU times: total: 4.7 s\n",
      "Wall time: 4.79 s\n"
     ]
    }
   ],
   "source": [
    "%%time\n",
    "# do the actual propagation\n",
    "df1 = apply_aggregator(SumAggregator, df, G, searchspace)\n",
    "print(\"A\")\n",
    "df2 = apply_aggregator((SumAggregator, MeanAggregator), df1, G)"
   ]
  },
  {
   "cell_type": "code",
   "execution_count": 7,
   "id": "336cd4f1-7f6e-493c-b973-69ef6c5e5502",
   "metadata": {},
   "outputs": [],
   "source": [
    "#create the final dataframe & searchspace\n",
    "total_df = pd.concat([df], axis=1)\n",
    "\n",
    "#total_searchspace = searchspace+searchspace1+searchspace2\n",
    "#ss2 = prune_sparse_selectors(total_searchspace, total_df)\n",
    "#print(len(total_searchspace), len(ss2))"
   ]
  },
  {
   "cell_type": "code",
   "execution_count": 8,
   "id": "168d27b0-a666-4c8d-b165-5120b062926f",
   "metadata": {},
   "outputs": [
    {
     "data": {
      "text/plain": [
       "0        1\n",
       "1        1\n",
       "2        0\n",
       "3        2\n",
       "4        1\n",
       "        ..\n",
       "19712    2\n",
       "19713    0\n",
       "19714    2\n",
       "19715    0\n",
       "19716    2\n",
       "Name: label, Length: 19717, dtype: int64"
      ]
     },
     "execution_count": 8,
     "metadata": {},
     "output_type": "execute_result"
    }
   ],
   "source": [
    "total_df[\"label\"]"
   ]
  },
  {
   "cell_type": "code",
   "execution_count": 9,
   "id": "51b22029-e837-4496-b0cc-4a7357696cf4",
   "metadata": {},
   "outputs": [],
   "source": [
    "def fix_column_name(name):\n",
    "    return str(name).replace(\"<\", \" smaller \").replace(\"[\", \"{\").replace(\"]\",  \"}\")"
   ]
  },
  {
   "cell_type": "code",
   "execution_count": 10,
   "id": "d2fbf239-fc06-45de-b4d0-61791d07743e",
   "metadata": {},
   "outputs": [
    {
     "data": {
      "text/plain": [
       "0"
      ]
     },
     "execution_count": 10,
     "metadata": {},
     "output_type": "execute_result"
    }
   ],
   "source": [
    "pd.isna(total_df).any(axis=1).sum()"
   ]
  },
  {
   "cell_type": "code",
   "execution_count": 11,
   "id": "21433ff0-feef-4a57-92dc-014fdf7ea2b1",
   "metadata": {},
   "outputs": [],
   "source": [
    "train_df = total_df.drop(\"label\", axis=1)\n",
    "train_df.columns= list(map(fix_column_name, train_df.columns))"
   ]
  },
  {
   "cell_type": "code",
   "execution_count": 12,
   "id": "0a202b24-2d52-4cb8-b48d-41f9c25f0ae9",
   "metadata": {},
   "outputs": [],
   "source": [
    "from sklearn.model_selection import train_test_split, cross_val_score, cross_validate\n",
    "X_train, X_test, y_train, y_test = train_test_split(train_df, total_df['label'], test_size=.2)"
   ]
  },
  {
   "cell_type": "code",
   "execution_count": 13,
   "id": "53917b08-490c-403e-b5b3-e17a7b16081c",
   "metadata": {},
   "outputs": [],
   "source": [
    "from xgboost import XGBClassifier, XGBRFClassifier"
   ]
  },
  {
   "cell_type": "code",
   "execution_count": 14,
   "id": "85ff7b10-1b13-4e1c-a108-30dbcd2b5a3c",
   "metadata": {},
   "outputs": [],
   "source": [
    "#bst = XGBClassifier(n_estimators=10, max_depth=2, learning_rate=1, objective='binary:logistic')\n",
    "## fit model\n",
    "#bst.fit(X_train, y_train)"
   ]
  },
  {
   "cell_type": "code",
   "execution_count": 15,
   "id": "3dd6ef0f-834e-4c09-9ad5-c2fdb36c5952",
   "metadata": {},
   "outputs": [],
   "source": [
    "#bst.score(X_test, y_test)"
   ]
  },
  {
   "cell_type": "code",
   "execution_count": 16,
   "id": "714701ec-4ae1-487a-a779-b563722b84ba",
   "metadata": {},
   "outputs": [],
   "source": [
    "#from sklearn.linear_model import LogisticRegression\n",
    "#clf_LR = LogisticRegression()\n",
    "#cross_val_score(clf_LR, train_df, total_df['label'], cv=5)"
   ]
  },
  {
   "cell_type": "code",
   "execution_count": 17,
   "id": "befa1815-5218-4828-a07f-e0c5af8b9a52",
   "metadata": {},
   "outputs": [
    {
     "data": {
      "text/plain": [
       "Index(['0', '1', '2', '3', '4', '5', '6', '7', '8', '9',\n",
       "       ...\n",
       "       '490', '491', '492', '493', '494', '495', '496', '497', '498', '499'],\n",
       "      dtype='object', length=500)"
      ]
     },
     "execution_count": 17,
     "metadata": {},
     "output_type": "execute_result"
    }
   ],
   "source": [
    "train_df.columns"
   ]
  },
  {
   "cell_type": "code",
   "execution_count": null,
   "id": "2ea28998-d6f2-4f99-af17-45d778b37de5",
   "metadata": {},
   "outputs": [],
   "source": []
  },
  {
   "cell_type": "code",
   "execution_count": 18,
   "id": "be342e33-2553-4887-aa95-f1cb3b1846f5",
   "metadata": {},
   "outputs": [],
   "source": [
    "def do_cross_validate(clf):\n",
    "    results = cross_validate(clf, train_df, total_df['label'], cv=5, scoring=('accuracy', \"f1_micro\"))\n",
    "    #print(results)\n",
    "    print(\"test_accuracy\", results[\"test_accuracy\"])\n",
    "    print(\"test_f2\", results[\"test_f1_micro\"])\n",
    "    return results"
   ]
  },
  {
   "cell_type": "code",
   "execution_count": null,
   "id": "076644cf-2010-4e8e-8f8e-ce6258e8da95",
   "metadata": {},
   "outputs": [],
   "source": []
  },
  {
   "cell_type": "code",
   "execution_count": null,
   "id": "3bc14210-8202-417b-8bea-b73849b8b99f",
   "metadata": {},
   "outputs": [],
   "source": []
  },
  {
   "cell_type": "markdown",
   "id": "78307fab-b732-4882-9f9a-60ac778a50bf",
   "metadata": {},
   "source": [
    "## For comparison\n",
    "\n",
    "From Prediction instability paper:\n",
    "### Pubmed\n",
    "GAT: Accuracy 75.69+-0.69\n",
    "\n",
    "GCN: Accuracy 76.78+- 0.55\n"
   ]
  },
  {
   "cell_type": "markdown",
   "id": "d2605ae6-8a8d-4471-8eae-a232312ca388",
   "metadata": {},
   "source": [
    "## xgboost"
   ]
  },
  {
   "cell_type": "code",
   "execution_count": 19,
   "id": "1a765dc6-4a44-493a-ae09-fe72dc10f55b",
   "metadata": {},
   "outputs": [],
   "source": [
    "default_params = {\n",
    "    \"learning_rate\":1,\n",
    "    \"objective\":'binary:logistic',\n",
    "    \"n_jobs\" : 4,\n",
    "}"
   ]
  },
  {
   "cell_type": "code",
   "execution_count": 28,
   "id": "87c19321-2326-47cb-bf13-67985fd13dab",
   "metadata": {},
   "outputs": [
    {
     "name": "stdout",
     "output_type": "stream",
     "text": [
      "test_accuracy [0.87271805 0.8775355  0.88130865 0.88612731 0.88562009]\n",
      "test_f2 [0.87271805 0.8775355  0.88130865 0.88612731 0.88562009]\n",
      "CPU times: total: 27 s\n",
      "Wall time: 9.1 s\n"
     ]
    }
   ],
   "source": [
    "%%time\n",
    "clf = XGBClassifier(n_estimators=10, max_depth=3, **default_params)\n",
    "result_clf1 = do_cross_validate(clf)"
   ]
  },
  {
   "cell_type": "code",
   "execution_count": 21,
   "id": "4723f9ce-8c47-4de3-9890-8d39684f6ea7",
   "metadata": {},
   "outputs": [
    {
     "name": "stdout",
     "output_type": "stream",
     "text": [
      "test_accuracy [0.88235294 0.88235294 0.88917068 0.887649   0.88891707]\n",
      "test_f2 [0.88235294 0.88235294 0.88917068 0.887649   0.88891707]\n",
      "CPU times: total: 31.3 s\n",
      "Wall time: 10.1 s\n"
     ]
    }
   ],
   "source": [
    "%%time\n",
    "clf = XGBClassifier(n_estimators=15, max_depth=3, **default_params)\n",
    "result_clf2 = do_cross_validate(clf)"
   ]
  },
  {
   "cell_type": "code",
   "execution_count": 22,
   "id": "104644ac-dbf5-491d-8935-682bb91e5369",
   "metadata": {},
   "outputs": [
    {
     "name": "stdout",
     "output_type": "stream",
     "text": [
      "test_accuracy [0.88590264 0.89097363 0.89348212 0.89475019 0.88840984]\n",
      "test_f2 [0.88590264 0.89097363 0.89348212 0.89475019 0.88840984]\n",
      "CPU times: total: 35.2 s\n",
      "Wall time: 11.2 s\n"
     ]
    }
   ],
   "source": [
    "%%time\n",
    "clf = XGBClassifier(n_estimators=20, max_depth=3, **default_params)\n",
    "result_clf3 = do_cross_validate(clf)"
   ]
  },
  {
   "cell_type": "code",
   "execution_count": 23,
   "id": "2e8b97a9-4013-4065-bcd8-82fe1d18bf86",
   "metadata": {},
   "outputs": [
    {
     "name": "stdout",
     "output_type": "stream",
     "text": [
      "test_accuracy [0.81059838 0.82074037 0.81968045 0.81689069 0.81410094]\n",
      "test_f2 [0.81059838 0.82074037 0.81968045 0.81689069 0.81410094]\n",
      "CPU times: total: 36.7 s\n",
      "Wall time: 11.5 s\n"
     ]
    }
   ],
   "source": [
    "%%time\n",
    "clf_RF = XGBRFClassifier(n_estimators=20, max_depth=3, **default_params)\n",
    "result_clf_RF = do_cross_validate(clf_RF)"
   ]
  },
  {
   "cell_type": "markdown",
   "id": "4efd63de-174c-4d2e-9b93-f54a17b43ea4",
   "metadata": {},
   "source": [
    "## sklearn"
   ]
  },
  {
   "cell_type": "code",
   "execution_count": 24,
   "id": "cdc16d18-8e56-407a-9ae3-2213b24c8117",
   "metadata": {},
   "outputs": [],
   "source": [
    "from sklearn.dummy import DummyClassifier\n",
    "from sklearn.naive_bayes import GaussianNB\n",
    "import warnings"
   ]
  },
  {
   "cell_type": "code",
   "execution_count": 25,
   "id": "135ff68f-0117-4b83-b0fe-cd3e34457598",
   "metadata": {},
   "outputs": [
    {
     "name": "stdout",
     "output_type": "stream",
     "text": [
      "test_accuracy [0.39934077 0.39934077 0.39944205 0.39944205 0.39944205]\n",
      "test_f2 [0.39934077 0.39934077 0.39944205 0.39944205 0.39944205]\n",
      "CPU times: total: 3.7 s\n",
      "Wall time: 3.49 s\n"
     ]
    }
   ],
   "source": [
    "%%time\n",
    "dummy_clf = DummyClassifier()\n",
    "result_dummy = do_cross_validate(dummy_clf)"
   ]
  },
  {
   "cell_type": "code",
   "execution_count": 26,
   "id": "f46d179e-a3e0-4743-a400-8f5a21e33135",
   "metadata": {},
   "outputs": [
    {
     "name": "stderr",
     "output_type": "stream",
     "text": [
      "\n",
      "KeyboardInterrupt\n",
      "\n"
     ]
    }
   ],
   "source": [
    "%%time\n",
    "clf_NB = GaussianNB()\n",
    "with warnings.catch_warnings():\n",
    "    warnings.filterwarnings(\"ignore\", message=\"pandas.DataFrame with sparse columns found.It will be converted to a dense numpy array.\")\n",
    "    result_clf_NB = do_cross_validate(clf_NB)"
   ]
  },
  {
   "cell_type": "code",
   "execution_count": null,
   "id": "4a40fd33-7160-441d-ab1f-719d65d09dd1",
   "metadata": {},
   "outputs": [],
   "source": []
  },
  {
   "cell_type": "code",
   "execution_count": null,
   "id": "3592d08f-6081-45d7-af76-3df2e3fec6dc",
   "metadata": {},
   "outputs": [],
   "source": []
  }
 ],
 "metadata": {
  "kernelspec": {
   "display_name": "Python 3 (ipykernel)",
   "language": "python",
   "name": "python3"
  },
  "language_info": {
   "codemirror_mode": {
    "name": "ipython",
    "version": 3
   },
   "file_extension": ".py",
   "mimetype": "text/x-python",
   "name": "python",
   "nbconvert_exporter": "python",
   "pygments_lexer": "ipython3",
   "version": "3.10.11"
  }
 },
 "nbformat": 4,
 "nbformat_minor": 5
}
