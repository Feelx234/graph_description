{
 "cells": [
  {
   "cell_type": "code",
   "execution_count": 1,
   "id": "a2e00a39-1437-4525-8b7f-d3206afcb55a",
   "metadata": {},
   "outputs": [],
   "source": [
    "%load_ext autoreload\n",
    "%autoreload 1\n",
    "%aimport graph_description\n",
    "from graph_description.datasets import get_knecht_data\n",
    "import networkx as nx\n",
    "import pysubgroup as ps\n",
    "import numpy as np\n",
    "import pandas as pd\n",
    "pd.set_option('display.max_colwidth', None)"
   ]
  },
  {
   "cell_type": "code",
   "execution_count": 20,
   "id": "452fac90-1b1d-462e-b3a9-ef8eaeccf6e9",
   "metadata": {},
   "outputs": [
    {
     "name": "stdout",
     "output_type": "stream",
     "text": [
      "Modules to reload:\n",
      "graph_description\n",
      "\n",
      "Modules to skip:\n",
      "\n"
     ]
    }
   ],
   "source": [
    "%aimport"
   ]
  },
  {
   "cell_type": "code",
   "execution_count": 2,
   "id": "58bb2397-c6c5-4205-b9fc-c1794ab34728",
   "metadata": {},
   "outputs": [],
   "source": [
    "from graph_description.utils import get_dataset_folder"
   ]
  },
  {
   "cell_type": "code",
   "execution_count": 3,
   "id": "9c3654ce-bd40-4a29-9f93-4c9a01bf9420",
   "metadata": {},
   "outputs": [],
   "source": [
    "dataset_folder = get_dataset_folder()\n",
    "data = np.load(dataset_folder/\"citeseer.npz\")"
   ]
  },
  {
   "cell_type": "code",
   "execution_count": 4,
   "id": "07b8f5d1-7321-42fb-b7bf-6eac1e8e5829",
   "metadata": {},
   "outputs": [],
   "source": [
    "from scipy.sparse import coo_array\n",
    "\n",
    "def npz_to_coo_array(data, prefix=\"attr\"):\n",
    "    \"\"\"convert data from npz file into coo sparse array\n",
    "    convert data from https://github.com/shchur/gnn-benchmark/tree/master/data\n",
    "      into sparse matrix \"\"\"\n",
    "    assert prefix in [\"adj\", \"attr\"]\n",
    "    def to_indices(data):\n",
    "        n = len(data[prefix+\"_indptr\"]) -1\n",
    "        return np.repeat(np.arange(n), np.diff(data[prefix+\"_indptr\"]))\n",
    "    \n",
    "    return coo_array((data[prefix+\"_data\"], (to_indices(data), data[prefix+\"_indices\"])), shape=data[prefix+\"_shape\"])"
   ]
  },
  {
   "cell_type": "code",
   "execution_count": 5,
   "id": "3018bf54-6274-4306-be54-405f3b1bba20",
   "metadata": {},
   "outputs": [
    {
     "data": {
      "text/plain": [
       "4715"
      ]
     },
     "execution_count": 5,
     "metadata": {},
     "output_type": "execute_result"
    }
   ],
   "source": [
    "len(data[\"adj_data\"])"
   ]
  },
  {
   "cell_type": "code",
   "execution_count": 6,
   "id": "bd5c0e18-0469-4ba7-b63c-a03b79b83b4b",
   "metadata": {},
   "outputs": [],
   "source": [
    "attr_array = npz_to_coo_array(data, \"attr\")\n",
    "df = pd.DataFrame.sparse.from_spmatrix(attr_array)\n",
    "df[\"label\"] = data[\"labels\"]"
   ]
  },
  {
   "cell_type": "code",
   "execution_count": 7,
   "id": "05a2e1f8-4e5c-4894-be61-58231fcf310d",
   "metadata": {},
   "outputs": [
    {
     "data": {
      "text/plain": [
       "<3312x3703 sparse array of type '<class 'numpy.float32'>'\n",
       "\twith 105165 stored elements in COOrdinate format>"
      ]
     },
     "execution_count": 7,
     "metadata": {},
     "output_type": "execute_result"
    }
   ],
   "source": [
    "attr_array"
   ]
  },
  {
   "cell_type": "code",
   "execution_count": null,
   "id": "fcc4e37a-75ed-4fd9-8740-0ac685736d1d",
   "metadata": {},
   "outputs": [],
   "source": []
  },
  {
   "cell_type": "code",
   "execution_count": 8,
   "id": "46bb99c0-b827-494f-a7fd-278e988b9f2b",
   "metadata": {},
   "outputs": [],
   "source": [
    "adjacency = npz_to_coo_array(data, \"adj\")\n",
    "G = nx.from_scipy_sparse_array(adjacency, create_using=nx.DiGraph)"
   ]
  },
  {
   "cell_type": "code",
   "execution_count": 9,
   "id": "768cf031-bb11-43cf-aafd-dd4276a51f24",
   "metadata": {},
   "outputs": [
    {
     "data": {
      "text/plain": [
       "<3312x3312 sparse array of type '<class 'numpy.float32'>'\n",
       "\twith 4715 stored elements in COOrdinate format>"
      ]
     },
     "execution_count": 9,
     "metadata": {},
     "output_type": "execute_result"
    }
   ],
   "source": [
    "adjacency"
   ]
  },
  {
   "cell_type": "code",
   "execution_count": 10,
   "id": "2a96ff09-881c-4fc6-ab3d-881a7a1f63c5",
   "metadata": {},
   "outputs": [],
   "source": [
    "searchspace = ps.create_selectors(df, ignore=['label'])\n",
    "searchspace = [sel for sel in searchspace if \"==0\" not in str(sel)]"
   ]
  },
  {
   "cell_type": "code",
   "execution_count": 11,
   "id": "d6a804b3-2286-435d-88ed-a981a0a3119d",
   "metadata": {},
   "outputs": [],
   "source": [
    "from graph_description.networkx_aggregation import SumAggregator, MeanAggregator, apply_aggregator    "
   ]
  },
  {
   "cell_type": "code",
   "execution_count": 12,
   "id": "aa277322-7cac-4525-9892-566313d6e05a",
   "metadata": {},
   "outputs": [],
   "source": [
    "%load_ext snakeviz"
   ]
  },
  {
   "cell_type": "code",
   "execution_count": 13,
   "id": "6f3f7893-6f10-408a-a7e5-715168d83c04",
   "metadata": {},
   "outputs": [
    {
     "data": {
      "text/html": [
       "<div>\n",
       "<style scoped>\n",
       "    .dataframe tbody tr th:only-of-type {\n",
       "        vertical-align: middle;\n",
       "    }\n",
       "\n",
       "    .dataframe tbody tr th {\n",
       "        vertical-align: top;\n",
       "    }\n",
       "\n",
       "    .dataframe thead th {\n",
       "        text-align: right;\n",
       "    }\n",
       "</style>\n",
       "<table border=\"1\" class=\"dataframe\">\n",
       "  <thead>\n",
       "    <tr style=\"text-align: right;\">\n",
       "      <th></th>\n",
       "      <th>0</th>\n",
       "      <th>1</th>\n",
       "      <th>2</th>\n",
       "      <th>3</th>\n",
       "      <th>4</th>\n",
       "      <th>5</th>\n",
       "      <th>6</th>\n",
       "      <th>7</th>\n",
       "      <th>8</th>\n",
       "      <th>9</th>\n",
       "      <th>...</th>\n",
       "      <th>90</th>\n",
       "      <th>91</th>\n",
       "      <th>92</th>\n",
       "      <th>93</th>\n",
       "      <th>94</th>\n",
       "      <th>95</th>\n",
       "      <th>96</th>\n",
       "      <th>97</th>\n",
       "      <th>98</th>\n",
       "      <th>99</th>\n",
       "    </tr>\n",
       "  </thead>\n",
       "  <tbody>\n",
       "    <tr>\n",
       "      <th>0</th>\n",
       "      <td>0.0</td>\n",
       "      <td>0.0</td>\n",
       "      <td>0.0</td>\n",
       "      <td>0.0</td>\n",
       "      <td>0.0</td>\n",
       "      <td>0.0</td>\n",
       "      <td>0.0</td>\n",
       "      <td>0.0</td>\n",
       "      <td>0.0</td>\n",
       "      <td>0.0</td>\n",
       "      <td>...</td>\n",
       "      <td>0.0</td>\n",
       "      <td>0.0</td>\n",
       "      <td>0.0</td>\n",
       "      <td>0.0</td>\n",
       "      <td>0.0</td>\n",
       "      <td>0.0</td>\n",
       "      <td>0.0</td>\n",
       "      <td>0.0</td>\n",
       "      <td>0.0</td>\n",
       "      <td>0.0</td>\n",
       "    </tr>\n",
       "    <tr>\n",
       "      <th>1</th>\n",
       "      <td>0.0</td>\n",
       "      <td>0.0</td>\n",
       "      <td>0.0</td>\n",
       "      <td>0.0</td>\n",
       "      <td>0.0</td>\n",
       "      <td>0.0</td>\n",
       "      <td>0.0</td>\n",
       "      <td>0.0</td>\n",
       "      <td>0.0</td>\n",
       "      <td>0.0</td>\n",
       "      <td>...</td>\n",
       "      <td>0.0</td>\n",
       "      <td>0.0</td>\n",
       "      <td>0.0</td>\n",
       "      <td>0.0</td>\n",
       "      <td>0.0</td>\n",
       "      <td>0.0</td>\n",
       "      <td>0.0</td>\n",
       "      <td>0.0</td>\n",
       "      <td>0.0</td>\n",
       "      <td>0.0</td>\n",
       "    </tr>\n",
       "    <tr>\n",
       "      <th>2</th>\n",
       "      <td>0.0</td>\n",
       "      <td>0.0</td>\n",
       "      <td>0.0</td>\n",
       "      <td>0.0</td>\n",
       "      <td>0.0</td>\n",
       "      <td>0.0</td>\n",
       "      <td>0.0</td>\n",
       "      <td>0.0</td>\n",
       "      <td>0.0</td>\n",
       "      <td>0.0</td>\n",
       "      <td>...</td>\n",
       "      <td>0.0</td>\n",
       "      <td>0.0</td>\n",
       "      <td>0.0</td>\n",
       "      <td>0.0</td>\n",
       "      <td>0.0</td>\n",
       "      <td>0.0</td>\n",
       "      <td>0.0</td>\n",
       "      <td>0.0</td>\n",
       "      <td>0.0</td>\n",
       "      <td>0.0</td>\n",
       "    </tr>\n",
       "    <tr>\n",
       "      <th>3</th>\n",
       "      <td>0.0</td>\n",
       "      <td>0.0</td>\n",
       "      <td>0.0</td>\n",
       "      <td>0.0</td>\n",
       "      <td>0.0</td>\n",
       "      <td>0.0</td>\n",
       "      <td>0.0</td>\n",
       "      <td>0.0</td>\n",
       "      <td>0.0</td>\n",
       "      <td>0.0</td>\n",
       "      <td>...</td>\n",
       "      <td>0.0</td>\n",
       "      <td>0.0</td>\n",
       "      <td>0.0</td>\n",
       "      <td>0.0</td>\n",
       "      <td>0.0</td>\n",
       "      <td>0.0</td>\n",
       "      <td>0.0</td>\n",
       "      <td>0.0</td>\n",
       "      <td>0.0</td>\n",
       "      <td>0.0</td>\n",
       "    </tr>\n",
       "    <tr>\n",
       "      <th>4</th>\n",
       "      <td>0.0</td>\n",
       "      <td>0.0</td>\n",
       "      <td>0.0</td>\n",
       "      <td>0.0</td>\n",
       "      <td>0.0</td>\n",
       "      <td>0.0</td>\n",
       "      <td>0.0</td>\n",
       "      <td>0.0</td>\n",
       "      <td>0.0</td>\n",
       "      <td>0.0</td>\n",
       "      <td>...</td>\n",
       "      <td>0.0</td>\n",
       "      <td>0.0</td>\n",
       "      <td>0.0</td>\n",
       "      <td>0.0</td>\n",
       "      <td>0.0</td>\n",
       "      <td>0.0</td>\n",
       "      <td>0.0</td>\n",
       "      <td>0.0</td>\n",
       "      <td>0.0</td>\n",
       "      <td>0.0</td>\n",
       "    </tr>\n",
       "    <tr>\n",
       "      <th>...</th>\n",
       "      <td>...</td>\n",
       "      <td>...</td>\n",
       "      <td>...</td>\n",
       "      <td>...</td>\n",
       "      <td>...</td>\n",
       "      <td>...</td>\n",
       "      <td>...</td>\n",
       "      <td>...</td>\n",
       "      <td>...</td>\n",
       "      <td>...</td>\n",
       "      <td>...</td>\n",
       "      <td>...</td>\n",
       "      <td>...</td>\n",
       "      <td>...</td>\n",
       "      <td>...</td>\n",
       "      <td>...</td>\n",
       "      <td>...</td>\n",
       "      <td>...</td>\n",
       "      <td>...</td>\n",
       "      <td>...</td>\n",
       "      <td>...</td>\n",
       "    </tr>\n",
       "    <tr>\n",
       "      <th>3307</th>\n",
       "      <td>0.0</td>\n",
       "      <td>0.0</td>\n",
       "      <td>0.0</td>\n",
       "      <td>0.0</td>\n",
       "      <td>0.0</td>\n",
       "      <td>0.0</td>\n",
       "      <td>0.0</td>\n",
       "      <td>0.0</td>\n",
       "      <td>0.0</td>\n",
       "      <td>0.0</td>\n",
       "      <td>...</td>\n",
       "      <td>0.0</td>\n",
       "      <td>0.0</td>\n",
       "      <td>0.0</td>\n",
       "      <td>0.0</td>\n",
       "      <td>0.0</td>\n",
       "      <td>0.0</td>\n",
       "      <td>0.0</td>\n",
       "      <td>0.0</td>\n",
       "      <td>0.0</td>\n",
       "      <td>0.0</td>\n",
       "    </tr>\n",
       "    <tr>\n",
       "      <th>3308</th>\n",
       "      <td>0.0</td>\n",
       "      <td>0.0</td>\n",
       "      <td>0.0</td>\n",
       "      <td>0.0</td>\n",
       "      <td>0.0</td>\n",
       "      <td>0.0</td>\n",
       "      <td>0.0</td>\n",
       "      <td>0.0</td>\n",
       "      <td>0.0</td>\n",
       "      <td>0.0</td>\n",
       "      <td>...</td>\n",
       "      <td>0.0</td>\n",
       "      <td>0.0</td>\n",
       "      <td>0.0</td>\n",
       "      <td>0.0</td>\n",
       "      <td>0.0</td>\n",
       "      <td>1.0</td>\n",
       "      <td>0.0</td>\n",
       "      <td>0.0</td>\n",
       "      <td>0.0</td>\n",
       "      <td>0.0</td>\n",
       "    </tr>\n",
       "    <tr>\n",
       "      <th>3309</th>\n",
       "      <td>0.0</td>\n",
       "      <td>0.0</td>\n",
       "      <td>0.0</td>\n",
       "      <td>0.0</td>\n",
       "      <td>0.0</td>\n",
       "      <td>0.0</td>\n",
       "      <td>0.0</td>\n",
       "      <td>0.0</td>\n",
       "      <td>0.0</td>\n",
       "      <td>0.0</td>\n",
       "      <td>...</td>\n",
       "      <td>0.0</td>\n",
       "      <td>0.0</td>\n",
       "      <td>0.0</td>\n",
       "      <td>0.0</td>\n",
       "      <td>0.0</td>\n",
       "      <td>0.0</td>\n",
       "      <td>0.0</td>\n",
       "      <td>0.0</td>\n",
       "      <td>0.0</td>\n",
       "      <td>0.0</td>\n",
       "    </tr>\n",
       "    <tr>\n",
       "      <th>3310</th>\n",
       "      <td>0.0</td>\n",
       "      <td>0.0</td>\n",
       "      <td>0.0</td>\n",
       "      <td>0.0</td>\n",
       "      <td>0.0</td>\n",
       "      <td>0.0</td>\n",
       "      <td>0.0</td>\n",
       "      <td>0.0</td>\n",
       "      <td>0.0</td>\n",
       "      <td>0.0</td>\n",
       "      <td>...</td>\n",
       "      <td>0.0</td>\n",
       "      <td>0.0</td>\n",
       "      <td>0.0</td>\n",
       "      <td>0.0</td>\n",
       "      <td>0.0</td>\n",
       "      <td>0.0</td>\n",
       "      <td>0.0</td>\n",
       "      <td>0.0</td>\n",
       "      <td>0.0</td>\n",
       "      <td>0.0</td>\n",
       "    </tr>\n",
       "    <tr>\n",
       "      <th>3311</th>\n",
       "      <td>0.0</td>\n",
       "      <td>0.0</td>\n",
       "      <td>0.0</td>\n",
       "      <td>0.0</td>\n",
       "      <td>0.0</td>\n",
       "      <td>0.0</td>\n",
       "      <td>0.0</td>\n",
       "      <td>0.0</td>\n",
       "      <td>0.0</td>\n",
       "      <td>0.0</td>\n",
       "      <td>...</td>\n",
       "      <td>0.0</td>\n",
       "      <td>0.0</td>\n",
       "      <td>0.0</td>\n",
       "      <td>0.0</td>\n",
       "      <td>0.0</td>\n",
       "      <td>0.0</td>\n",
       "      <td>0.0</td>\n",
       "      <td>0.0</td>\n",
       "      <td>0.0</td>\n",
       "      <td>0.0</td>\n",
       "    </tr>\n",
       "  </tbody>\n",
       "</table>\n",
       "<p>3312 rows × 100 columns</p>\n",
       "</div>"
      ],
      "text/plain": [
       "       0    1    2    3    4    5    6    7    8    9   ...   90   91   92  \\\n",
       "0     0.0  0.0  0.0  0.0  0.0  0.0  0.0  0.0  0.0  0.0  ...  0.0  0.0  0.0   \n",
       "1     0.0  0.0  0.0  0.0  0.0  0.0  0.0  0.0  0.0  0.0  ...  0.0  0.0  0.0   \n",
       "2     0.0  0.0  0.0  0.0  0.0  0.0  0.0  0.0  0.0  0.0  ...  0.0  0.0  0.0   \n",
       "3     0.0  0.0  0.0  0.0  0.0  0.0  0.0  0.0  0.0  0.0  ...  0.0  0.0  0.0   \n",
       "4     0.0  0.0  0.0  0.0  0.0  0.0  0.0  0.0  0.0  0.0  ...  0.0  0.0  0.0   \n",
       "...   ...  ...  ...  ...  ...  ...  ...  ...  ...  ...  ...  ...  ...  ...   \n",
       "3307  0.0  0.0  0.0  0.0  0.0  0.0  0.0  0.0  0.0  0.0  ...  0.0  0.0  0.0   \n",
       "3308  0.0  0.0  0.0  0.0  0.0  0.0  0.0  0.0  0.0  0.0  ...  0.0  0.0  0.0   \n",
       "3309  0.0  0.0  0.0  0.0  0.0  0.0  0.0  0.0  0.0  0.0  ...  0.0  0.0  0.0   \n",
       "3310  0.0  0.0  0.0  0.0  0.0  0.0  0.0  0.0  0.0  0.0  ...  0.0  0.0  0.0   \n",
       "3311  0.0  0.0  0.0  0.0  0.0  0.0  0.0  0.0  0.0  0.0  ...  0.0  0.0  0.0   \n",
       "\n",
       "       93   94   95   96   97   98   99  \n",
       "0     0.0  0.0  0.0  0.0  0.0  0.0  0.0  \n",
       "1     0.0  0.0  0.0  0.0  0.0  0.0  0.0  \n",
       "2     0.0  0.0  0.0  0.0  0.0  0.0  0.0  \n",
       "3     0.0  0.0  0.0  0.0  0.0  0.0  0.0  \n",
       "4     0.0  0.0  0.0  0.0  0.0  0.0  0.0  \n",
       "...   ...  ...  ...  ...  ...  ...  ...  \n",
       "3307  0.0  0.0  0.0  0.0  0.0  0.0  0.0  \n",
       "3308  0.0  0.0  1.0  0.0  0.0  0.0  0.0  \n",
       "3309  0.0  0.0  0.0  0.0  0.0  0.0  0.0  \n",
       "3310  0.0  0.0  0.0  0.0  0.0  0.0  0.0  \n",
       "3311  0.0  0.0  0.0  0.0  0.0  0.0  0.0  \n",
       "\n",
       "[3312 rows x 100 columns]"
      ]
     },
     "execution_count": 13,
     "metadata": {},
     "output_type": "execute_result"
    }
   ],
   "source": [
    "dfx = df.iloc[:, :100]\n",
    "dfx"
   ]
  },
  {
   "cell_type": "code",
   "execution_count": 14,
   "id": "e7ff5309-4db1-4768-9375-1b6d3d8fad14",
   "metadata": {},
   "outputs": [
    {
     "data": {
      "text/plain": [
       "True"
      ]
     },
     "execution_count": 14,
     "metadata": {},
     "output_type": "execute_result"
    }
   ],
   "source": [
    "isinstance(df[0].dtype, pd.SparseDtype)"
   ]
  },
  {
   "cell_type": "code",
   "execution_count": 15,
   "id": "9645ef97-32a7-4443-849d-666dd8a46111",
   "metadata": {},
   "outputs": [
    {
     "data": {
      "text/plain": [
       "pysubgroup.subgroup_description.EqualitySelector"
      ]
     },
     "execution_count": 15,
     "metadata": {},
     "output_type": "execute_result"
    }
   ],
   "source": [
    "type(searchspace[0])"
   ]
  },
  {
   "cell_type": "code",
   "execution_count": 16,
   "id": "ced1cfd4-6b9f-4283-80a5-375fb803a53d",
   "metadata": {},
   "outputs": [
    {
     "data": {
      "text/plain": [
       "array([  28,  338,  367,  438,  569,  586, 1403, 1445, 1551, 1562, 1830,\n",
       "       1967, 2386, 2433, 2496, 2773, 2886, 3238])"
      ]
     },
     "execution_count": 16,
     "metadata": {},
     "output_type": "execute_result"
    }
   ],
   "source": [
    "df[0].array.sp_index.indices"
   ]
  },
  {
   "cell_type": "code",
   "execution_count": 17,
   "id": "3149a6bc-562c-4dcd-b95c-abc534d7a9a5",
   "metadata": {},
   "outputs": [
    {
     "data": {
      "text/plain": [
       "0       False\n",
       "1       False\n",
       "2       False\n",
       "3       False\n",
       "4       False\n",
       "        ...  \n",
       "3307    False\n",
       "3308    False\n",
       "3309    False\n",
       "3310    False\n",
       "3311    False\n",
       "Name: 0, Length: 3312, dtype: Sparse[bool, False]"
      ]
     },
     "execution_count": 17,
     "metadata": {},
     "output_type": "execute_result"
    }
   ],
   "source": [
    "searchspace[0].covers(dfx)"
   ]
  },
  {
   "cell_type": "code",
   "execution_count": 32,
   "id": "499e8976-d60b-484a-b96f-5c2815865268",
   "metadata": {},
   "outputs": [
    {
     "data": {
      "text/plain": [
       "['__class__',\n",
       " '__delattr__',\n",
       " '__dict__',\n",
       " '__dir__',\n",
       " '__doc__',\n",
       " '__eq__',\n",
       " '__format__',\n",
       " '__ge__',\n",
       " '__getattribute__',\n",
       " '__gt__',\n",
       " '__hash__',\n",
       " '__init__',\n",
       " '__init_subclass__',\n",
       " '__le__',\n",
       " '__lt__',\n",
       " '__module__',\n",
       " '__ne__',\n",
       " '__new__',\n",
       " '__reduce__',\n",
       " '__reduce_ex__',\n",
       " '__repr__',\n",
       " '__setattr__',\n",
       " '__sizeof__',\n",
       " '__str__',\n",
       " '__subclasshook__',\n",
       " '__weakref__',\n",
       " '_add_delegate_accessors',\n",
       " '_delegate_method',\n",
       " '_delegate_property_get',\n",
       " '_delegate_property_set',\n",
       " '_parent',\n",
       " '_validate',\n",
       " '_validation_msg',\n",
       " 'density',\n",
       " 'fill_value',\n",
       " 'from_coo',\n",
       " 'npoints',\n",
       " 'sp_values',\n",
       " 'to_coo',\n",
       " 'to_dense']"
      ]
     },
     "execution_count": 32,
     "metadata": {},
     "output_type": "execute_result"
    }
   ],
   "source": [
    "dir(dfx[0].sparse)"
   ]
  },
  {
   "cell_type": "code",
   "execution_count": 22,
   "id": "0b4c7ae3-1c24-4229-b580-9f74eb398948",
   "metadata": {},
   "outputs": [],
   "source": [
    "%autoreload"
   ]
  },
  {
   "cell_type": "code",
   "execution_count": 23,
   "id": "bdc77ca4-2f2b-416a-b032-a2904d116742",
   "metadata": {},
   "outputs": [
    {
     "name": "stdout",
     "output_type": "stream",
     "text": [
      "init\n",
      "prep done\n",
      "init\n",
      "prep done\n"
     ]
    },
    {
     "name": "stderr",
     "output_type": "stream",
     "text": [
      "C:\\Users\\felix\\Desktop\\projects\\graph_description\\src\\graph_description\\networkx_aggregation.py:67: RuntimeWarning: invalid value encountered in scalar divide\n",
      "  arr[node] += column[other]\n"
     ]
    }
   ],
   "source": [
    "df1, searchspace1 = apply_aggregator(SumAggregator, dfx, G, searchspace[:100])\n",
    "df2, searchspace2 = apply_aggregator((SumAggregator, MeanAggregator), df1, G)"
   ]
  },
  {
   "cell_type": "code",
   "execution_count": 27,
   "id": "336cd4f1-7f6e-493c-b973-69ef6c5e5502",
   "metadata": {},
   "outputs": [],
   "source": [
    "total_df = pd.concat([df, df1, df2], axis=1)\n",
    "total_searchspace = searchspace+searchspace1+searchspace2"
   ]
  },
  {
   "cell_type": "code",
   "execution_count": 28,
   "id": "8c098840-3f5a-4893-ab3e-af1f9b4cee39",
   "metadata": {},
   "outputs": [],
   "source": [
    "target = ps.BinaryTarget ('label', 1)"
   ]
  },
  {
   "cell_type": "code",
   "execution_count": 46,
   "id": "e1b44426-08d8-4036-99cb-bb317357ce17",
   "metadata": {},
   "outputs": [],
   "source": [
    "def prune_sparse_selectors(searchspace, df):\n",
    "    out_sel = []\n",
    "    for sel in searchspace:\n",
    "        \n",
    "        if not isinstance(sel, ps.EqualitySelector):\n",
    "            out_sel.append(sel)\n",
    "            continue\n",
    "        if not isinstance(df[sel.attribute_name].dtype, pd.SparseDtype):\n",
    "            out_sel.append(sel)\n",
    "            continue\n",
    "        if sel.attribute_value == df[sel.attribute_name].sparse.fill_value:\n",
    "            continue\n",
    "        out_sel.append(sel)\n",
    "    return out_sel"
   ]
  },
  {
   "cell_type": "code",
   "execution_count": 47,
   "id": "83f394ad-5df4-4c7e-a076-bd0bf1c3124a",
   "metadata": {},
   "outputs": [
    {
     "name": "stdout",
     "output_type": "stream",
     "text": [
      "4920 4620\n"
     ]
    }
   ],
   "source": [
    "ss2 = prune_sparse_selectors(total_searchspace, total_df)\n",
    "print(len(total_searchspace), len(ss2))"
   ]
  },
  {
   "cell_type": "code",
   "execution_count": 48,
   "id": "85c72481-aec8-4dcd-959f-6583ba381fbb",
   "metadata": {},
   "outputs": [
    {
     "data": {
      "text/plain": [
       "[neigh_mean(neigh_sum(98==1.0))==0.0,\n",
       " neigh_mean(neigh_sum(98==1.0))==0.09090909090909091,\n",
       " neigh_mean(neigh_sum(99==1.0))==0.0,\n",
       " neigh_mean(neigh_sum(99==1.0))==1.0,\n",
       " neigh_mean(neigh_sum(all_ones)).isnull(),\n",
       " neigh_mean(neigh_sum(all_ones))<0.0,\n",
       " neigh_mean(neigh_sum(all_ones)): [0.0:0.1[,\n",
       " neigh_mean(neigh_sum(all_ones)): [0.1:0.5[,\n",
       " neigh_mean(neigh_sum(all_ones)): [0.5:1.0[,\n",
       " neigh_mean(neigh_sum(all_ones))>=1.0]"
      ]
     },
     "execution_count": 48,
     "metadata": {},
     "output_type": "execute_result"
    }
   ],
   "source": [
    "total_searchspace[-10:]"
   ]
  },
  {
   "cell_type": "code",
   "execution_count": null,
   "id": "67a9fdc8-1722-49a9-97b0-b7864c91f4ad",
   "metadata": {},
   "outputs": [
    {
     "name": "stderr",
     "output_type": "stream",
     "text": [
      "C:\\Users\\felix\\Desktop\\projects\\pysubgroup\\src\\pysubgroup\\binary_target.py:546: RuntimeWarning: invalid value encountered in scalar divide\n",
      "  tau_diff = pos / (pos + delta_n)\n"
     ]
    }
   ],
   "source": [
    "task = ps.SubgroupDiscoveryTask (\n",
    "    total_df,\n",
    "    target,\n",
    "    ss2,\n",
    "    result_set_size=20,\n",
    "    depth=3,\n",
    "    qf=ps.GeneralizationAware_StandardQF(0.3),\n",
    "    constraints=[ps.MinSupportConstraint(50)])\n",
    "algorithm = ps.Apriori(ps.NumpySetRepresentation)\n",
    "algorithm.use_vectorization=False\n",
    "result = algorithm.execute(task)"
   ]
  },
  {
   "cell_type": "code",
   "execution_count": null,
   "id": "76d37582-c8e3-4b7d-abe8-218a539e0361",
   "metadata": {},
   "outputs": [],
   "source": []
  },
  {
   "cell_type": "code",
   "execution_count": null,
   "id": "71d34970-3034-44d2-bf95-2f09cc640b35",
   "metadata": {},
   "outputs": [],
   "source": [
    "result.to_dataframe()"
   ]
  },
  {
   "cell_type": "code",
   "execution_count": null,
   "id": "c54342c0-6082-4647-977e-0e3125b37fde",
   "metadata": {},
   "outputs": [],
   "source": [
    "from pysubgroup.visualization import supportSetVisualization\n",
    "import matplotlib.pyplot as plt"
   ]
  },
  {
   "cell_type": "code",
   "execution_count": null,
   "id": "c0eb9abc-6a56-488e-8df1-72c2281cacd0",
   "metadata": {},
   "outputs": [],
   "source": [
    "plt.imshow(supportSetVisualization(result))"
   ]
  },
  {
   "cell_type": "code",
   "execution_count": null,
   "id": "b7a57fe5-22ba-48a2-b36e-7feb737317ae",
   "metadata": {},
   "outputs": [],
   "source": []
  },
  {
   "cell_type": "code",
   "execution_count": null,
   "id": "f46d179e-a3e0-4743-a400-8f5a21e33135",
   "metadata": {},
   "outputs": [],
   "source": []
  }
 ],
 "metadata": {
  "kernelspec": {
   "display_name": "Python 3 (ipykernel)",
   "language": "python",
   "name": "python3"
  },
  "language_info": {
   "codemirror_mode": {
    "name": "ipython",
    "version": 3
   },
   "file_extension": ".py",
   "mimetype": "text/x-python",
   "name": "python",
   "nbconvert_exporter": "python",
   "pygments_lexer": "ipython3",
   "version": "3.10.11"
  }
 },
 "nbformat": 4,
 "nbformat_minor": 5
}
