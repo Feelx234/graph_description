{
 "cells": [
  {
   "cell_type": "code",
   "execution_count": 1,
   "id": "a2e00a39-1437-4525-8b7f-d3206afcb55a",
   "metadata": {},
   "outputs": [],
   "source": [
    "#%load_ext autoreload\n",
    "#%autoreload 1\n",
    "#%aimport graph_description\n",
    "import networkx as nx\n",
    "import pysubgroup as ps\n",
    "import numpy as np\n",
    "import pandas as pd\n",
    "pd.set_option('display.max_colwidth', None)"
   ]
  },
  {
   "cell_type": "code",
   "execution_count": 2,
   "id": "58bb2397-c6c5-4205-b9fc-c1794ab34728",
   "metadata": {},
   "outputs": [],
   "source": [
    "from graph_description.datasets import nx_read_attributed_graph\n",
    "from graph_description.utils import prune_sparse_selectors\n",
    "from graph_description.networkx_aggregation import SumAggregator, MeanAggregator, apply_aggregator    "
   ]
  },
  {
   "cell_type": "code",
   "execution_count": 3,
   "id": "832df684-0271-4a08-b1ac-b3c261c69226",
   "metadata": {},
   "outputs": [],
   "source": [
    "G, df = nx_read_attributed_graph(\"citeseer\")\n",
    "print(\"n_edges=\", G.number_of_edges(), \"n_nodes\", G.number_of_nodes())"
   ]
  },
  {
   "cell_type": "code",
   "execution_count": 4,
   "id": "2a96ff09-881c-4fc6-ab3d-881a7a1f63c5",
   "metadata": {},
   "outputs": [
    {
     "name": "stdout",
     "output_type": "stream",
     "text": [
      "3703\n"
     ]
    }
   ],
   "source": [
    "searchspace = ps.create_selectors(df, ignore=['label'])\n",
    "searchspace = [sel for sel in searchspace if \"==0\" not in str(sel)]\n",
    "print(len(searchspace))"
   ]
  },
  {
   "cell_type": "code",
   "execution_count": 5,
   "id": "bdc77ca4-2f2b-416a-b032-a2904d116742",
   "metadata": {},
   "outputs": [
    {
     "name": "stdout",
     "output_type": "stream",
     "text": [
      "init\n",
      "prep done\n",
      "init\n",
      "prep done\n",
      "CPU times: total: 5.67 s\n",
      "Wall time: 5.66 s\n"
     ]
    }
   ],
   "source": [
    "%%time\n",
    "# do the actual propagation\n",
    "df1, searchspace1 = apply_aggregator(SumAggregator, df, G, searchspace)\n",
    "df2, searchspace2 = apply_aggregator((SumAggregator, MeanAggregator), df1, G)"
   ]
  },
  {
   "cell_type": "code",
   "execution_count": 6,
   "id": "336cd4f1-7f6e-493c-b973-69ef6c5e5502",
   "metadata": {},
   "outputs": [
    {
     "name": "stdout",
     "output_type": "stream",
     "text": [
      "47037 35928\n"
     ]
    }
   ],
   "source": [
    "#create the final dataframe & searchspace\n",
    "total_df = pd.concat([df, df1, df2], axis=1)\n",
    "\n",
    "total_searchspace = searchspace+searchspace1+searchspace2\n",
    "ss2 = prune_sparse_selectors(total_searchspace, total_df)\n",
    "print(len(total_searchspace), len(ss2))"
   ]
  },
  {
   "cell_type": "code",
   "execution_count": 7,
   "id": "8c098840-3f5a-4893-ab3e-af1f9b4cee39",
   "metadata": {},
   "outputs": [],
   "source": [
    "target = ps.BinaryTarget ('label', 1)"
   ]
  },
  {
   "cell_type": "code",
   "execution_count": 8,
   "id": "95a792ad-540e-4044-9968-5e7bd8ec0e3c",
   "metadata": {},
   "outputs": [
    {
     "name": "stdout",
     "output_type": "stream",
     "text": [
      "0.20229468599033817\n",
      "0.21256038647342995\n"
     ]
    }
   ],
   "source": [
    "# check whether there are columns that are not sparse (enough)\n",
    "for col in total_df.columns:\n",
    "    if isinstance(total_df[col].dtype, pd.SparseDtype):\n",
    "        density = total_df[col].sparse.density\n",
    "        if density > 0.2:\n",
    "            print(density)"
   ]
  },
  {
   "cell_type": "code",
   "execution_count": 9,
   "id": "6c4e2271-cce9-4260-bece-9ea19349cbf9",
   "metadata": {},
   "outputs": [],
   "source": [
    "def print_stats(result):\n",
    "    task = result.task\n",
    "    cls = str(type(task.qf))[len(\"<class 'pysubgroup.binary_target.\"):-2]\n",
    "    print(f\"depth={task.depth}, a={task.qf.a}, {cls}, min_size={task.constraints[0].min_support}\")"
   ]
  },
  {
   "cell_type": "code",
   "execution_count": 10,
   "id": "67a9fdc8-1722-49a9-97b0-b7864c91f4ad",
   "metadata": {},
   "outputs": [
    {
     "name": "stderr",
     "output_type": "stream",
     "text": [
      "E:\\SGD\\pysubgroup-project\\src\\pysubgroup\\binary_target.py:546: RuntimeWarning: invalid value encountered in scalar divide\n",
      "  tau_diff = pos / (pos + delta_n)\n"
     ]
    }
   ],
   "source": [
    "#%%snakeviz -t\n",
    "task = ps.SubgroupDiscoveryTask (\n",
    "    total_df,\n",
    "    target,\n",
    "    ss2,\n",
    "    result_set_size=20,\n",
    "    depth=2,\n",
    "    qf=ps.GeneralizationAware_StandardQF(0.5),\n",
    "    constraints=[ps.MinSupportConstraint(30)])\n",
    "algorithm = ps.Apriori(ps.NumpySetRepresentation)\n",
    "algorithm.use_vectorization=False\n",
    "result = algorithm.execute(task)"
   ]
  },
  {
   "cell_type": "code",
   "execution_count": 11,
   "id": "71d34970-3034-44d2-bf95-2f09cc640b35",
   "metadata": {},
   "outputs": [
    {
     "name": "stdout",
     "output_type": "stream",
     "text": [
      "depth=2, a=0.5, GeneralizationAware_StandardQF, min_size=30\n"
     ]
    },
    {
     "data": {
      "text/html": [
       "<div>\n",
       "<style scoped>\n",
       "    .dataframe tbody tr th:only-of-type {\n",
       "        vertical-align: middle;\n",
       "    }\n",
       "\n",
       "    .dataframe tbody tr th {\n",
       "        vertical-align: top;\n",
       "    }\n",
       "\n",
       "    .dataframe thead th {\n",
       "        text-align: right;\n",
       "    }\n",
       "</style>\n",
       "<table border=\"1\" class=\"dataframe\">\n",
       "  <thead>\n",
       "    <tr style=\"text-align: right;\">\n",
       "      <th></th>\n",
       "      <th>quality</th>\n",
       "      <th>subgroup</th>\n",
       "      <th>size_sg</th>\n",
       "      <th>positives_sg</th>\n",
       "    </tr>\n",
       "  </thead>\n",
       "  <tbody>\n",
       "    <tr>\n",
       "      <th>0</th>\n",
       "      <td>0.243973</td>\n",
       "      <td>65==1.0</td>\n",
       "      <td>670</td>\n",
       "      <td>484</td>\n",
       "    </tr>\n",
       "    <tr>\n",
       "      <th>1</th>\n",
       "      <td>0.108667</td>\n",
       "      <td>2185==1.0</td>\n",
       "      <td>261</td>\n",
       "      <td>148</td>\n",
       "    </tr>\n",
       "    <tr>\n",
       "      <th>2</th>\n",
       "      <td>0.103526</td>\n",
       "      <td>neigh_sum(65==1.0): [1.0:2.0[</td>\n",
       "      <td>291</td>\n",
       "      <td>154</td>\n",
       "    </tr>\n",
       "    <tr>\n",
       "      <th>3</th>\n",
       "      <td>0.103102</td>\n",
       "      <td>2186==1.0</td>\n",
       "      <td>87</td>\n",
       "      <td>71</td>\n",
       "    </tr>\n",
       "    <tr>\n",
       "      <th>4</th>\n",
       "      <td>0.089510</td>\n",
       "      <td>247==1.0</td>\n",
       "      <td>168</td>\n",
       "      <td>97</td>\n",
       "    </tr>\n",
       "    <tr>\n",
       "      <th>5</th>\n",
       "      <td>0.079337</td>\n",
       "      <td>277==1.0</td>\n",
       "      <td>31</td>\n",
       "      <td>31</td>\n",
       "    </tr>\n",
       "    <tr>\n",
       "      <th>6</th>\n",
       "      <td>0.077021</td>\n",
       "      <td>neigh_sum(65==1.0): [2.0:3.0[</td>\n",
       "      <td>87</td>\n",
       "      <td>57</td>\n",
       "    </tr>\n",
       "    <tr>\n",
       "      <th>7</th>\n",
       "      <td>0.076191</td>\n",
       "      <td>3016==1.0</td>\n",
       "      <td>209</td>\n",
       "      <td>101</td>\n",
       "    </tr>\n",
       "    <tr>\n",
       "      <th>8</th>\n",
       "      <td>0.075359</td>\n",
       "      <td>neigh_sum(2186==1.0)==1.0</td>\n",
       "      <td>68</td>\n",
       "      <td>48</td>\n",
       "    </tr>\n",
       "    <tr>\n",
       "      <th>9</th>\n",
       "      <td>0.071824</td>\n",
       "      <td>neigh_mean(neigh_sum(65==1.0)): [1.0:1.50[</td>\n",
       "      <td>84</td>\n",
       "      <td>53</td>\n",
       "    </tr>\n",
       "    <tr>\n",
       "      <th>10</th>\n",
       "      <td>0.071314</td>\n",
       "      <td>177==1.0</td>\n",
       "      <td>228</td>\n",
       "      <td>103</td>\n",
       "    </tr>\n",
       "    <tr>\n",
       "      <th>11</th>\n",
       "      <td>0.070846</td>\n",
       "      <td>neigh_mean(neigh_sum(65==1.0))&gt;=1.50</td>\n",
       "      <td>66</td>\n",
       "      <td>45</td>\n",
       "    </tr>\n",
       "    <tr>\n",
       "      <th>12</th>\n",
       "      <td>0.067700</td>\n",
       "      <td>2139==1.0</td>\n",
       "      <td>222</td>\n",
       "      <td>98</td>\n",
       "    </tr>\n",
       "    <tr>\n",
       "      <th>13</th>\n",
       "      <td>0.065900</td>\n",
       "      <td>neigh_sum(neigh_sum(643==1.0)): [1.0:2.0[</td>\n",
       "      <td>46</td>\n",
       "      <td>34</td>\n",
       "    </tr>\n",
       "    <tr>\n",
       "      <th>14</th>\n",
       "      <td>0.064207</td>\n",
       "      <td>neigh_sum(65==1.0)&gt;=4.0</td>\n",
       "      <td>59</td>\n",
       "      <td>39</td>\n",
       "    </tr>\n",
       "    <tr>\n",
       "      <th>15</th>\n",
       "      <td>0.063999</td>\n",
       "      <td>neigh_sum(neigh_sum(65==1.0))&gt;=4.0</td>\n",
       "      <td>74</td>\n",
       "      <td>45</td>\n",
       "    </tr>\n",
       "    <tr>\n",
       "      <th>16</th>\n",
       "      <td>0.063900</td>\n",
       "      <td>neigh_sum(2185==1.0): [1.0:2.0[</td>\n",
       "      <td>213</td>\n",
       "      <td>92</td>\n",
       "    </tr>\n",
       "    <tr>\n",
       "      <th>17</th>\n",
       "      <td>0.063707</td>\n",
       "      <td>1616==1.0</td>\n",
       "      <td>33</td>\n",
       "      <td>27</td>\n",
       "    </tr>\n",
       "    <tr>\n",
       "      <th>18</th>\n",
       "      <td>0.063651</td>\n",
       "      <td>645==1.0</td>\n",
       "      <td>77</td>\n",
       "      <td>46</td>\n",
       "    </tr>\n",
       "    <tr>\n",
       "      <th>19</th>\n",
       "      <td>0.063565</td>\n",
       "      <td>neigh_mean(neigh_sum(2185==1.0))&gt;=1.0</td>\n",
       "      <td>67</td>\n",
       "      <td>42</td>\n",
       "    </tr>\n",
       "  </tbody>\n",
       "</table>\n",
       "</div>"
      ],
      "text/plain": [
       "     quality                                    subgroup  size_sg  \\\n",
       "0   0.243973                                     65==1.0      670   \n",
       "1   0.108667                                   2185==1.0      261   \n",
       "2   0.103526               neigh_sum(65==1.0): [1.0:2.0[      291   \n",
       "3   0.103102                                   2186==1.0       87   \n",
       "4   0.089510                                    247==1.0      168   \n",
       "5   0.079337                                    277==1.0       31   \n",
       "6   0.077021               neigh_sum(65==1.0): [2.0:3.0[       87   \n",
       "7   0.076191                                   3016==1.0      209   \n",
       "8   0.075359                   neigh_sum(2186==1.0)==1.0       68   \n",
       "9   0.071824  neigh_mean(neigh_sum(65==1.0)): [1.0:1.50[       84   \n",
       "10  0.071314                                    177==1.0      228   \n",
       "11  0.070846        neigh_mean(neigh_sum(65==1.0))>=1.50       66   \n",
       "12  0.067700                                   2139==1.0      222   \n",
       "13  0.065900   neigh_sum(neigh_sum(643==1.0)): [1.0:2.0[       46   \n",
       "14  0.064207                     neigh_sum(65==1.0)>=4.0       59   \n",
       "15  0.063999          neigh_sum(neigh_sum(65==1.0))>=4.0       74   \n",
       "16  0.063900             neigh_sum(2185==1.0): [1.0:2.0[      213   \n",
       "17  0.063707                                   1616==1.0       33   \n",
       "18  0.063651                                    645==1.0       77   \n",
       "19  0.063565       neigh_mean(neigh_sum(2185==1.0))>=1.0       67   \n",
       "\n",
       "    positives_sg  \n",
       "0            484  \n",
       "1            148  \n",
       "2            154  \n",
       "3             71  \n",
       "4             97  \n",
       "5             31  \n",
       "6             57  \n",
       "7            101  \n",
       "8             48  \n",
       "9             53  \n",
       "10           103  \n",
       "11            45  \n",
       "12            98  \n",
       "13            34  \n",
       "14            39  \n",
       "15            45  \n",
       "16            92  \n",
       "17            27  \n",
       "18            46  \n",
       "19            42  "
      ]
     },
     "execution_count": 11,
     "metadata": {},
     "output_type": "execute_result"
    }
   ],
   "source": [
    "print_stats(result)\n",
    "result.to_dataframe()[[\"quality\", \"subgroup\", \"size_sg\", \"positives_sg\"]]"
   ]
  },
  {
   "cell_type": "code",
   "execution_count": 12,
   "id": "9dd73850-6687-43ce-92e2-62bf42d446d7",
   "metadata": {},
   "outputs": [],
   "source": [
    "# depth=3, a=0.1, GeneralizationAware_StandardQF, min_size=30\n",
    "\n",
    "# 0 \t0.514004 \t277==1.0 \t31 \t31\n",
    "# 1 \t0.462325 \t65==1.0 \t670 \t484\n",
    "# 2 \t0.442075 \t2186==1.0 \t87 \t71\n",
    "# 3 \t0.402550 \t1616==1.0 \t33 \t27\n",
    "# 4 \t0.397740 \t1700==1.0 \t32 \t26\n",
    "# 5 \t0.366548 \t3027==1.0 \t30 \t23"
   ]
  },
  {
   "cell_type": "code",
   "execution_count": 13,
   "id": "890944bd-a9de-4728-b921-90f2af38b546",
   "metadata": {},
   "outputs": [],
   "source": [
    "# depth=3, a=0.2, GA, min_size=30\n",
    "\n",
    "# 0 \t0.394045 \t65==1.0 \t670 \t484\n",
    "# 1 \t0.322176 \t277==1.0 \t31 \t31\n",
    "# 2 \t0.307212 \t2186==1.0 \t87 \t71\n",
    "# 3 \t0.253900 \t1616==1.0 \t33 \t27\n",
    "# 4 \t0.250095 \t1700==1.0 \t32 \t26\n",
    "# 5 \t0.241775 \tneigh_sum(2186==1.0)==1.0 \t68 \t48"
   ]
  },
  {
   "cell_type": "code",
   "execution_count": 14,
   "id": "cc70996f-f902-4e36-831a-925478d73c38",
   "metadata": {},
   "outputs": [],
   "source": [
    "# depth=2, a=0.3, GA\n",
    "\n",
    "# 0 \t0.243973 \t65==1.0 \t670 \t484\n",
    "# 1 \t0.108667 \t2185==1.0 \t261 \t148\n",
    "# 2 \t0.103526 \tneigh_sum(65==1.0): [1.0:2.0[ \t291 \t154\n",
    "# 3 \t0.103102 \t2186==1.0 \t87 \t71\n",
    "# 4 \t0.089510 \t247==1.0 \t168 \t97\n",
    "# 5 \t0.077021 \tneigh_sum(65==1.0): [2.0:3.0[ \t87 \t57"
   ]
  },
  {
   "cell_type": "code",
   "execution_count": 15,
   "id": "e23ef829-9a1d-406a-9f82-8086301d0513",
   "metadata": {},
   "outputs": [],
   "source": [
    "# depth=1, a = 0.5, GA\n",
    "\n",
    "# 0 \t0.243973 \t65==1.0 \t670 \t484\n",
    "# 1 \t0.108667 \t2185==1.0 \t261 \t148\n",
    "# 2 \t0.103526 \tneigh_sum(65==1.0): [1.0:2.0[ \t291 \t154\n",
    "# 3 \t0.103102 \t2186==1.0 \t87 \t71\n",
    "# 4 \t0.089510 \t247==1.0 \t168 \t97\n",
    "# 5 \t0.077021 \tneigh_sum(65==1.0): [2.0:3.0[ \t87 \t57"
   ]
  },
  {
   "cell_type": "code",
   "execution_count": 16,
   "id": "c54342c0-6082-4647-977e-0e3125b37fde",
   "metadata": {},
   "outputs": [],
   "source": [
    "from pysubgroup.visualization import supportSetVisualization\n",
    "import matplotlib.pyplot as plt"
   ]
  },
  {
   "cell_type": "code",
   "execution_count": 17,
   "id": "c0eb9abc-6a56-488e-8df1-72c2281cacd0",
   "metadata": {},
   "outputs": [],
   "source": [
    "#plt.imshow(supportSetVisualization(result))"
   ]
  },
  {
   "cell_type": "code",
   "execution_count": null,
   "id": "b7a57fe5-22ba-48a2-b36e-7feb737317ae",
   "metadata": {},
   "outputs": [],
   "source": []
  },
  {
   "cell_type": "code",
   "execution_count": null,
   "id": "f46d179e-a3e0-4743-a400-8f5a21e33135",
   "metadata": {},
   "outputs": [],
   "source": []
  }
 ],
 "metadata": {
  "kernelspec": {
   "display_name": "Python 3 (ipykernel)",
   "language": "python",
   "name": "python3"
  },
  "language_info": {
   "codemirror_mode": {
    "name": "ipython",
    "version": 3
   },
   "file_extension": ".py",
   "mimetype": "text/x-python",
   "name": "python",
   "nbconvert_exporter": "python",
   "pygments_lexer": "ipython3",
   "version": "3.10.11"
  }
 },
 "nbformat": 4,
 "nbformat_minor": 5
}
