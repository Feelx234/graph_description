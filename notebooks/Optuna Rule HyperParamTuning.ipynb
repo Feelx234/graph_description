{
 "cells": [
  {
   "cell_type": "code",
   "execution_count": 1,
   "id": "5671a78f-d11c-4a41-af81-f5373bb248b5",
   "metadata": {},
   "outputs": [],
   "source": [
    "import optuna"
   ]
  },
  {
   "cell_type": "code",
   "execution_count": 2,
   "id": "9ff8296e-66cb-487d-991e-60bf3234003a",
   "metadata": {},
   "outputs": [],
   "source": [
    "from pathlib import Path\n",
    "import numpy as np\n",
    "import pandas as pd"
   ]
  },
  {
   "cell_type": "code",
   "execution_count": 3,
   "id": "ff933d3d-3068-4723-be6d-2e3d9e1334b7",
   "metadata": {},
   "outputs": [],
   "source": [
    "from graph_description.training_utils import my_accuracy, LinearScheduler, ExponentialScheduler"
   ]
  },
  {
   "cell_type": "code",
   "execution_count": 4,
   "id": "4560e67d-3ad0-4834-9922-21058a6c4f47",
   "metadata": {},
   "outputs": [],
   "source": [
    "prefix = \"../\""
   ]
  },
  {
   "cell_type": "code",
   "execution_count": 5,
   "id": "08819a2c-fbae-4cbb-b045-889ebd1dc800",
   "metadata": {},
   "outputs": [],
   "source": [
    "train_per_class = 20\n",
    "round = 0\n",
    "dataset=\"citeseer\""
   ]
  },
  {
   "cell_type": "code",
   "execution_count": 6,
   "id": "552c4981-2921-4b24-b77a-52ca65e2e393",
   "metadata": {},
   "outputs": [],
   "source": [
    "input = [Path(prefix+f\"/snakemake_base/splits/{dataset}_planetoid/{train_per_class}_500_rest_0.npz\").resolve().absolute(),\n",
    "         Path(prefix+f\"snakemake_base/aggregated_datasets/{dataset}_planetoid_{round}_dense.pkl\").resolve().absolute()]"
   ]
  },
  {
   "cell_type": "code",
   "execution_count": 7,
   "id": "417d69a1-d50d-4ab0-a960-1d5557867322",
   "metadata": {},
   "outputs": [
    {
     "name": "stdout",
     "output_type": "stream",
     "text": [
      "(3327, 3704)\n"
     ]
    }
   ],
   "source": [
    "splits = np.load(input[0])\n",
    "train_mask = splits[\"train_mask\"]\n",
    "val_mask = splits[\"val_mask\"]\n",
    "\n",
    "df  = pd.read_pickle(input[1])\n",
    "train_df = df[train_mask]\n",
    "#print(\"number_of_columns\", len(df.columns))\n",
    "X_train = train_df.drop(\"labels\", axis=1)\n",
    "\n",
    "y_train = train_df[\"labels\"]\n",
    "print(df.shape)"
   ]
  },
  {
   "cell_type": "code",
   "execution_count": 25,
   "id": "3dd898ba-35b9-4098-9673-09113a6032eb",
   "metadata": {},
   "outputs": [],
   "source": [
    "def load_dataset_splitted(path_splits, path_df, return_train=True, return_val=True, return_test=False, return_full=False):\n",
    "    splits = np.load(input[0])\n",
    "    df  = pd.read_pickle(input[1])\n",
    "\n",
    "    def get_by_split(split_name):\n",
    "        mask = splits[split_name]\n",
    "        mask_df = df[mask]\n",
    "        X = mask_df.drop(\"labels\", axis=1)\n",
    "        y = mask_df[\"labels\"]\n",
    "        return X, y\n",
    "\n",
    "    out = tuple()\n",
    "    if return_train:\n",
    "        out += get_by_split(\"train_mask\")\n",
    "    if return_val:\n",
    "        out += get_by_split(\"val_mask\")\n",
    "    if return_test:\n",
    "        out += get_by_split(\"test_mask\")\n",
    "    if return_full:\n",
    "        out +=(df,)\n",
    "    print(len(out))\n",
    "    return out"
   ]
  },
  {
   "cell_type": "code",
   "execution_count": 26,
   "id": "b9e0a0bd-9ee6-4432-904c-33bcfd4424b7",
   "metadata": {},
   "outputs": [
    {
     "name": "stdout",
     "output_type": "stream",
     "text": [
      "4\n"
     ]
    }
   ],
   "source": [
    "(X_train, y_train, X_val, y_val)=load_dataset_splitted(input[0], input[1])"
   ]
  },
  {
   "cell_type": "code",
   "execution_count": 8,
   "id": "778a7ac9-5ead-468b-af16-9561f31e4ad9",
   "metadata": {},
   "outputs": [],
   "source": [
    "val_df = df[val_mask]\n",
    "X_val = val_df.drop(\"labels\", axis=1)\n",
    "y_val = val_df[\"labels\"]"
   ]
  },
  {
   "cell_type": "code",
   "execution_count": null,
   "id": "22ad22ce-dc56-48f9-b088-4eb2ff88a4d3",
   "metadata": {},
   "outputs": [],
   "source": []
  },
  {
   "cell_type": "code",
   "execution_count": 9,
   "id": "03d39dd0-f81e-4de7-8005-c0e80caf1d3e",
   "metadata": {},
   "outputs": [],
   "source": [
    "num_classes = len(np.bincount(y_train))"
   ]
  },
  {
   "cell_type": "code",
   "execution_count": 10,
   "id": "cb5c414f-d95d-49ee-b7e0-3c6ca7b83d38",
   "metadata": {},
   "outputs": [],
   "source": [
    "from imodels import RuleFitClassifier\n",
    "from sklearn.multiclass import OneVsRestClassifier\n",
    "from sklearn.metrics import accuracy_score"
   ]
  },
  {
   "cell_type": "code",
   "execution_count": 11,
   "id": "1a50034b-bcc5-45d9-9e61-41ab053d1bce",
   "metadata": {},
   "outputs": [],
   "source": [
    "import warnings\n",
    "warnings.filterwarnings(\"ignore\", message=\"invalid value encountered in scalar subtract\")\n",
    "warnings.filterwarnings(\"ignore\", message=\"overflow encountered in reduce\")"
   ]
  },
  {
   "cell_type": "code",
   "execution_count": 12,
   "id": "61863401-4371-47f4-9dd0-496871ed3049",
   "metadata": {},
   "outputs": [],
   "source": [
    "max_rules=10"
   ]
  },
  {
   "cell_type": "code",
   "execution_count": 13,
   "id": "3c3a948c-e59d-4545-b72b-9b2318566ba4",
   "metadata": {},
   "outputs": [],
   "source": [
    "def rule_objective(trial, max_rules):\n",
    "    params = dict(\n",
    "        max_rules=int(max_rules),\n",
    "        cv=False,\n",
    "        random_state=0,\n",
    "        tree_size = trial.suggest_int('tree_size',2,100),\n",
    "        memory_par = trial.suggest_float('memory_par',1e-3,100,log=True), # learning rate\n",
    "        lin_trim_quantile = trial.suggest_float('lin_trim_quantile',0,1),\n",
    "        exp_rand_tree_size = trial.suggest_categorical('exp_rand_tree_size',[False, True]),\n",
    "#        alpha = trial.suggest_float('alpha',1e-4, 10, log=True),\n",
    "    )\n",
    "    clf = OneVsRestClassifier(RuleFitClassifier(**params))\n",
    "    clf.fit(X_train, y_train)\n",
    "    prediction = clf.predict(X_val)\n",
    "    return accuracy_score(prediction, y_val)"
   ]
  },
  {
   "cell_type": "code",
   "execution_count": 14,
   "id": "058828de-e756-4835-a289-cbaad36b1909",
   "metadata": {},
   "outputs": [],
   "source": [
    "from functools import partial\n",
    "objective = partial(rule_objective, max_rules=max_rules)"
   ]
  },
  {
   "cell_type": "code",
   "execution_count": 15,
   "id": "0ea87a00-aac7-4857-9585-d2a0f6f56752",
   "metadata": {},
   "outputs": [],
   "source": [
    "import os\n",
    "try:\n",
    "    this_file = Path(__file__)\n",
    "except NameError:\n",
    "    this_file = Path(os.path.abspath(''))\n",
    "if this_file.stem in (\"notebooks\", \"scripts\"):\n",
    "    root_folder = this_file.parent\n",
    "else:\n",
    "    root_folder = this_file"
   ]
  },
  {
   "cell_type": "code",
   "execution_count": 16,
   "id": "4f2b0463-9707-4632-9436-f12411506d72",
   "metadata": {},
   "outputs": [
    {
     "name": "stdout",
     "output_type": "stream",
     "text": [
      "journal_path /home/stamm/projects/graph_description/hyper_param_journal.log\n"
     ]
    },
    {
     "name": "stderr",
     "output_type": "stream",
     "text": [
      "/tmp/ipykernel_3211314/1642338428.py:3: ExperimentalWarning: JournalStorage is experimental (supported from v3.1.0). The interface can change in the future.\n",
      "  storage = optuna.storages.JournalStorage(\n",
      "[I 2024-01-31 11:59:13,303] Using an existing study with name 'citeseer-0-20-rulefit10' instead of creating a new one.\n"
     ]
    }
   ],
   "source": [
    "journal_path = root_folder/\"hyper_param_journal.log\"\n",
    "print(\"journal_path\", journal_path)\n",
    "storage = optuna.storages.JournalStorage(\n",
    "    optuna.storages.JournalFileStorage(str(journal_path)),\n",
    ")\n",
    "\n",
    "study = optuna.create_study(\n",
    "    storage=storage,  # Specify the storage URL here.\n",
    "    study_name=f\"{dataset}-{round}-{train_per_class}-rulefit{max_rules}\",\n",
    "    load_if_exists=True,\n",
    "    direction='maximize'\n",
    ")"
   ]
  },
  {
   "cell_type": "code",
   "execution_count": 17,
   "id": "01d1af5b-597a-45d2-8e38-1c32892f3efd",
   "metadata": {},
   "outputs": [
    {
     "name": "stderr",
     "output_type": "stream",
     "text": [
      "[I 2024-01-31 11:59:30,803] Trial 100 finished with value: 0.514 and parameters: {'tree_size': 9, 'memory_par': 0.0070015451611187395, 'lin_trim_quantile': 0.9091285252016981, 'exp_rand_tree_size': False}. Best is trial 31 with value: 0.572.\n",
      "[I 2024-01-31 11:59:47,083] Trial 101 finished with value: 0.49 and parameters: {'tree_size': 15, 'memory_par': 70.55239642306952, 'lin_trim_quantile': 0.670421342166295, 'exp_rand_tree_size': True}. Best is trial 31 with value: 0.572.\n",
      "[I 2024-01-31 12:00:01,683] Trial 102 finished with value: 0.456 and parameters: {'tree_size': 14, 'memory_par': 17.94850050116941, 'lin_trim_quantile': 0.8000480581594751, 'exp_rand_tree_size': True}. Best is trial 31 with value: 0.572.\n",
      "[I 2024-01-31 12:00:22,936] Trial 103 finished with value: 0.544 and parameters: {'tree_size': 11, 'memory_par': 0.0017909209500775174, 'lin_trim_quantile': 0.7390399854161661, 'exp_rand_tree_size': True}. Best is trial 31 with value: 0.572.\n",
      "[I 2024-01-31 12:00:57,447] Trial 104 finished with value: 0.48 and parameters: {'tree_size': 16, 'memory_par': 0.7483707040785951, 'lin_trim_quantile': 0.6965292920489601, 'exp_rand_tree_size': True}. Best is trial 31 with value: 0.572.\n",
      "[I 2024-01-31 12:01:13,434] Trial 105 finished with value: 0.506 and parameters: {'tree_size': 7, 'memory_par': 0.1305841309478119, 'lin_trim_quantile': 0.621227088169802, 'exp_rand_tree_size': True}. Best is trial 31 with value: 0.572.\n",
      "[I 2024-01-31 12:01:57,583] Trial 106 finished with value: 0.46 and parameters: {'tree_size': 21, 'memory_par': 1.4796472853967928, 'lin_trim_quantile': 0.7117809177710059, 'exp_rand_tree_size': True}. Best is trial 31 with value: 0.572.\n",
      "[I 2024-01-31 12:02:08,374] Trial 107 finished with value: 0.528 and parameters: {'tree_size': 4, 'memory_par': 0.03298218252356239, 'lin_trim_quantile': 0.987960527535597, 'exp_rand_tree_size': True}. Best is trial 31 with value: 0.572.\n",
      "[I 2024-01-31 12:02:32,803] Trial 108 finished with value: 0.466 and parameters: {'tree_size': 25, 'memory_par': 6.141760468476329, 'lin_trim_quantile': 0.7584868242260814, 'exp_rand_tree_size': True}. Best is trial 31 with value: 0.572.\n",
      "[I 2024-01-31 12:03:11,837] Trial 109 finished with value: 0.494 and parameters: {'tree_size': 19, 'memory_par': 0.054014467675182774, 'lin_trim_quantile': 0.6621182088669806, 'exp_rand_tree_size': True}. Best is trial 31 with value: 0.572.\n",
      "[I 2024-01-31 12:03:29,627] Trial 110 finished with value: 0.516 and parameters: {'tree_size': 9, 'memory_par': 0.0015281687020386118, 'lin_trim_quantile': 0.17005142919757388, 'exp_rand_tree_size': True}. Best is trial 31 with value: 0.572.\n",
      "[I 2024-01-31 12:03:54,607] Trial 111 finished with value: 0.494 and parameters: {'tree_size': 12, 'memory_par': 1.9119711926044605, 'lin_trim_quantile': 0.6967469554038017, 'exp_rand_tree_size': True}. Best is trial 31 with value: 0.572.\n",
      "[I 2024-01-31 12:04:07,673] Trial 112 finished with value: 0.484 and parameters: {'tree_size': 10, 'memory_par': 68.12492966209939, 'lin_trim_quantile': 0.7169502561345151, 'exp_rand_tree_size': True}. Best is trial 31 with value: 0.572.\n",
      "[I 2024-01-31 12:04:34,942] Trial 113 finished with value: 0.522 and parameters: {'tree_size': 14, 'memory_par': 0.014187818707468826, 'lin_trim_quantile': 0.6496155720690564, 'exp_rand_tree_size': True}. Best is trial 31 with value: 0.572.\n",
      "[I 2024-01-31 12:05:00,591] Trial 114 finished with value: 0.514 and parameters: {'tree_size': 12, 'memory_par': 0.1359072885893456, 'lin_trim_quantile': 0.7407182114177336, 'exp_rand_tree_size': True}. Best is trial 31 with value: 0.572.\n",
      "[I 2024-01-31 12:05:08,331] Trial 115 finished with value: 0.422 and parameters: {'tree_size': 2, 'memory_par': 6.8198966285506355, 'lin_trim_quantile': 0.6814319542742409, 'exp_rand_tree_size': True}. Best is trial 31 with value: 0.572.\n",
      "[I 2024-01-31 12:05:22,583] Trial 116 finished with value: 0.518 and parameters: {'tree_size': 6, 'memory_par': 0.3833220293180883, 'lin_trim_quantile': 0.5767486890969121, 'exp_rand_tree_size': True}. Best is trial 31 with value: 0.572.\n",
      "[I 2024-01-31 12:06:54,125] Trial 117 finished with value: 0.516 and parameters: {'tree_size': 91, 'memory_par': 0.004408399208166824, 'lin_trim_quantile': 0.5303878875976047, 'exp_rand_tree_size': True}. Best is trial 31 with value: 0.572.\n",
      "[I 2024-01-31 12:07:09,675] Trial 118 finished with value: 0.464 and parameters: {'tree_size': 17, 'memory_par': 17.22705208162363, 'lin_trim_quantile': 0.622884340401133, 'exp_rand_tree_size': True}. Best is trial 31 with value: 0.572.\n",
      "[I 2024-01-31 12:07:26,421] Trial 119 finished with value: 0.538 and parameters: {'tree_size': 8, 'memory_par': 0.03193735044602467, 'lin_trim_quantile': 0.7042121496531479, 'exp_rand_tree_size': True}. Best is trial 31 with value: 0.572.\n",
      "[I 2024-01-31 12:07:53,945] Trial 120 finished with value: 0.52 and parameters: {'tree_size': 15, 'memory_par': 0.0010268539709622226, 'lin_trim_quantile': 0.6592295918695074, 'exp_rand_tree_size': True}. Best is trial 31 with value: 0.572.\n",
      "[I 2024-01-31 12:08:33,994] Trial 121 finished with value: 0.476 and parameters: {'tree_size': 19, 'memory_par': 0.18241891768271426, 'lin_trim_quantile': 0.6010347021561666, 'exp_rand_tree_size': True}. Best is trial 31 with value: 0.572.\n",
      "[I 2024-01-31 12:09:08,281] Trial 122 finished with value: 0.492 and parameters: {'tree_size': 17, 'memory_par': 2.3464496396325174, 'lin_trim_quantile': 0.6456695392294683, 'exp_rand_tree_size': True}. Best is trial 31 with value: 0.572.\n",
      "[I 2024-01-31 12:09:21,173] Trial 123 finished with value: 0.462 and parameters: {'tree_size': 12, 'memory_par': 24.27348242218806, 'lin_trim_quantile': 0.677198005905206, 'exp_rand_tree_size': True}. Best is trial 31 with value: 0.572.\n",
      "[I 2024-01-31 12:09:43,090] Trial 124 finished with value: 0.454 and parameters: {'tree_size': 10, 'memory_par': 0.6693357032810892, 'lin_trim_quantile': 0.6340811127703252, 'exp_rand_tree_size': True}. Best is trial 31 with value: 0.572.\n",
      "[I 2024-01-31 12:10:17,348] Trial 125 finished with value: 0.506 and parameters: {'tree_size': 18, 'memory_par': 0.00478073553683115, 'lin_trim_quantile': 0.7581002276616299, 'exp_rand_tree_size': False}. Best is trial 31 with value: 0.572.\n",
      "[I 2024-01-31 12:10:44,766] Trial 126 finished with value: 0.556 and parameters: {'tree_size': 14, 'memory_par': 0.009010240584114024, 'lin_trim_quantile': 0.7239261246100875, 'exp_rand_tree_size': True}. Best is trial 31 with value: 0.572.\n",
      "[I 2024-01-31 12:11:11,791] Trial 127 finished with value: 0.53 and parameters: {'tree_size': 14, 'memory_par': 0.01160412043322707, 'lin_trim_quantile': 0.7288522081520682, 'exp_rand_tree_size': True}. Best is trial 31 with value: 0.572.\n",
      "[I 2024-01-31 12:11:50,534] Trial 128 finished with value: 0.516 and parameters: {'tree_size': 22, 'memory_par': 0.002910645400992794, 'lin_trim_quantile': 0.8064408931261774, 'exp_rand_tree_size': True}. Best is trial 31 with value: 0.572.\n",
      "[I 2024-01-31 12:12:03,637] Trial 129 finished with value: 0.522 and parameters: {'tree_size': 6, 'memory_par': 0.010514619530574488, 'lin_trim_quantile': 0.7117097510266349, 'exp_rand_tree_size': True}. Best is trial 31 with value: 0.572.\n",
      "[I 2024-01-31 12:12:26,466] Trial 130 finished with value: 0.518 and parameters: {'tree_size': 11, 'memory_par': 0.05210873032343705, 'lin_trim_quantile': 0.7859644816914696, 'exp_rand_tree_size': True}. Best is trial 31 with value: 0.572.\n",
      "[I 2024-01-31 12:12:55,865] Trial 131 finished with value: 0.556 and parameters: {'tree_size': 15, 'memory_par': 0.023030605984786155, 'lin_trim_quantile': 0.6935758167702388, 'exp_rand_tree_size': True}. Best is trial 31 with value: 0.572.\n",
      "[I 2024-01-31 12:13:25,219] Trial 132 finished with value: 0.512 and parameters: {'tree_size': 15, 'memory_par': 0.018440437496015826, 'lin_trim_quantile': 0.688621728022801, 'exp_rand_tree_size': True}. Best is trial 31 with value: 0.572.\n",
      "[I 2024-01-31 12:13:52,341] Trial 133 finished with value: 0.526 and parameters: {'tree_size': 13, 'memory_par': 0.06686073686838642, 'lin_trim_quantile': 0.7442248437694262, 'exp_rand_tree_size': True}. Best is trial 31 with value: 0.572.\n",
      "[I 2024-01-31 12:14:08,553] Trial 134 finished with value: 0.492 and parameters: {'tree_size': 8, 'memory_par': 0.006984087504086683, 'lin_trim_quantile': 0.6605705461497883, 'exp_rand_tree_size': True}. Best is trial 31 with value: 0.572.\n",
      "[I 2024-01-31 12:14:38,071] Trial 135 finished with value: 0.514 and parameters: {'tree_size': 16, 'memory_par': 0.0026283328025794857, 'lin_trim_quantile': 0.7028925697259779, 'exp_rand_tree_size': True}. Best is trial 31 with value: 0.572.\n",
      "[I 2024-01-31 12:14:59,760] Trial 136 finished with value: 0.502 and parameters: {'tree_size': 10, 'memory_par': 0.2740584838240738, 'lin_trim_quantile': 0.7251700360235188, 'exp_rand_tree_size': True}. Best is trial 31 with value: 0.572.\n",
      "[I 2024-01-31 12:16:07,668] Trial 137 finished with value: 0.526 and parameters: {'tree_size': 41, 'memory_par': 0.026700047022696658, 'lin_trim_quantile': 0.08128855223243929, 'exp_rand_tree_size': True}. Best is trial 31 with value: 0.572.\n",
      "[I 2024-01-31 12:16:49,110] Trial 138 finished with value: 0.502 and parameters: {'tree_size': 20, 'memory_par': 0.09504849169164847, 'lin_trim_quantile': 0.6789939929577758, 'exp_rand_tree_size': True}. Best is trial 31 with value: 0.572.\n",
      "[I 2024-01-31 12:16:59,188] Trial 139 finished with value: 0.512 and parameters: {'tree_size': 4, 'memory_par': 0.0070583345938271605, 'lin_trim_quantile': 0.7641407908859043, 'exp_rand_tree_size': True}. Best is trial 31 with value: 0.572.\n",
      "[I 2024-01-31 12:17:24,323] Trial 140 finished with value: 0.47 and parameters: {'tree_size': 12, 'memory_par': 0.7215651818584025, 'lin_trim_quantile': 0.6970463211563073, 'exp_rand_tree_size': False}. Best is trial 31 with value: 0.572.\n",
      "[I 2024-01-31 12:17:56,775] Trial 141 finished with value: 0.518 and parameters: {'tree_size': 18, 'memory_par': 0.0010732601314670798, 'lin_trim_quantile': 0.5887521674616125, 'exp_rand_tree_size': True}. Best is trial 31 with value: 0.572.\n",
      "[I 2024-01-31 12:18:22,861] Trial 142 finished with value: 0.508 and parameters: {'tree_size': 14, 'memory_par': 0.0021462702653846743, 'lin_trim_quantile': 0.6328542696338552, 'exp_rand_tree_size': True}. Best is trial 31 with value: 0.572.\n",
      "[I 2024-01-31 12:18:41,575] Trial 143 finished with value: 0.524 and parameters: {'tree_size': 9, 'memory_par': 0.02052692542624646, 'lin_trim_quantile': 0.6112038246753189, 'exp_rand_tree_size': True}. Best is trial 31 with value: 0.572.\n",
      "[I 2024-01-31 12:19:06,932] Trial 144 finished with value: 0.454 and parameters: {'tree_size': 16, 'memory_par': 3.0373585959295477, 'lin_trim_quantile': 0.6631352793575443, 'exp_rand_tree_size': True}. Best is trial 31 with value: 0.572.\n",
      "[I 2024-01-31 12:19:31,252] Trial 145 finished with value: 0.492 and parameters: {'tree_size': 11, 'memory_par': 0.37828614498039886, 'lin_trim_quantile': 0.7325510367443386, 'exp_rand_tree_size': True}. Best is trial 31 with value: 0.572.\n",
      "[I 2024-01-31 12:20:01,963] Trial 146 finished with value: 0.472 and parameters: {'tree_size': 14, 'memory_par': 1.1511394451559716, 'lin_trim_quantile': 0.6838214983912032, 'exp_rand_tree_size': True}. Best is trial 31 with value: 0.572.\n",
      "[I 2024-01-31 12:20:13,152] Trial 147 finished with value: 0.482 and parameters: {'tree_size': 7, 'memory_par': 96.24870252431747, 'lin_trim_quantile': 0.2372697534000745, 'exp_rand_tree_size': True}. Best is trial 31 with value: 0.572.\n",
      "[I 2024-01-31 12:21:42,197] Trial 148 finished with value: 0.502 and parameters: {'tree_size': 59, 'memory_par': 0.039681460256080686, 'lin_trim_quantile': 0.6411941258066168, 'exp_rand_tree_size': True}. Best is trial 31 with value: 0.572.\n",
      "[I 2024-01-31 12:22:24,055] Trial 149 finished with value: 0.516 and parameters: {'tree_size': 20, 'memory_par': 0.12378870925242057, 'lin_trim_quantile': 0.7484569865711218, 'exp_rand_tree_size': True}. Best is trial 31 with value: 0.572.\n",
      "[I 2024-01-31 12:23:10,018] Trial 150 finished with value: 0.5 and parameters: {'tree_size': 23, 'memory_par': 0.06877997099342306, 'lin_trim_quantile': 0.5669907953886213, 'exp_rand_tree_size': True}. Best is trial 31 with value: 0.572.\n",
      "[I 2024-01-31 12:23:37,741] Trial 151 finished with value: 0.522 and parameters: {'tree_size': 13, 'memory_par': 0.23069411993632186, 'lin_trim_quantile': 0.6152616178610892, 'exp_rand_tree_size': True}. Best is trial 31 with value: 0.572.\n",
      "[I 2024-01-31 12:24:12,531] Trial 152 finished with value: 0.526 and parameters: {'tree_size': 17, 'memory_par': 0.004262977653892083, 'lin_trim_quantile': 0.6679170932343976, 'exp_rand_tree_size': True}. Best is trial 31 with value: 0.572.\n",
      "[I 2024-01-31 12:24:37,689] Trial 153 finished with value: 0.464 and parameters: {'tree_size': 12, 'memory_par': 4.158376508086033, 'lin_trim_quantile': 0.7110793025283679, 'exp_rand_tree_size': True}. Best is trial 31 with value: 0.572.\n",
      "[I 2024-01-31 12:25:00,859] Trial 154 finished with value: 0.534 and parameters: {'tree_size': 9, 'memory_par': 0.007890571103143227, 'lin_trim_quantile': 0.6370529426003182, 'exp_rand_tree_size': True}. Best is trial 31 with value: 0.572.\n",
      "[I 2024-01-31 12:25:21,155] Trial 155 finished with value: 0.494 and parameters: {'tree_size': 16, 'memory_par': 41.59029595959929, 'lin_trim_quantile': 0.6946554661043792, 'exp_rand_tree_size': True}. Best is trial 31 with value: 0.572.\n",
      "[I 2024-01-31 12:25:41,435] Trial 156 finished with value: 0.5 and parameters: {'tree_size': 11, 'memory_par': 8.017730203846172, 'lin_trim_quantile': 0.48043980122542285, 'exp_rand_tree_size': True}. Best is trial 31 with value: 0.572.\n",
      "[I 2024-01-31 12:26:16,797] Trial 157 finished with value: 0.544 and parameters: {'tree_size': 14, 'memory_par': 0.016361647301650246, 'lin_trim_quantile': 0.6576430023257497, 'exp_rand_tree_size': True}. Best is trial 31 with value: 0.572.\n",
      "[I 2024-01-31 12:27:01,320] Trial 158 finished with value: 0.512 and parameters: {'tree_size': 18, 'memory_par': 0.001361677723864189, 'lin_trim_quantile': 0.34403745857097257, 'exp_rand_tree_size': True}. Best is trial 31 with value: 0.572.\n",
      "[I 2024-01-31 12:27:28,025] Trial 159 finished with value: 0.46 and parameters: {'tree_size': 8, 'memory_par': 1.0523985651059795, 'lin_trim_quantile': 0.7191229757153146, 'exp_rand_tree_size': True}. Best is trial 31 with value: 0.572.\n",
      "[I 2024-01-31 12:27:44,548] Trial 160 finished with value: 0.508 and parameters: {'tree_size': 5, 'memory_par': 0.0036553813008753755, 'lin_trim_quantile': 0.5446549850913209, 'exp_rand_tree_size': True}. Best is trial 31 with value: 0.572.\n",
      "[I 2024-01-31 12:28:17,804] Trial 161 finished with value: 0.46 and parameters: {'tree_size': 11, 'memory_par': 0.5153848819225536, 'lin_trim_quantile': 0.6957765158238322, 'exp_rand_tree_size': True}. Best is trial 31 with value: 0.572.\n",
      "[I 2024-01-31 12:28:55,422] Trial 162 finished with value: 0.496 and parameters: {'tree_size': 13, 'memory_par': 0.1766225636332785, 'lin_trim_quantile': 0.6738719119530634, 'exp_rand_tree_size': True}. Best is trial 31 with value: 0.572.\n",
      "[I 2024-01-31 12:30:11,911] Trial 163 finished with value: 0.524 and parameters: {'tree_size': 35, 'memory_par': 0.0017802187968009968, 'lin_trim_quantile': 0.7094034415374305, 'exp_rand_tree_size': True}. Best is trial 31 with value: 0.572.\n",
      "[I 2024-01-31 12:30:37,513] Trial 164 finished with value: 0.52 and parameters: {'tree_size': 10, 'memory_par': 0.024438871665818564, 'lin_trim_quantile': 0.6490351330200348, 'exp_rand_tree_size': True}. Best is trial 31 with value: 0.572.\n",
      "[I 2024-01-31 12:31:15,933] Trial 165 finished with value: 0.53 and parameters: {'tree_size': 15, 'memory_par': 0.04215082391079654, 'lin_trim_quantile': 0.6171011706136958, 'exp_rand_tree_size': True}. Best is trial 31 with value: 0.572.\n",
      "[I 2024-01-31 12:31:48,845] Trial 166 finished with value: 0.53 and parameters: {'tree_size': 13, 'memory_par': 0.012047199905214707, 'lin_trim_quantile': 0.7335831754269767, 'exp_rand_tree_size': True}. Best is trial 31 with value: 0.572.\n",
      "[I 2024-01-31 12:32:09,106] Trial 167 finished with value: 0.544 and parameters: {'tree_size': 7, 'memory_par': 0.09359399339177468, 'lin_trim_quantile': 0.7782911070009856, 'exp_rand_tree_size': False}. Best is trial 31 with value: 0.572.\n",
      "[I 2024-01-31 12:32:52,186] Trial 168 finished with value: 0.526 and parameters: {'tree_size': 16, 'memory_par': 0.005604445586364397, 'lin_trim_quantile': 0.6833052775995041, 'exp_rand_tree_size': True}. Best is trial 31 with value: 0.572.\n",
      "[I 2024-01-31 12:33:06,890] Trial 169 finished with value: 0.486 and parameters: {'tree_size': 9, 'memory_par': 13.260093811014833, 'lin_trim_quantile': 0.5906255517015265, 'exp_rand_tree_size': True}. Best is trial 31 with value: 0.572.\n",
      "[I 2024-01-31 12:33:32,510] Trial 170 finished with value: 0.564 and parameters: {'tree_size': 11, 'memory_par': 0.0028988576377833608, 'lin_trim_quantile': 0.7174963607241591, 'exp_rand_tree_size': True}. Best is trial 31 with value: 0.572.\n",
      "[I 2024-01-31 12:34:02,220] Trial 171 finished with value: 0.56 and parameters: {'tree_size': 11, 'memory_par': 0.00894868642207554, 'lin_trim_quantile': 0.7573024472400802, 'exp_rand_tree_size': True}. Best is trial 31 with value: 0.572.\n",
      "[I 2024-01-31 12:34:32,789] Trial 172 finished with value: 0.544 and parameters: {'tree_size': 12, 'memory_par': 0.0028044237482962478, 'lin_trim_quantile': 0.7454867936445522, 'exp_rand_tree_size': True}. Best is trial 31 with value: 0.572.\n",
      "[I 2024-01-31 12:35:10,268] Trial 173 finished with value: 0.514 and parameters: {'tree_size': 15, 'memory_par': 0.008854702663064349, 'lin_trim_quantile': 0.7653109018287253, 'exp_rand_tree_size': True}. Best is trial 31 with value: 0.572.\n",
      "[I 2024-01-31 12:35:36,556] Trial 174 finished with value: 0.522 and parameters: {'tree_size': 10, 'memory_par': 0.01341341442901775, 'lin_trim_quantile': 0.7149968942526415, 'exp_rand_tree_size': True}. Best is trial 31 with value: 0.572.\n",
      "[I 2024-01-31 12:36:14,695] Trial 175 finished with value: 0.53 and parameters: {'tree_size': 18, 'memory_par': 0.002088588431695699, 'lin_trim_quantile': 0.6593697950687263, 'exp_rand_tree_size': True}. Best is trial 31 with value: 0.572.\n",
      "[I 2024-01-31 12:36:45,626] Trial 176 finished with value: 0.544 and parameters: {'tree_size': 13, 'memory_par': 0.005578448051201762, 'lin_trim_quantile': 0.7264101507300259, 'exp_rand_tree_size': True}. Best is trial 31 with value: 0.572.\n",
      "[I 2024-01-31 12:37:12,579] Trial 177 finished with value: 0.554 and parameters: {'tree_size': 11, 'memory_par': 0.0035609544273768746, 'lin_trim_quantile': 0.6831811744761564, 'exp_rand_tree_size': True}. Best is trial 31 with value: 0.572.\n",
      "[I 2024-01-31 12:37:29,799] Trial 178 finished with value: 0.52 and parameters: {'tree_size': 6, 'memory_par': 0.0034981760428144213, 'lin_trim_quantile': 0.6904631086648672, 'exp_rand_tree_size': True}. Best is trial 31 with value: 0.572.\n",
      "[I 2024-01-31 12:37:51,770] Trial 179 finished with value: 0.508 and parameters: {'tree_size': 8, 'memory_par': 0.009839945916436815, 'lin_trim_quantile': 0.8204365870136433, 'exp_rand_tree_size': True}. Best is trial 31 with value: 0.572.\n",
      "[I 2024-01-31 12:38:21,433] Trial 180 finished with value: 0.54 and parameters: {'tree_size': 11, 'memory_par': 0.001511545389952306, 'lin_trim_quantile': 0.7950415863417005, 'exp_rand_tree_size': True}. Best is trial 31 with value: 0.572.\n",
      "[I 2024-01-31 12:38:55,674] Trial 181 finished with value: 0.542 and parameters: {'tree_size': 14, 'memory_par': 0.028042408472272684, 'lin_trim_quantile': 0.6733823209754687, 'exp_rand_tree_size': True}. Best is trial 31 with value: 0.572.\n",
      "[I 2024-01-31 12:39:24,980] Trial 182 finished with value: 0.546 and parameters: {'tree_size': 12, 'memory_par': 0.006308232507310541, 'lin_trim_quantile': 0.6360906516008881, 'exp_rand_tree_size': True}. Best is trial 31 with value: 0.572.\n",
      "[I 2024-01-31 12:40:04,294] Trial 183 finished with value: 0.518 and parameters: {'tree_size': 16, 'memory_par': 0.0010818650865568123, 'lin_trim_quantile': 0.7510975504218093, 'exp_rand_tree_size': True}. Best is trial 31 with value: 0.572.\n",
      "[I 2024-01-31 12:40:32,482] Trial 184 finished with value: 0.54 and parameters: {'tree_size': 10, 'memory_par': 0.019189997102726047, 'lin_trim_quantile': 0.7051906809481345, 'exp_rand_tree_size': True}. Best is trial 31 with value: 0.572.\n",
      "[I 2024-01-31 12:41:09,950] Trial 185 finished with value: 0.532 and parameters: {'tree_size': 14, 'memory_par': 0.0023638994020443705, 'lin_trim_quantile': 0.6707042819884212, 'exp_rand_tree_size': True}. Best is trial 31 with value: 0.572.\n",
      "[I 2024-01-31 12:43:11,169] Trial 186 finished with value: 0.54 and parameters: {'tree_size': 46, 'memory_par': 0.0038459228980391095, 'lin_trim_quantile': 0.42698947249115216, 'exp_rand_tree_size': True}. Best is trial 31 with value: 0.572.\n",
      "[I 2024-01-31 12:43:37,484] Trial 187 finished with value: 0.54 and parameters: {'tree_size': 9, 'memory_par': 0.01488767973700874, 'lin_trim_quantile': 0.6942653554503906, 'exp_rand_tree_size': True}. Best is trial 31 with value: 0.572.\n",
      "[I 2024-01-31 12:44:28,495] Trial 188 finished with value: 0.54 and parameters: {'tree_size': 19, 'memory_par': 0.03898632930374783, 'lin_trim_quantile': 0.7298605536013317, 'exp_rand_tree_size': True}. Best is trial 31 with value: 0.572.\n",
      "[I 2024-01-31 12:45:00,221] Trial 189 finished with value: 0.548 and parameters: {'tree_size': 12, 'memory_par': 0.0031290553755002654, 'lin_trim_quantile': 0.6558421004418896, 'exp_rand_tree_size': True}. Best is trial 31 with value: 0.572.\n",
      "[I 2024-01-31 12:45:31,970] Trial 190 finished with value: 0.548 and parameters: {'tree_size': 12, 'memory_par': 0.002883282269490953, 'lin_trim_quantile': 0.6480120258460413, 'exp_rand_tree_size': True}. Best is trial 31 with value: 0.572.\n",
      "[I 2024-01-31 12:46:00,945] Trial 191 finished with value: 0.574 and parameters: {'tree_size': 12, 'memory_par': 0.004921332909642875, 'lin_trim_quantile': 0.6497960079452195, 'exp_rand_tree_size': True}. Best is trial 191 with value: 0.574.\n",
      "[I 2024-01-31 12:46:28,460] Trial 192 finished with value: 0.556 and parameters: {'tree_size': 11, 'memory_par': 0.004963891690005007, 'lin_trim_quantile': 0.680445911549565, 'exp_rand_tree_size': True}. Best is trial 191 with value: 0.574.\n",
      "[I 2024-01-31 12:46:49,660] Trial 193 finished with value: 0.52 and parameters: {'tree_size': 8, 'memory_par': 0.004700714314850974, 'lin_trim_quantile': 0.6902458266017267, 'exp_rand_tree_size': True}. Best is trial 191 with value: 0.574.\n",
      "[I 2024-01-31 12:47:26,204] Trial 194 finished with value: 0.498 and parameters: {'tree_size': 15, 'memory_par': 0.0074738807261992704, 'lin_trim_quantile': 0.716036523510977, 'exp_rand_tree_size': True}. Best is trial 191 with value: 0.574.\n",
      "[I 2024-01-31 12:47:54,209] Trial 195 finished with value: 0.558 and parameters: {'tree_size': 11, 'memory_par': 0.005358380434755033, 'lin_trim_quantile': 0.6780650184726048, 'exp_rand_tree_size': True}. Best is trial 191 with value: 0.574.\n",
      "[I 2024-01-31 12:48:19,300] Trial 196 finished with value: 0.534 and parameters: {'tree_size': 10, 'memory_par': 0.009929261528649206, 'lin_trim_quantile': 0.6757230053993599, 'exp_rand_tree_size': True}. Best is trial 191 with value: 0.574.\n",
      "[I 2024-01-31 12:50:04,902] Trial 197 finished with value: 0.51 and parameters: {'tree_size': 68, 'memory_par': 0.0052501836740679545, 'lin_trim_quantile': 0.7649512375894746, 'exp_rand_tree_size': True}. Best is trial 191 with value: 0.574.\n",
      "[I 2024-01-31 12:50:20,131] Trial 198 finished with value: 0.522 and parameters: {'tree_size': 5, 'memory_par': 0.00195558866564528, 'lin_trim_quantile': 0.7357494316304654, 'exp_rand_tree_size': True}. Best is trial 191 with value: 0.574.\n",
      "[I 2024-01-31 12:50:39,259] Trial 199 finished with value: 0.538 and parameters: {'tree_size': 7, 'memory_par': 0.022077915738884613, 'lin_trim_quantile': 0.7074686384585085, 'exp_rand_tree_size': True}. Best is trial 191 with value: 0.574.\n"
     ]
    }
   ],
   "source": [
    "# 3. Create a study object and optimize the objective function.\n",
    "#study = optuna.create_study(direction='minimize')\n",
    "study.optimize(objective, n_trials=100)"
   ]
  },
  {
   "cell_type": "code",
   "execution_count": null,
   "id": "97d0f576-7ec5-45a3-b10d-95050db67280",
   "metadata": {},
   "outputs": [],
   "source": []
  },
  {
   "cell_type": "code",
   "execution_count": null,
   "id": "68f99bdd-740a-45ab-ab64-f7d2e71a466b",
   "metadata": {},
   "outputs": [],
   "source": []
  }
 ],
 "metadata": {
  "kernelspec": {
   "display_name": "Python 3 (ipykernel)",
   "language": "python",
   "name": "python3"
  },
  "language_info": {
   "codemirror_mode": {
    "name": "ipython",
    "version": 3
   },
   "file_extension": ".py",
   "mimetype": "text/x-python",
   "name": "python",
   "nbconvert_exporter": "python",
   "pygments_lexer": "ipython3",
   "version": "3.10.12"
  }
 },
 "nbformat": 4,
 "nbformat_minor": 5
}
